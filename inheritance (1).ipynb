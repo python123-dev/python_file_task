{
  "nbformat": 4,
  "nbformat_minor": 0,
  "metadata": {
    "colab": {
      "provenance": []
    },
    "kernelspec": {
      "name": "python3",
      "display_name": "Python 3"
    }
  },
  "cells": [
    {
      "cell_type": "code",
      "metadata": {
        "id": "ZaWJWjrh4-Tx",
        "colab": {
          "base_uri": "https://localhost:8080/"
        },
        "outputId": "f2489203-c690-443b-a8eb-d2661e32a820"
      },
      "source": [
        "#single\n",
        "class base():\n",
        "  a_name=\"base\"\n",
        "  #print(a_name)\n",
        "\n",
        "class derived(base):\n",
        "  b_name=\"derived\"\n",
        "\n",
        "obj=derived()\n",
        "print(obj.a_name)\n",
        "print(obj.b_name)"
      ],
      "execution_count": null,
      "outputs": [
        {
          "output_type": "stream",
          "name": "stdout",
          "text": [
            "base\n",
            "derived\n"
          ]
        }
      ]
    },
    {
      "cell_type": "code",
      "source": [
        "#sq=l*l\n",
        "#rec=l*b\n",
        "#triangle=1/2*l*b\n"
      ],
      "metadata": {
        "id": "WrYdAjIDnH7r"
      },
      "execution_count": null,
      "outputs": []
    },
    {
      "cell_type": "code",
      "metadata": {
        "id": "-C65aGiQ6VvO",
        "colab": {
          "base_uri": "https://localhost:8080/"
        },
        "outputId": "b6db85f7-d6e0-4b87-e12a-e6b82e2e76b7"
      },
      "source": [
        "a=lambda x,y: x+y\n",
        "a(5,5)"
      ],
      "execution_count": null,
      "outputs": [
        {
          "output_type": "execute_result",
          "data": {
            "text/plain": [
              "10"
            ]
          },
          "metadata": {},
          "execution_count": 1
        }
      ]
    },
    {
      "cell_type": "code",
      "metadata": {
        "id": "iepwmPtq3Tv7",
        "colab": {
          "base_uri": "https://localhost:8080/"
        },
        "outputId": "0da63dd9-ced6-44de-a27a-2ac56002566c"
      },
      "source": [
        "class Animal:\n",
        "    def speak(self):\n",
        "        print(\"Animal Speaking\")\n",
        "#child class Dog inherits the base class Animal\n",
        "class Dog(Animal):\n",
        "    def bark(self):\n",
        "        print(\"dog barking\")\n",
        "d = Dog()\n",
        "d.bark()\n",
        "d.speak()"
      ],
      "execution_count": null,
      "outputs": [
        {
          "output_type": "stream",
          "text": [
            "dog barking\n",
            "Animal Speaking\n"
          ],
          "name": "stdout"
        }
      ]
    },
    {
      "cell_type": "code",
      "metadata": {
        "id": "atvY8mYSk3Bj",
        "colab": {
          "base_uri": "https://localhost:8080/"
        },
        "outputId": "0ffbaf86-5126-4e3e-a621-7094e2e8cb1b"
      },
      "source": [
        "class Robot:\n",
        "\n",
        "    def __init__(self, name='ram'):\n",
        "        self.name = name\n",
        "\n",
        "    def say_hi(self):\n",
        "        print(\"Hi, I am \" + self.name)\n",
        "\n",
        "class PhysicianRobot(Robot):\n",
        "    pass\n",
        "\n",
        "#x = Robot(\"Marvin\")\n",
        "y = PhysicianRobot(\"James\")\n",
        "\n",
        "#print(x, type(x))\n",
        "#print(y, type(y))\n",
        "\n",
        "y.say_hi()\n",
        "#x.say_hi()"
      ],
      "execution_count": null,
      "outputs": [
        {
          "output_type": "stream",
          "name": "stdout",
          "text": [
            "Hi, I am James\n"
          ]
        }
      ]
    },
    {
      "cell_type": "code",
      "metadata": {
        "id": "6TM41XxcAKO3",
        "colab": {
          "base_uri": "https://localhost:8080/"
        },
        "outputId": "0ddf2b11-ea3f-4151-a14a-b43b8edb1ae4"
      },
      "source": [
        "#multilevel inheritance\n",
        "class gfather:\n",
        "  g_name=\"abc\"\n",
        "\n",
        "class father(gfather):\n",
        "  f_name=\"xyz\"\n",
        "\n",
        "class son(father):\n",
        "  son=\"son\"\n",
        "  s_name='ram'\n",
        "\n",
        "\n",
        "obj=son()\n",
        "# fobj=father()\n",
        "# fobj.s_name='raj'\n",
        "\n",
        "\n",
        "\n",
        "#print(fobj.s_name='raj')\n",
        "print(obj.g_name)\n",
        "print(\"grand_father=\",obj.g_name)\n",
        "print(\"father=\",obj.f_name)\n",
        "print(\"son=\",obj.son)"
      ],
      "execution_count": null,
      "outputs": [
        {
          "output_type": "stream",
          "name": "stdout",
          "text": [
            "abc\n",
            "grand_father= abc\n",
            "father= xyz\n",
            "son= son\n"
          ]
        }
      ]
    },
    {
      "cell_type": "code",
      "metadata": {
        "id": "GwDbHuf53mLv",
        "colab": {
          "base_uri": "https://localhost:8080/",
          "height": 68
        },
        "outputId": "def9eaa6-20c9-43ab-a1a8-8bf9ebed6e00"
      },
      "source": [
        "class Animal:\n",
        "    def speak(self):\n",
        "        print(\"Animal Speaking\")\n",
        "\n",
        "#The child class Dog inherits the base class Animal\n",
        "class Dog(Animal):\n",
        "    def bark(self):\n",
        "        print(\"dog barking\")\n",
        "\n",
        "#The child class Dogchild inherits another child class Dog\n",
        "class DogChild(Dog):\n",
        "    def eat(self):\n",
        "        print(\"Eating bread...\")\n",
        "\n",
        "d = DogChild()\n",
        "d.bark()\n",
        "d.speak()\n",
        "d.eat()"
      ],
      "execution_count": null,
      "outputs": [
        {
          "output_type": "stream",
          "text": [
            "dog barking\n",
            "Animal Speaking\n",
            "Eating bread...\n"
          ],
          "name": "stdout"
        }
      ]
    },
    {
      "cell_type": "code",
      "metadata": {
        "id": "Tgy2MTX-ByaR",
        "colab": {
          "base_uri": "https://localhost:8080/"
        },
        "outputId": "8dbe9424-b899-408e-fc41-b7e3296eb86d"
      },
      "source": [
        "#multiple inheritence\n",
        "\n",
        "class father:\n",
        "  f_name=\"abc\"\n",
        "\n",
        "class mother:\n",
        "  m_name=\"xyz\"\n",
        "\n",
        "class son(father,mother):\n",
        "  son=\"son\"\n",
        "\n",
        "\n",
        "\n",
        "obj=son()\n",
        "print(obj.m_name)\n",
        "print(obj.f_name)\n",
        "print(obj.son)"
      ],
      "execution_count": null,
      "outputs": [
        {
          "output_type": "stream",
          "name": "stdout",
          "text": [
            "xyz\n",
            "abc\n",
            "son\n"
          ]
        }
      ]
    },
    {
      "cell_type": "code",
      "metadata": {
        "id": "5FCcSkxc45L0",
        "colab": {
          "base_uri": "https://localhost:8080/"
        },
        "outputId": "0453d568-8f3a-4260-e571-c12a3129bbf1"
      },
      "source": [
        "class Calculation1:\n",
        "    def Summation(self,a,b):\n",
        "        return a+b\n",
        "class Calculation2:\n",
        "    def Multiplication(self,a,b):\n",
        "        return a*b;\n",
        "class Derived(Calculation1,Calculation2):\n",
        "    def Divide(self,a,b):\n",
        "        return a/b;\n",
        "d = Derived()\n",
        "print(d.Summation(10,20))\n",
        "print(d.Multiplication(10,20))\n",
        "print(d.Divide(10,20))"
      ],
      "execution_count": null,
      "outputs": [
        {
          "output_type": "stream",
          "text": [
            "30\n",
            "200\n",
            "0.5\n"
          ],
          "name": "stdout"
        }
      ]
    },
    {
      "cell_type": "code",
      "metadata": {
        "id": "eQVWJeelGkYF",
        "colab": {
          "base_uri": "https://localhost:8080/"
        },
        "outputId": "59de82ee-f633-461b-f7c1-f63a4aabec22"
      },
      "source": [
        "class Vehicle:\n",
        "    def general_usage(self):\n",
        "        print(\"general use: transporation\")\n",
        "\n",
        "class Car(Vehicle):\n",
        "    def __init__(self):\n",
        "        print(\"I'm car\")\n",
        "        self.wheels = 4\n",
        "        self.has_roof = True\n",
        "\n",
        "    def specific_usage(self):\n",
        "        #self.general_usage()\n",
        "        print(\"specific use: commute to work, vacation with family\")\n",
        "\n",
        "class MotorCycle(Vehicle):\n",
        "    def __init__(self):\n",
        "        print(\"I'm motor cycle\")\n",
        "        self.wheels = 2\n",
        "        self.has_roof = False\n",
        "\n",
        "    def specific_usage(self):\n",
        "        #self.general_usage()\n",
        "        print(\"specific use: road trip, racing\")\n",
        "\n",
        "\n",
        "#vehicle vobj= new car\n",
        "\n",
        "c=Car()\n",
        "c.general_usage()\n",
        "c.specific_usage()\n",
        "\n",
        "m=MotorCycle()\n",
        "m.general_usage()\n",
        "m.specific_usage()"
      ],
      "execution_count": null,
      "outputs": [
        {
          "output_type": "stream",
          "text": [
            "I'm car\n",
            "general use: transporation\n",
            "specific use: commute to work, vacation with family\n",
            "I'm motor cycle\n",
            "general use: transporation\n",
            "specific use: road trip, racing\n"
          ],
          "name": "stdout"
        }
      ]
    },
    {
      "cell_type": "code",
      "metadata": {
        "id": "Pf4BfbGsIQSW",
        "colab": {
          "base_uri": "https://localhost:8080/"
        },
        "outputId": "44044d98-1a19-404a-f301-c7d4260bb22f"
      },
      "source": [
        "class Vehicle:\n",
        "    def general_usage(self):\n",
        "        print(\"general use: transporation\")\n",
        "\n",
        "class Car(Vehicle):\n",
        "    def __init__(self):\n",
        "        print(\"I'm car\")\n",
        "        self.wheels = 4\n",
        "        self.has_roof = True\n",
        "\n",
        "    def specific_usage(self):\n",
        "        self.general_usage()\n",
        "        print(\"specific use: commute to work, vacation with family\")\n",
        "\n",
        "class MotorCycle(Vehicle):\n",
        "    def __init__(self):\n",
        "        print(\"I'm motor cycle\")\n",
        "        self.wheels = 2\n",
        "        self.has_roof = False\n",
        "\n",
        "    def specific_usage(self):\n",
        "        self.general_usage()\n",
        "        print(\"specific use: road trip, racing\")\n",
        "\n",
        "c = Car()\n",
        "c.specific_usage()\n",
        "\n",
        "\n",
        "m = MotorCycle()\n",
        "m.specific_usage()\n",
        "\n",
        "print(isinstance(c,Car))\n",
        "print(issubclass(Car,Vehicle))"
      ],
      "execution_count": null,
      "outputs": [
        {
          "output_type": "stream",
          "name": "stdout",
          "text": [
            "I'm car\n",
            "general use: transporation\n",
            "specific use: commute to work, vacation with family\n",
            "I'm motor cycle\n",
            "general use: transporation\n",
            "specific use: road trip, racing\n",
            "True\n",
            "True\n"
          ]
        }
      ]
    },
    {
      "cell_type": "code",
      "source": [
        "class Animal:\n",
        "    def __init__(self, species):\n",
        "        self.species = species\n",
        "        print(\"Animal __init__\")\n",
        "\n",
        "class Dog(Animal):\n",
        "    def __init__(self, breed):\n",
        "        super().__init__(\"Dog\")\n",
        "        self.breed = breed\n",
        "        print(\"Dog __init__\")\n",
        "\n",
        "my_dog = Dog(\"Labrador\")\n",
        "print(my_dog.breed)\n",
        "print(my_dog.species)"
      ],
      "metadata": {
        "colab": {
          "base_uri": "https://localhost:8080/"
        },
        "id": "eG8uMLqqnRLi",
        "outputId": "8e6fdea2-4e8c-45a7-cc29-59747430613a"
      },
      "execution_count": null,
      "outputs": [
        {
          "output_type": "stream",
          "name": "stdout",
          "text": [
            "Animal __init__\n",
            "Dog __init__\n",
            "Labrador\n",
            "Dog\n"
          ]
        }
      ]
    },
    {
      "cell_type": "code",
      "source": [
        "class A:\n",
        "    def __init__(self):\n",
        "        print(\"A initialized\")\n",
        "\n",
        "class B(A):\n",
        "    def __init__(self):\n",
        "        super().__init__()\n",
        "        print(\"B initialized\")\n",
        "\n",
        "class C(B):\n",
        "    def __init__(self):\n",
        "        super().__init__()\n",
        "        print(\"C initialized\")\n",
        "\n",
        "c = C()\n"
      ],
      "metadata": {
        "colab": {
          "base_uri": "https://localhost:8080/"
        },
        "id": "8B2Cwdkcuelx",
        "outputId": "3c71a713-ab90-4bfe-eeda-9dde2e54df01"
      },
      "execution_count": null,
      "outputs": [
        {
          "output_type": "stream",
          "name": "stdout",
          "text": [
            "A initialized\n",
            "B initialized\n",
            "C initialized\n"
          ]
        }
      ]
    },
    {
      "cell_type": "code",
      "source": [
        "class A:\n",
        "    def __init__(self):\n",
        "        print(\"A initialized\")\n",
        "\n",
        "class B(A):\n",
        "    def __init__(self):\n",
        "        super().__init__()\n",
        "        print(\"B initialized\")\n",
        "\n",
        "class C(B):\n",
        "    def __init__(self):\n",
        "        super().__init__()\n",
        "        print(\"C initialized\")\n",
        "\n",
        "c = C()\n",
        "help(C)"
      ],
      "metadata": {
        "colab": {
          "base_uri": "https://localhost:8080/"
        },
        "id": "NTyyB0-a71c7",
        "outputId": "83fdcb87-24a5-4336-fb93-c067446f735e"
      },
      "execution_count": null,
      "outputs": [
        {
          "output_type": "stream",
          "name": "stdout",
          "text": [
            "A initialized\n",
            "B initialized\n",
            "C initialized\n",
            "Help on class C in module __main__:\n",
            "\n",
            "class C(B)\n",
            " |  Method resolution order:\n",
            " |      C\n",
            " |      B\n",
            " |      A\n",
            " |      builtins.object\n",
            " |  \n",
            " |  Methods defined here:\n",
            " |  \n",
            " |  __init__(self)\n",
            " |      Initialize self.  See help(type(self)) for accurate signature.\n",
            " |  \n",
            " |  ----------------------------------------------------------------------\n",
            " |  Data descriptors inherited from A:\n",
            " |  \n",
            " |  __dict__\n",
            " |      dictionary for instance variables\n",
            " |  \n",
            " |  __weakref__\n",
            " |      list of weak references to the object\n",
            "\n"
          ]
        }
      ]
    },
    {
      "cell_type": "code",
      "source": [
        "class Animal:\n",
        "    def __init__(self, species):\n",
        "        self.species = species\n",
        "        print(\"Animal __init__\")\n",
        "\n",
        "class Dog(Animal):\n",
        "    def __init__(self, breed,spec):\n",
        "        self.spec=spec\n",
        "        super().__init__(spec)\n",
        "        self.breed = breed\n",
        "        print(\"Dog __init__\")\n",
        "\n",
        "my_dog = Dog(\"Labrador\",'Dog')\n",
        "print(my_dog.breed)\n",
        "print(my_dog.species)"
      ],
      "metadata": {
        "colab": {
          "base_uri": "https://localhost:8080/"
        },
        "id": "lQC-66_UmPQD",
        "outputId": "d3e09350-3e9f-426c-a2e2-0b4498232115"
      },
      "execution_count": null,
      "outputs": [
        {
          "output_type": "stream",
          "name": "stdout",
          "text": [
            "Animal __init__\n",
            "Dog __init__\n",
            "Labrador\n",
            "German\n"
          ]
        }
      ]
    },
    {
      "cell_type": "code",
      "source": [
        "class Person:\n",
        "    def __init__(self, name, age):\n",
        "        self.name = name\n",
        "        self.age = age\n",
        "\n",
        "class Employee(Person):\n",
        "    def __init__(self, name, age, emp_id):\n",
        "        super().__init__(name, age)\n",
        "        self.emp_id = emp_id\n",
        "\n",
        "emp = Employee(\"John Doe\", 30, 12345)\n",
        "print(emp.name)\n",
        "print(emp.age)\n",
        "print(emp.emp_id)\n"
      ],
      "metadata": {
        "id": "BCETNVJ1nn-J"
      },
      "execution_count": null,
      "outputs": []
    },
    {
      "cell_type": "markdown",
      "metadata": {
        "id": "Kjf5tr680LQp"
      },
      "source": [
        "The issubclass(sub,sup) method\n",
        "\n",
        "The issubclass(sub, sup) method is used to check the relationships between the specified classes. It returns true if the first class is the subclass of the second class, and false otherwise.\n",
        "\n"
      ]
    },
    {
      "cell_type": "code",
      "metadata": {
        "id": "h2n80Ltf0RKE",
        "colab": {
          "base_uri": "https://localhost:8080/"
        },
        "outputId": "26b1352b-34fd-42e5-9251-247aacd89cbe"
      },
      "source": [
        "class Calculation1():\n",
        "    def Summation(self,a,b):\n",
        "        return a+b;\n",
        "class Calculation2():\n",
        "    def Multiplication(self,a,b):\n",
        "        return a*b;\n",
        "class Derived(Calculation1,Calculation2):\n",
        "    def Divide(self,a,b):\n",
        "        return a/b;\n",
        "d = Derived()\n",
        "print(issubclass(Derived,Calculation2))\n",
        "print(issubclass(Calculation1,Calculation2))"
      ],
      "execution_count": null,
      "outputs": [
        {
          "output_type": "stream",
          "name": "stdout",
          "text": [
            "True\n",
            "False\n"
          ]
        }
      ]
    },
    {
      "cell_type": "markdown",
      "metadata": {
        "id": "wor8N4Hm0eoI"
      },
      "source": [
        "The isinstance (obj, class) method\n",
        "\n",
        "The isinstance() method is used to check the relationship between the objects and classes. It returns true if the first parameter, i.e., obj is the instance of the second parameter, i.e., class."
      ]
    },
    {
      "cell_type": "code",
      "metadata": {
        "id": "Dlu1_vqZ0iqQ",
        "colab": {
          "base_uri": "https://localhost:8080/"
        },
        "outputId": "a6ba6e8f-d112-4d7d-d5bc-0f1a51e124f9"
      },
      "source": [
        "class Calculation1:\n",
        "    def Summation(self,a,b):\n",
        "        return a+b;\n",
        "class Calculation2:\n",
        "    def Multiplication(self,a,b):\n",
        "        return a*b;\n",
        "class Derived(Calculation1,Calculation2):\n",
        "    def Divide(self,a,b):\n",
        "        return a/b;\n",
        "d = Derived()\n",
        "print(isinstance(d,Derived))\n",
        "print(isinstance(d,Calculation2))"
      ],
      "execution_count": null,
      "outputs": [
        {
          "output_type": "stream",
          "name": "stdout",
          "text": [
            "True\n",
            "True\n"
          ]
        }
      ]
    },
    {
      "cell_type": "code",
      "source": [
        "class A:\n",
        "    def __init__(self):\n",
        "        print(\"Initializing A\")\n",
        "\n",
        "class B(A):\n",
        "    def __init__(self):\n",
        "        super().__init__()  # Call A's __init_\n",
        "        print(\"Initializing B\")\n",
        "\n",
        "class C(A):\n",
        "    def __init__(self):\n",
        "        super().__init__()  # Call A's __init_\n",
        "        print(\"Initializing C\")\n",
        "\n",
        "class D(B, C):\n",
        "    def __init__(self):\n",
        "        super().__init__()  # Calls B's and then C's __init_\n",
        "        print(\"Initializing D\")\n",
        "\n",
        "# Usage\n",
        "d = D()"
      ],
      "metadata": {
        "id": "QqRE8TBZttG0",
        "colab": {
          "base_uri": "https://localhost:8080/"
        },
        "outputId": "754d478d-455e-46cd-f5c2-e920e76bbda3"
      },
      "execution_count": null,
      "outputs": [
        {
          "output_type": "stream",
          "name": "stdout",
          "text": [
            "Initializing A\n",
            "Initializing C\n",
            "Initializing B\n",
            "Initializing D\n"
          ]
        }
      ]
    },
    {
      "cell_type": "code",
      "source": [
        "class A:\n",
        "    def __init__(self):\n",
        "        print(\"Initializing A\")\n",
        "\n",
        "class B(A):\n",
        "    def __init__(self):\n",
        "        super().__init__()  # Call A's __init_\n",
        "        print(\"Initializing B\")\n",
        "\n",
        "class C(A):\n",
        "    def __init__(self):\n",
        "        super().__init__()  # Call A's __init_\n",
        "        print(\"Initializing C\")\n",
        "\n",
        "class D(B, C):\n",
        "    def __init__(self):\n",
        "        super().__init__()  # Calls B's and then C's __init_\n",
        "        print(\"Initializing D\")\n",
        "\n",
        "# Usage\n",
        "d = D()\n",
        "\n",
        "help(D)"
      ],
      "metadata": {
        "colab": {
          "base_uri": "https://localhost:8080/"
        },
        "id": "U09SYG3b8IJY",
        "outputId": "e50c4a70-f1a8-4720-b63d-c5531d7509ba"
      },
      "execution_count": null,
      "outputs": [
        {
          "output_type": "stream",
          "name": "stdout",
          "text": [
            "Initializing A\n",
            "Initializing C\n",
            "Initializing B\n",
            "Initializing D\n",
            "Help on class D in module __main__:\n",
            "\n",
            "class D(B, C)\n",
            " |  Method resolution order:\n",
            " |      D\n",
            " |      B\n",
            " |      C\n",
            " |      A\n",
            " |      builtins.object\n",
            " |  \n",
            " |  Methods defined here:\n",
            " |  \n",
            " |  __init__(self)\n",
            " |      Initialize self.  See help(type(self)) for accurate signature.\n",
            " |  \n",
            " |  ----------------------------------------------------------------------\n",
            " |  Data descriptors inherited from A:\n",
            " |  \n",
            " |  __dict__\n",
            " |      dictionary for instance variables\n",
            " |  \n",
            " |  __weakref__\n",
            " |      list of weak references to the object\n",
            "\n"
          ]
        }
      ]
    },
    {
      "cell_type": "code",
      "source": [
        "class Person:\n",
        "    def __init__(self, name, age):\n",
        "        self.name = name\n",
        "        self.age = age\n",
        "\n",
        "class Employee(Person):\n",
        "    def __init__(self, name, age, emp_id):\n",
        "        super().__init__(name, age)\n",
        "        self.emp_id = emp_id\n",
        "\n",
        "emp = Employee(\"John Doe\", 30, 12345)\n",
        "print(emp.name)\n",
        "print(emp.age)\n",
        "print(emp.emp_id)"
      ],
      "metadata": {
        "id": "GCOB7rcIeajD"
      },
      "execution_count": null,
      "outputs": []
    },
    {
      "cell_type": "code",
      "metadata": {
        "colab": {
          "base_uri": "https://localhost:8080/"
        },
        "id": "W2vNhZwIMure",
        "outputId": "a14ea218-4929-48d4-b231-7f70bcdaaf58"
      },
      "source": [
        "# program to illustrate private access modifier in a class\n",
        "\n",
        "class Geek:\n",
        "\n",
        "\t# private members\n",
        "\t__name = None\n",
        "\t__roll = None\n",
        "\t__branch = None\n",
        "\n",
        "\t# constructor\n",
        "\tdef __init__(self, name, roll, branch):\n",
        "\t\tself.__name = name\n",
        "\t\tself.__roll = roll\n",
        "\t\tself.__branch = branch\n",
        "\n",
        "\t# private member function\n",
        "\tdef __displayDetails(self):\n",
        "\n",
        "\t\t# accessing private data members\n",
        "\t\tprint(\"Name: \", self.__name)\n",
        "\t\tprint(\"Roll: \", self.__roll)\n",
        "\t\tprint(\"Branch: \", self.__branch)\n",
        "\n",
        "\t# public member function\n",
        "\tdef accessPrivateFunction(self):\n",
        "\n",
        "\t\t# accesing private member function\n",
        "\t\tself.__displayDetails()\n",
        "\n",
        "# creating object\n",
        "obj = Geek(\"R2J\", 1706256, \"Information Technology\")\n",
        "\n",
        "# calling public member function of the class\n",
        "obj.accessPrivateFunction()\n",
        "#print(\"name\",obj.__name)"
      ],
      "execution_count": null,
      "outputs": [
        {
          "output_type": "stream",
          "name": "stdout",
          "text": [
            "Name:  R2J\n",
            "Roll:  1706256\n",
            "Branch:  Information Technology\n"
          ]
        }
      ]
    },
    {
      "cell_type": "code",
      "metadata": {
        "colab": {
          "base_uri": "https://localhost:8080/"
        },
        "id": "93iepRbRr77S",
        "outputId": "80565c49-0cc4-43eb-f048-4f3c288c6861"
      },
      "source": [
        "# program to illustrate protected access modifier in a class\n",
        "\n",
        "# super class\n",
        "class Student:\n",
        "\n",
        "\t# protected data members\n",
        "\t_name = None\n",
        "\t_roll = None\n",
        "\t_branch = None\n",
        "\n",
        "\t# constructor\n",
        "\tdef __init__(self, name, roll, branch):\n",
        "\t\tself._name = name\n",
        "\t\tself._roll = roll\n",
        "\t\tself._branch = branch\n",
        "\n",
        "\t# protected member function\n",
        "\tdef _displayRollAndBranch(self):\n",
        "\n",
        "\t\t# accessing protected data members\n",
        "\t\tprint(\"Roll: \", self._roll)\n",
        "\t\tprint(\"Branch: \", self._branch)\n",
        "\n",
        "\n",
        "# derived class\n",
        "class Geek(Student):\n",
        "\n",
        "\t# constructor\n",
        "\tdef __init__(self, name, roll, branch):\n",
        "\t\t\t\tStudent.__init__(self, name, roll, branch)\n",
        "\n",
        "\t# public member function\n",
        "\tdef displayDetails(self):\n",
        "\n",
        "\t\t\t\t# accessing protected data members of super class\n",
        "\t\t\t\tprint(\"Name: \", self._name)\n",
        "\n",
        "\t\t\t\t# accessing protected member functions of super class\n",
        "\t\t\t\tself._displayRollAndBranch()\n",
        "\n",
        "# creating objects of the derived class\n",
        "obj = Geek(\"R2J\", 1706256, \"Information Technology\")\n",
        "\n",
        "# calling public member functions of the class\n",
        "obj.displayDetails()\n",
        "obj._displayRollAndBranch()\n",
        "obj._roll"
      ],
      "execution_count": null,
      "outputs": [
        {
          "output_type": "stream",
          "text": [
            "Name:  R2J\n",
            "Roll:  1706256\n",
            "Branch:  Information Technology\n",
            "Roll:  1706256\n",
            "Branch:  Information Technology\n"
          ],
          "name": "stdout"
        },
        {
          "output_type": "execute_result",
          "data": {
            "text/plain": [
              "1706256"
            ]
          },
          "metadata": {
            "tags": []
          },
          "execution_count": 1
        }
      ]
    },
    {
      "cell_type": "code",
      "metadata": {
        "colab": {
          "base_uri": "https://localhost:8080/",
          "height": 246
        },
        "id": "uULpJBBas-Bb",
        "outputId": "e5020e26-aa36-440f-affd-c432521687e0"
      },
      "source": [
        "# program to illustrate private access modifier in a class\n",
        "\n",
        "class Geek:\n",
        "\n",
        "\t# private members\n",
        "\t__name = None\n",
        "\t__roll = None\n",
        "\t__branch = None\n",
        "\n",
        "\t# constructor\n",
        "\tdef __init__(self, name, roll, branch):\n",
        "\t\tself.__name = name\n",
        "\t\tself.__roll = roll\n",
        "\t\tself.__branch = branch\n",
        "\n",
        "\t# private member function\n",
        "\tdef __displayDetails(self):\n",
        "\n",
        "\t\t# accessing private data members\n",
        "\t\tprint(\"Name: \", self.__name)\n",
        "\t\tprint(\"Roll: \", self.__roll)\n",
        "\t\tprint(\"Branch: \", self.__branch)\n",
        "\n",
        "\t# public member function\n",
        "\tdef accessPrivateFunction(self):\n",
        "\n",
        "\t\t# accesing private member function\n",
        "\t\tself.__displayDetails()\n",
        "\n",
        "class test(Geek):\n",
        "  pass\n",
        "\n",
        "\n",
        "obj1 = test(\"R2J\", 1706256, \"Information Technology\")\n",
        "obj1.accessPrivateFunction()\n",
        "#obj1.__roll\n",
        "#obj1.__displayDetails()\n",
        "# creating object\n",
        "#obj = Geek(\"R2J\", 1706256, \"Information Technology\")\n",
        "\n",
        "# calling public member function of the class\n",
        "obj.accessPrivateFunction()\n"
      ],
      "execution_count": null,
      "outputs": [
        {
          "output_type": "stream",
          "name": "stdout",
          "text": [
            "Name:  R2J\n",
            "Roll:  1706256\n",
            "Branch:  Information Technology\n"
          ]
        },
        {
          "output_type": "error",
          "ename": "NameError",
          "evalue": "ignored",
          "traceback": [
            "\u001b[0;31m---------------------------------------------------------------------------\u001b[0m",
            "\u001b[0;31mNameError\u001b[0m                                 Traceback (most recent call last)",
            "\u001b[0;32m<ipython-input-3-14f3c0c0654b>\u001b[0m in \u001b[0;36m<module>\u001b[0;34m()\u001b[0m\n\u001b[1;32m     40\u001b[0m \u001b[0;34m\u001b[0m\u001b[0m\n\u001b[1;32m     41\u001b[0m \u001b[0;31m# calling public member function of the class\u001b[0m\u001b[0;34m\u001b[0m\u001b[0;34m\u001b[0m\u001b[0;34m\u001b[0m\u001b[0m\n\u001b[0;32m---> 42\u001b[0;31m \u001b[0mobj\u001b[0m\u001b[0;34m.\u001b[0m\u001b[0maccessPrivateFunction\u001b[0m\u001b[0;34m(\u001b[0m\u001b[0;34m)\u001b[0m\u001b[0;34m\u001b[0m\u001b[0;34m\u001b[0m\u001b[0m\n\u001b[0m",
            "\u001b[0;31mNameError\u001b[0m: name 'obj' is not defined"
          ]
        }
      ]
    },
    {
      "cell_type": "code",
      "metadata": {
        "colab": {
          "base_uri": "https://localhost:8080/"
        },
        "id": "KfIWO1UlWiwr",
        "outputId": "1f7928a2-9d8d-44be-e772-e2d029406a62"
      },
      "source": [
        "pip install cryptography"
      ],
      "execution_count": null,
      "outputs": [
        {
          "output_type": "stream",
          "name": "stdout",
          "text": [
            "Collecting cryptography\n",
            "  Downloading cryptography-37.0.2-cp36-abi3-manylinux_2_24_x86_64.whl (4.0 MB)\n",
            "\u001b[K     |████████████████████████████████| 4.0 MB 5.2 MB/s \n",
            "\u001b[?25hRequirement already satisfied: cffi>=1.12 in /usr/local/lib/python3.7/dist-packages (from cryptography) (1.15.0)\n",
            "Requirement already satisfied: pycparser in /usr/local/lib/python3.7/dist-packages (from cffi>=1.12->cryptography) (2.21)\n",
            "Installing collected packages: cryptography\n",
            "Successfully installed cryptography-37.0.2\n"
          ]
        }
      ]
    },
    {
      "cell_type": "code",
      "metadata": {
        "colab": {
          "base_uri": "https://localhost:8080/"
        },
        "id": "xQO_qtbjWJQy",
        "outputId": "190ecc46-9ea4-44e6-a393-f41075a3c00b"
      },
      "source": [
        "#pip install cryptography\n",
        "from cryptography.fernet import Fernet\n",
        "\n",
        "# we will be encryting the below string.\n",
        "message = \"hello geeks\"\n",
        "\n",
        "# generate a key for encryptio and decryption\n",
        "# You can use fernet to generate\n",
        "# the key or use random key generator\n",
        "# here I'm using fernet to generate key\n",
        "\n",
        "key = Fernet.generate_key()\n",
        "print(key)\n",
        "# Instance the Fernet class with the key\n",
        "\n",
        "fernet = Fernet(key)\n",
        "\n",
        "# then use the Fernet class instance\n",
        "# to encrypt the string string must must\n",
        "# be encoded to byte string before encryption\n",
        "encMessage = fernet.encrypt(message.encode())\n",
        "\n",
        "print(\"original string: \", message)\n",
        "print(\"encrypted string: \", encMessage)\n",
        "\n",
        "# decrypt the encrypted string with the\n",
        "# Fernet instance of the key,\n",
        "# that was used for encrypting the string\n",
        "# encoded byte string is returned by decrypt method,\n",
        "# so decode it to string with decode methods\n",
        "decMessage = fernet.decrypt(encMessage).decode()\n",
        "\n",
        "print(\"decrypted string: \", decMessage)\n"
      ],
      "execution_count": null,
      "outputs": [
        {
          "output_type": "stream",
          "name": "stdout",
          "text": [
            "b'z5cLsyMp8Ei-0Pcxa56GVdQFEyZe6maKYfA6eCJV69U='\n",
            "original string:  hello geeks\n",
            "encrypted string:  b'gAAAAABiglmVYlCazj4ZAqI-gcpABCP-uosMbLgNkivnI06mkKSGO3rFHbweSp8E2ukvImXypuzAgDLaalpxUdTet2NrnP_7ow=='\n",
            "decrypted string:  hello geeks\n"
          ]
        }
      ]
    },
    {
      "cell_type": "code",
      "metadata": {
        "colab": {
          "base_uri": "https://localhost:8080/"
        },
        "id": "RbTRz3yzWeOs",
        "outputId": "0ec48c69-4144-4693-dc50-d7028ee23424"
      },
      "source": [
        "pip install rsa"
      ],
      "execution_count": null,
      "outputs": [
        {
          "output_type": "stream",
          "name": "stdout",
          "text": [
            "Requirement already satisfied: rsa in /usr/local/lib/python3.7/dist-packages (4.8)\n",
            "Requirement already satisfied: pyasn1>=0.1.3 in /usr/local/lib/python3.7/dist-packages (from rsa) (0.4.8)\n"
          ]
        }
      ]
    },
    {
      "cell_type": "code",
      "metadata": {
        "colab": {
          "base_uri": "https://localhost:8080/"
        },
        "id": "WY1adWAFXln3",
        "outputId": "e9af8ca1-cdbe-45c4-8158-2265fc984fc7"
      },
      "source": [
        "from cryptography.fernet import Fernet\n",
        "\n",
        "# we will be encryting the below string.\n",
        "message = \"hello geeks\"\n",
        "\n",
        "# generate a key for encryptio and decryption\n",
        "# You can use fernet to generate\n",
        "# the key or use random key generator\n",
        "# here I'm using fernet to generate key\n",
        "\n",
        "key = Fernet.generate_key()\n",
        "print(key)\n",
        "\n",
        "# Instance the Fernet class with the key\n",
        "\n",
        "fernet = Fernet(key)\n",
        "\n",
        "# then use the Fernet class instance\n",
        "# to encrypt the string string must must\n",
        "# be encoded to byte string before encryption\n",
        "encMessage = fernet.encrypt(message.encode())\n",
        "\n",
        "print(\"original string: \", message)\n",
        "print(\"encrypted string: \", encMessage)\n",
        "\n",
        "# decrypt the encrypted string with the\n",
        "# Fernet instance of the key,\n",
        "# that was used for encrypting the string\n",
        "# encoded byte string is returned by decrypt method,\n",
        "# so decode it to string with decode methods\n",
        "decMessage = fernet.decrypt(encMessage).decode()\n",
        "\n",
        "print(\"decrypted string: \", decMessage)\n"
      ],
      "execution_count": null,
      "outputs": [
        {
          "output_type": "stream",
          "name": "stdout",
          "text": [
            "b'cI-GfTUdGA9sOBZ4lS7HmgNfQoK-mAFA7OJfujChP18='\n",
            "original string:  hello geeks\n",
            "encrypted string:  b'gAAAAABhdrnmz-ACMh65xdTV70GUnua6acwKEPqfpqUkxGiDTOcXGN0x04o4JvjqnsfDUeocb06fA1Tbwf9Qk3Jmh7mgNU2hMQ=='\n",
            "decrypted string:  hello geeks\n"
          ]
        }
      ]
    },
    {
      "cell_type": "code",
      "metadata": {
        "colab": {
          "base_uri": "https://localhost:8080/"
        },
        "id": "8k_3i34cWi_u",
        "outputId": "4f8a7979-5b3a-4646-833b-b4ad2b5729b0"
      },
      "source": [
        "import rsa\n",
        "\n",
        "# generate public and private keys with\n",
        "# rsa.newkeys method,this method accepts\n",
        "# key length as its parameter\n",
        "# key length should be atleast 16\n",
        "publicKey, privateKey = rsa.newkeys(512)\n",
        "print(publicKey)\n",
        "print(privateKey)\n",
        "# this is the string that we will be encrypting\n",
        "message = \"hello geeks\"\n",
        "\n",
        "# rsa.encrypt method is used to encrypt\n",
        "# string with public key string should be\n",
        "# encode to byte string before encryption\n",
        "# with encode method\n",
        "encMessage = rsa.encrypt(message.encode(),\n",
        "\t\t\t\t\t\tpublicKey)\n",
        "\n",
        "print(\"original string: \", message)\n",
        "print(\"encrypted string: \", encMessage)\n",
        "\n",
        "# the encrypted message can be decrypted\n",
        "# with ras.decrypt method and private key\n",
        "# decrypt method returns encoded byte string,\n",
        "# use decode method to convert it to string\n",
        "# public key cannot be used for decryption\n",
        "decMessage = rsa.decrypt(encMessage, privateKey).decode()\n",
        "\n",
        "print(\"decrypted string: \", decMessage)\n"
      ],
      "execution_count": null,
      "outputs": [
        {
          "output_type": "stream",
          "name": "stdout",
          "text": [
            "PublicKey(7923405309780149189970326018960537621145297439357035715056921633776062096542337121684026872984891358401539093471968355391837121019216403834490712958254659, 65537)\n",
            "PrivateKey(7923405309780149189970326018960537621145297439357035715056921633776062096542337121684026872984891358401539093471968355391837121019216403834490712958254659, 65537, 6215696687160184783477339537769491435041610570398765890756465127114376676925326762953299979751495822316913601248634615438738207253221887618718238146914433, 4508276199058409041574196076442409281404295365705836689242778020325771347344322129, 1757524375155856300647693441472641347423326622378741292384702848586111571)\n",
            "original string:  hello geeks\n",
            "encrypted string:  b\"\\x89|k\\n\\xc5<\\xeaLh\\x00\\x83\\xdc\\x14Hd\\xa6\\x9e\\xb2sP\\xcb\\x07\\xfaq\\xdd_4\\xaf\\x83\\xd9w\\xb9\\x90H\\xba\\xcf\\xec\\xc4\\xd2%\\n'J\\x1e\\xac\\x9b\\xfc\\xb1\\xd9O\\x94N\\xae\\xd9;\\xdf\\xb7v=\\xb3a(4\\x97\"\n",
            "decrypted string:  hello geeks\n"
          ]
        }
      ]
    },
    {
      "cell_type": "code",
      "metadata": {
        "colab": {
          "base_uri": "https://localhost:8080/"
        },
        "id": "mHWzizVszVbX",
        "outputId": "8a0399cf-b2e3-4372-d432-5f2e3ab09c54"
      },
      "source": [
        "# Create an input field\n",
        "encrypt = \"apple\"\n",
        "\n",
        "# Create a dictionary to store keys\n",
        "# and values\n",
        "dict = {\"a\": \"0\", \"e\": \"1\",\n",
        "\t\t\"i\": \"2\", \"o\": \"2\",\n",
        "\t\t\"u\": \"3\"}\n",
        "\n",
        "# Reverse the string\n",
        "num = encrypt[::-1]\n",
        "\n",
        "# Replace vowels using loops\n",
        "for i in dict:\n",
        "\tnum = num.replace(i, dict[i])\n",
        "\n",
        "# f- strings which improves readability\n",
        "print(f\"{num}aca\")\n"
      ],
      "execution_count": null,
      "outputs": [
        {
          "output_type": "stream",
          "name": "stdout",
          "text": [
            "1lpp0aca\n"
          ]
        }
      ]
    },
    {
      "cell_type": "code",
      "metadata": {
        "colab": {
          "base_uri": "https://localhost:8080/",
          "height": 35
        },
        "id": "gRGyF4lR0XzQ",
        "outputId": "8d6ab3a7-c47a-4300-bbaf-dc131b82d8fa"
      },
      "source": [
        "msg=ord('a')\n",
        "enc=msg+5\n",
        "chr(enc)\n"
      ],
      "execution_count": null,
      "outputs": [
        {
          "output_type": "execute_result",
          "data": {
            "application/vnd.google.colaboratory.intrinsic+json": {
              "type": "string"
            },
            "text/plain": [
              "'f'"
            ]
          },
          "metadata": {},
          "execution_count": 11
        }
      ]
    },
    {
      "cell_type": "code",
      "metadata": {
        "colab": {
          "base_uri": "https://localhost:8080/",
          "height": 35
        },
        "id": "4UkWu8w40pfS",
        "outputId": "bced8a0a-5533-4535-9d82-e7158eba6ee6"
      },
      "source": [
        "dec=enc-5\n",
        "chr(dec)"
      ],
      "execution_count": null,
      "outputs": [
        {
          "output_type": "execute_result",
          "data": {
            "application/vnd.google.colaboratory.intrinsic+json": {
              "type": "string"
            },
            "text/plain": [
              "'a'"
            ]
          },
          "metadata": {},
          "execution_count": 12
        }
      ]
    },
    {
      "cell_type": "code",
      "metadata": {
        "id": "LzqmFW_91Db7",
        "outputId": "079b0295-0aa5-40b4-c166-5e5ef17795a3",
        "colab": {
          "base_uri": "https://localhost:8080/"
        }
      },
      "source": [
        "ord('$')"
      ],
      "execution_count": null,
      "outputs": [
        {
          "output_type": "execute_result",
          "data": {
            "text/plain": [
              "36"
            ]
          },
          "metadata": {},
          "execution_count": 13
        }
      ]
    }
  ]
}
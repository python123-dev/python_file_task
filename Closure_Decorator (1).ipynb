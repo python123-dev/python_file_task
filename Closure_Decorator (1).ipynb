{
  "nbformat": 4,
  "nbformat_minor": 0,
  "metadata": {
    "colab": {
      "provenance": []
    },
    "kernelspec": {
      "name": "python3",
      "display_name": "Python 3"
    },
    "language_info": {
      "name": "python"
    }
  },
  "cells": [
    {
      "cell_type": "code",
      "execution_count": null,
      "metadata": {
        "colab": {
          "base_uri": "https://localhost:8080/"
        },
        "id": "m6KqtKB0n57O",
        "outputId": "83949621-5b3e-412d-d69d-68d603494880"
      },
      "outputs": [
        {
          "output_type": "stream",
          "name": "stdout",
          "text": [
            "<function square at 0x7ac1a82a3600>\n",
            "25\n"
          ]
        }
      ],
      "source": [
        "# first class function\n",
        "\n",
        "\n",
        "def square(num):\n",
        "  return num*num\n",
        "\n",
        "\n",
        "f=square(5)\n",
        "\n",
        "print(square)\n",
        "print(f)"
      ]
    },
    {
      "cell_type": "code",
      "source": [
        "f(5)"
      ],
      "metadata": {
        "colab": {
          "base_uri": "https://localhost:8080/",
          "height": 141
        },
        "id": "_biOfi8apl7E",
        "outputId": "930e6f94-706a-4307-fa37-d132009104c9"
      },
      "execution_count": null,
      "outputs": [
        {
          "output_type": "error",
          "ename": "TypeError",
          "evalue": "'int' object is not callable",
          "traceback": [
            "\u001b[0;31m---------------------------------------------------------------------------\u001b[0m",
            "\u001b[0;31mTypeError\u001b[0m                                 Traceback (most recent call last)",
            "\u001b[0;32m<ipython-input-2-fb48ebfde7ea>\u001b[0m in \u001b[0;36m<cell line: 0>\u001b[0;34m()\u001b[0m\n\u001b[0;32m----> 1\u001b[0;31m \u001b[0mf\u001b[0m\u001b[0;34m(\u001b[0m\u001b[0;36m5\u001b[0m\u001b[0;34m)\u001b[0m\u001b[0;34m\u001b[0m\u001b[0;34m\u001b[0m\u001b[0m\n\u001b[0m",
            "\u001b[0;31mTypeError\u001b[0m: 'int' object is not callable"
          ]
        }
      ]
    },
    {
      "cell_type": "code",
      "source": [
        "def square(num):\n",
        "  return num*num\n",
        "\n",
        "\n",
        "f=square\n",
        "\n",
        "print(square)\n",
        "print(f)"
      ],
      "metadata": {
        "colab": {
          "base_uri": "https://localhost:8080/"
        },
        "id": "QAwg-XI5pqDa",
        "outputId": "4fd6d9ed-d480-4c57-8dad-d8954c7b6e41"
      },
      "execution_count": null,
      "outputs": [
        {
          "output_type": "stream",
          "name": "stdout",
          "text": [
            "<function square at 0x7ac1a82a0cc0>\n",
            "<function square at 0x7ac1a82a0cc0>\n"
          ]
        }
      ]
    },
    {
      "cell_type": "code",
      "source": [
        "f(5)"
      ],
      "metadata": {
        "colab": {
          "base_uri": "https://localhost:8080/"
        },
        "id": "0hjaadQVpwF8",
        "outputId": "a963abf5-f8df-41bc-872c-faac4d1f0e4b"
      },
      "execution_count": null,
      "outputs": [
        {
          "output_type": "execute_result",
          "data": {
            "text/plain": [
              "25"
            ]
          },
          "metadata": {},
          "execution_count": 4
        }
      ]
    },
    {
      "cell_type": "code",
      "source": [
        "def my_map(func,arr):\n",
        "  result=[]\n",
        "  for i in arr:\n",
        "    result.append(func(i))\n",
        "  return result\n",
        "\n",
        "\n",
        "squares=my_map(square,[1,2,3,4,5])\n",
        "print(squares)\n"
      ],
      "metadata": {
        "colab": {
          "base_uri": "https://localhost:8080/"
        },
        "id": "YOkMym8qpxPc",
        "outputId": "599fc3d8-30c4-4dc5-8c80-0df4083df990"
      },
      "execution_count": null,
      "outputs": [
        {
          "output_type": "stream",
          "name": "stdout",
          "text": [
            "[1, 4, 9, 16, 25]\n"
          ]
        }
      ]
    },
    {
      "cell_type": "code",
      "source": [
        "def cube(num):\n",
        "  return num*num*num\n",
        "\n",
        "cubes=my_map(cube,[1,2,3,4,5])\n",
        "print(cubes)"
      ],
      "metadata": {
        "colab": {
          "base_uri": "https://localhost:8080/"
        },
        "id": "YJgAQ-2_qCT7",
        "outputId": "0a970dae-e1e3-45e9-99b2-bded7fa12c57"
      },
      "execution_count": null,
      "outputs": [
        {
          "output_type": "stream",
          "name": "stdout",
          "text": [
            "[1, 8, 27, 64, 125]\n"
          ]
        }
      ]
    },
    {
      "cell_type": "code",
      "source": [
        "def logger(msg):\n",
        "  def log_message():\n",
        "    print('Log:',msg)\n",
        "  return log_message\n",
        "\n",
        "log_hi=logger('Hi')\n",
        "log_hi()"
      ],
      "metadata": {
        "colab": {
          "base_uri": "https://localhost:8080/"
        },
        "id": "Z6NDFqJsqEcm",
        "outputId": "19a68a0e-f8c2-4b48-b645-e4230e0d980e"
      },
      "execution_count": null,
      "outputs": [
        {
          "output_type": "stream",
          "name": "stdout",
          "text": [
            "Log: Hi\n"
          ]
        }
      ]
    },
    {
      "cell_type": "code",
      "source": [
        "def logger(msg):\n",
        "  def log_message(name):\n",
        "    print('Log:',msg,'from:', name)\n",
        "  return log_message\n",
        "\n",
        "log_hi=logger('Hi')\n",
        "log_hi('abc')\n",
        "\n",
        "\n",
        "\n",
        "log_welcome=logger('Welcome')\n",
        "log_welcome('xyz')\n",
        "\n",
        "\n",
        "log_hi('ram')"
      ],
      "metadata": {
        "colab": {
          "base_uri": "https://localhost:8080/"
        },
        "id": "ihq_58xuuGaR",
        "outputId": "972c413a-d050-4282-fed7-cdf8bf2329f9"
      },
      "execution_count": null,
      "outputs": [
        {
          "output_type": "stream",
          "name": "stdout",
          "text": [
            "Log: Hi from: abc\n",
            "Log: Welcome from: xyz\n",
            "Log: Hi from: ram\n"
          ]
        }
      ]
    },
    {
      "cell_type": "code",
      "source": [
        "def html_tag(tag):\n",
        "  def wrap_text(msg):\n",
        "    print('<{0}>{1}</{0}>'.format(tag,msg))\n",
        "  return wrap_text\n",
        "\n",
        "print_h1=html_tag('h1')\n",
        "print_h1('Test Headline')\n",
        "print_h1('Another Headline')\n",
        "\n",
        "print_p=html_tag('p')\n",
        "print_p('Test Paragraph')"
      ],
      "metadata": {
        "colab": {
          "base_uri": "https://localhost:8080/"
        },
        "id": "qKnd-ymluUFr",
        "outputId": "ef16415e-4dcd-40cb-da43-5e51f6351087"
      },
      "execution_count": null,
      "outputs": [
        {
          "output_type": "stream",
          "name": "stdout",
          "text": [
            "<h1>Test Headline</h1>\n",
            "<h1>Another Headline</h1>\n",
            "<p>Test Paragraph</p>\n"
          ]
        }
      ]
    },
    {
      "cell_type": "code",
      "source": [
        "def outer_func():\n",
        "  message='Hi'\n",
        "\n",
        "  def inner_func():\n",
        "    print(message)\n",
        "  return inner_func\n",
        "\n",
        "my_func=outer_func()\n",
        "print(my_func.__name__)\n",
        "\n",
        "my_func()\n",
        "my_func()\n",
        "my_func()"
      ],
      "metadata": {
        "colab": {
          "base_uri": "https://localhost:8080/"
        },
        "id": "7fgrwSF34IyM",
        "outputId": "75130f7a-f5b6-4c52-aa55-92c806abf8f4"
      },
      "execution_count": null,
      "outputs": [
        {
          "output_type": "stream",
          "name": "stdout",
          "text": [
            "inner_func\n",
            "Hi\n",
            "Hi\n",
            "Hi\n"
          ]
        }
      ]
    },
    {
      "cell_type": "code",
      "source": [
        "#closure\n",
        "\n",
        "def outer_func(msg):\n",
        "  message=msg\n",
        "\n",
        "  def inner_func():\n",
        "    print(message)\n",
        "  return inner_func\n",
        "\n",
        "hi_func=outer_func('Hi')\n",
        "hello_func=outer_func('Hello')\n",
        "\n",
        "hi_func()\n",
        "hello_func()"
      ],
      "metadata": {
        "colab": {
          "base_uri": "https://localhost:8080/"
        },
        "id": "gNLkZ-t-u781",
        "outputId": "8a01c707-dbba-420e-ee4f-63c34ea908f4"
      },
      "execution_count": null,
      "outputs": [
        {
          "output_type": "stream",
          "name": "stdout",
          "text": [
            "Hi\n",
            "Hello\n"
          ]
        }
      ]
    },
    {
      "cell_type": "code",
      "source": [
        "import logging\n",
        "logging.basicConfig(filename='example.log', level=logging.INFO)\n",
        "\n",
        "\n",
        "def logger(func):\n",
        "    def log_func(*args):\n",
        "        logging.info(\n",
        "            'Running \"{}\" with arguments {}'.format(func.__name__, args))\n",
        "        print(func(*args))\n",
        "    return log_func\n",
        "\n",
        "\n",
        "def add(x, y):\n",
        "    return x+y\n",
        "\n",
        "\n",
        "def sub(x, y):\n",
        "    return x-y\n",
        "\n",
        "add_logger = logger(add)\n",
        "sub_logger = logger(sub)\n",
        "\n",
        "add_logger(3, 3)\n",
        "add_logger(4, 5)\n",
        "\n",
        "sub_logger(10, 5)\n",
        "sub_logger(20, 10)"
      ],
      "metadata": {
        "colab": {
          "base_uri": "https://localhost:8080/"
        },
        "id": "sVxhu6Mv4wLz",
        "outputId": "2ff94ef7-3abc-459a-989e-f51321a5f47f"
      },
      "execution_count": null,
      "outputs": [
        {
          "output_type": "stream",
          "name": "stdout",
          "text": [
            "6\n",
            "9\n",
            "5\n",
            "10\n"
          ]
        }
      ]
    },
    {
      "cell_type": "code",
      "source": [
        "#decorators\n",
        "\n",
        "def decorator_function(original_function):\n",
        "  def wrapper_function():\n",
        "    print('wrapper executed this before ',original_function.__name__)\n",
        "    return original_function()\n",
        "  return wrapper_function\n",
        "\n",
        "\n",
        "def display():\n",
        "  print('display function ran')\n",
        "\n",
        "decorated_display=decorator_function(display)\n",
        "decorated_display()"
      ],
      "metadata": {
        "colab": {
          "base_uri": "https://localhost:8080/"
        },
        "id": "BtG2jUOZ5nGq",
        "outputId": "dbf805b4-a297-402d-dbb7-49793cdb5d37"
      },
      "execution_count": null,
      "outputs": [
        {
          "output_type": "stream",
          "name": "stdout",
          "text": [
            "wrapper executed this before  display\n",
            "display function ran\n"
          ]
        }
      ]
    },
    {
      "cell_type": "code",
      "source": [
        "#decorators\n",
        "\n",
        "def decorator_function(original_function):\n",
        "  def wrapper_function():\n",
        "    print('wrapper executed this before {}'.format(original_function.__name__))\n",
        "    return original_function()\n",
        "  return wrapper_function\n",
        "\n",
        "@decorator_function\n",
        "def display():\n",
        "  print('display function ran')\n",
        "\n",
        "display()"
      ],
      "metadata": {
        "colab": {
          "base_uri": "https://localhost:8080/"
        },
        "id": "yWqptNmQ5nKS",
        "outputId": "30dc354a-c466-4727-db09-79b5e645b94c"
      },
      "execution_count": null,
      "outputs": [
        {
          "output_type": "stream",
          "name": "stdout",
          "text": [
            "wrapper executed this before display\n",
            "display function ran\n"
          ]
        }
      ]
    },
    {
      "cell_type": "code",
      "source": [
        "# code for testing decorator chaining\n",
        "def decor1(func):\n",
        "    def inner():\n",
        "        x = func()\n",
        "        return x * x\n",
        "    return inner\n",
        "\n",
        "def decor(func):\n",
        "    def inner():\n",
        "        x = func()\n",
        "        return 2 * x\n",
        "    return inner\n",
        "\n",
        "@decor1\n",
        "@decor\n",
        "def num():\n",
        "    return 10\n",
        "\n",
        "print(num())\n",
        "\n",
        "\n",
        "\n"
      ],
      "metadata": {
        "colab": {
          "base_uri": "https://localhost:8080/"
        },
        "id": "m4k0BWru6fxf",
        "outputId": "7924667a-2841-4b2c-b7de-52a3cbe8a3f9"
      },
      "execution_count": null,
      "outputs": [
        {
          "output_type": "stream",
          "name": "stdout",
          "text": [
            "400\n"
          ]
        }
      ]
    },
    {
      "cell_type": "code",
      "source": [
        "\n",
        "@decor\n",
        "@decor1\n",
        "def num():\n",
        "    return 10\n",
        "\n",
        "print(num())"
      ],
      "metadata": {
        "id": "MA93T56O7Lf3",
        "colab": {
          "base_uri": "https://localhost:8080/"
        },
        "outputId": "17361026-1e98-414f-c5f7-633d87c357c2"
      },
      "execution_count": null,
      "outputs": [
        {
          "output_type": "stream",
          "name": "stdout",
          "text": [
            "200\n"
          ]
        }
      ]
    }
  ]
}
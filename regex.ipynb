{
  "nbformat": 4,
  "nbformat_minor": 0,
  "metadata": {
    "colab": {
      "provenance": []
    },
    "kernelspec": {
      "name": "python3",
      "display_name": "Python 3"
    },
    "language_info": {
      "name": "python"
    }
  },
  "cells": [
    {
      "cell_type": "code",
      "source": [
        "import re\n",
        "print(re.findall(r'a.b','abc a_b a b abs'))"
      ],
      "metadata": {
        "colab": {
          "base_uri": "https://localhost:8080/"
        },
        "id": "xWTOAQlvjTD5",
        "outputId": "4cd6118b-ad68-44d1-8170-16a08dac4dae"
      },
      "execution_count": 2,
      "outputs": [
        {
          "output_type": "stream",
          "name": "stdout",
          "text": [
            "['a_b', 'a b']\n"
          ]
        }
      ]
    },
    {
      "cell_type": "code",
      "source": [
        "print(re.findall(r'^Hello','Hello World'))"
      ],
      "metadata": {
        "colab": {
          "base_uri": "https://localhost:8080/"
        },
        "id": "N-714njqjWww",
        "outputId": "d2e4b884-c305-4852-aeb6-5b09593ca3c7"
      },
      "execution_count": 3,
      "outputs": [
        {
          "output_type": "stream",
          "name": "stdout",
          "text": [
            "['Hello']\n"
          ]
        }
      ]
    },
    {
      "cell_type": "code",
      "source": [
        "print(re.findall(r'world$','Hello World'))"
      ],
      "metadata": {
        "colab": {
          "base_uri": "https://localhost:8080/"
        },
        "id": "KlfdXzoyjW0L",
        "outputId": "ec263432-ec16-455e-9939-e1a7074a4d1e"
      },
      "execution_count": 5,
      "outputs": [
        {
          "output_type": "stream",
          "name": "stdout",
          "text": [
            "[]\n"
          ]
        }
      ]
    },
    {
      "cell_type": "code",
      "source": [
        "print(re.findall(r'ab*','ab abbb abb a'))"
      ],
      "metadata": {
        "colab": {
          "base_uri": "https://localhost:8080/"
        },
        "id": "EKBq99kWjW7k",
        "outputId": "1f80d341-1d30-41ed-ddba-3a223ea70940"
      },
      "execution_count": 9,
      "outputs": [
        {
          "output_type": "stream",
          "name": "stdout",
          "text": [
            "['ab', 'abbb', 'abb', 'a']\n"
          ]
        }
      ]
    },
    {
      "cell_type": "code",
      "source": [
        "print(re.findall(r'a{2}','a aa aaa')) #exact repetitions"
      ],
      "metadata": {
        "colab": {
          "base_uri": "https://localhost:8080/"
        },
        "id": "eyePNLy9jW9z",
        "outputId": "3a42b7f2-3da6-42b5-c852-da8bf8d5878b"
      },
      "execution_count": 11,
      "outputs": [
        {
          "output_type": "stream",
          "name": "stdout",
          "text": [
            "['aa', 'aa']\n"
          ]
        }
      ]
    },
    {
      "cell_type": "code",
      "source": [
        "print(re.findall(r'a{1,2}','a aa aaa'))"
      ],
      "metadata": {
        "colab": {
          "base_uri": "https://localhost:8080/"
        },
        "id": "wz6SFVQTjXAC",
        "outputId": "ca4ae276-e302-45fe-a5ad-99ab96c48454"
      },
      "execution_count": 12,
      "outputs": [
        {
          "output_type": "stream",
          "name": "stdout",
          "text": [
            "['a', 'aa', 'aa', 'a']\n"
          ]
        }
      ]
    },
    {
      "cell_type": "code",
      "source": [
        "print(re.findall(r'[aeiou]','Hello World'))"
      ],
      "metadata": {
        "colab": {
          "base_uri": "https://localhost:8080/"
        },
        "id": "ufFTPqi8jXCP",
        "outputId": "d515bca7-4d4b-47ed-8475-fb1a9fcc2fc3"
      },
      "execution_count": 13,
      "outputs": [
        {
          "output_type": "stream",
          "name": "stdout",
          "text": [
            "['e', 'o', 'o']\n"
          ]
        }
      ]
    },
    {
      "cell_type": "code",
      "source": [
        "s='DEV25001'\n",
        "\n",
        "pattern='[A-Z]{3}[0-9]{2}[0-9]{3}'\n",
        "\n",
        "\n",
        "print(re.match(pattern,s))"
      ],
      "metadata": {
        "colab": {
          "base_uri": "https://localhost:8080/"
        },
        "id": "Mr7Da6oPjXEe",
        "outputId": "8c785fea-9d2f-44e0-ead0-3fad3233bc99"
      },
      "execution_count": 19,
      "outputs": [
        {
          "output_type": "stream",
          "name": "stdout",
          "text": [
            "<re.Match object; span=(0, 8), match='DEV25001'>\n"
          ]
        }
      ]
    },
    {
      "cell_type": "code",
      "source": [
        "s='Hello World'\n",
        "S='i have 12 apples and 20 bananas' #12,20"
      ],
      "metadata": {
        "id": "FMTYatTjjXG0"
      },
      "execution_count": null,
      "outputs": []
    },
    {
      "cell_type": "code",
      "source": [],
      "metadata": {
        "id": "n4_hgu8ujXJK"
      },
      "execution_count": null,
      "outputs": []
    },
    {
      "cell_type": "code",
      "source": [],
      "metadata": {
        "id": "P_plHNtejXLd"
      },
      "execution_count": null,
      "outputs": []
    },
    {
      "cell_type": "code",
      "source": [],
      "metadata": {
        "id": "n4bvq_btjXNv"
      },
      "execution_count": null,
      "outputs": []
    },
    {
      "cell_type": "code",
      "source": [],
      "metadata": {
        "id": "4HMh1adUjXRP"
      },
      "execution_count": null,
      "outputs": []
    },
    {
      "cell_type": "code",
      "execution_count": 20,
      "metadata": {
        "colab": {
          "base_uri": "https://localhost:8080/"
        },
        "id": "OAbPJOMmEUdg",
        "outputId": "0cec017f-655d-486c-c412-d366855f55a7"
      },
      "outputs": [
        {
          "output_type": "stream",
          "name": "stdout",
          "text": [
            "<re.Match object; span=(0, 2), match='hi'>\n",
            "<re.Match object; span=(0, 2), match='hi'>\n"
          ]
        }
      ],
      "source": [
        "import re\n",
        "\n",
        "#diffrence between match and search\n",
        "\n",
        "s='hi say hi to everyone'\n",
        "\n",
        "print(re.match('hi',s))\n",
        "\n",
        "print(re.search('hi',s))"
      ]
    },
    {
      "cell_type": "code",
      "source": [
        "import re\n",
        "\n",
        "text = \"My number is 9876 and my friend's is 1234\"\n",
        "\n",
        "# search: only finds the first match\n",
        "first_match = re.search(r'\\d+', text)\n",
        "print(\"First match:\", first_match.group())\n",
        "\n",
        "# findall: finds all digit sequences\n",
        "all_matches = re.findall(r'\\d+', text)\n",
        "print(\"All matches:\", all_matches)\n"
      ],
      "metadata": {
        "colab": {
          "base_uri": "https://localhost:8080/"
        },
        "id": "0Gv3_bzlFOYT",
        "outputId": "e4a96b2e-f161-4654-c5fd-f99c5e35ef7b"
      },
      "execution_count": null,
      "outputs": [
        {
          "output_type": "stream",
          "name": "stdout",
          "text": [
            "First match: 9876\n",
            "All matches: ['9876', '1234']\n"
          ]
        }
      ]
    },
    {
      "cell_type": "code",
      "source": [
        "text = \"Python is Developed by Guido van Rossum in Netherlands\"\n",
        "\n",
        "cap_words = re.findall(r'\\b[A-Z][a-z]*\\b', text)\n",
        "print(\"Capitalized words:\", cap_words)\n"
      ],
      "metadata": {
        "colab": {
          "base_uri": "https://localhost:8080/"
        },
        "id": "uKfIl9V8IQc4",
        "outputId": "e11b8caf-6938-479d-fbcb-c674603fa392"
      },
      "execution_count": null,
      "outputs": [
        {
          "output_type": "stream",
          "name": "stdout",
          "text": [
            "Capitalized words: ['Python', 'Developed', 'Guido', 'Rossum', 'Netherlands']\n"
          ]
        }
      ]
    },
    {
      "cell_type": "code",
      "source": [
        "def double_numbers(match):\n",
        "    number = int(match.group())\n",
        "    return str(number * 2)\n",
        "\n",
        "text = \"The cost is 5 dollars and 7 cents.\"\n",
        "result = re.sub(r'\\d+', double_numbers, text)\n",
        "print(result)\n"
      ],
      "metadata": {
        "colab": {
          "base_uri": "https://localhost:8080/"
        },
        "id": "O8ECnxSpIjna",
        "outputId": "d76c0473-e3be-42ee-817a-85cac8e303a7"
      },
      "execution_count": null,
      "outputs": [
        {
          "output_type": "stream",
          "name": "stdout",
          "text": [
            "The cost is 10 dollars and 14 cents.\n"
          ]
        }
      ]
    },
    {
      "cell_type": "code",
      "source": [
        "text = \"You are such a fool and a dummy\"\n",
        "bad_words = r'\\bfool|dummy\\b'\n",
        "censored = re.sub(bad_words, '[censored]', text)\n",
        "print(censored)\n"
      ],
      "metadata": {
        "colab": {
          "base_uri": "https://localhost:8080/"
        },
        "id": "tsVraauuIjsj",
        "outputId": "ab3cad15-0ab2-45a5-98e3-d5e9b82b9115"
      },
      "execution_count": null,
      "outputs": [
        {
          "output_type": "stream",
          "name": "stdout",
          "text": [
            "You are such a [censored] and a [censored]\n"
          ]
        }
      ]
    },
    {
      "cell_type": "code",
      "source": [
        "text = \"Name: John, Age: 30\"\n",
        "match = re.search(r\"Name: (\\w+), Age: (\\d+)\", text)\n",
        "\n",
        "if match:\n",
        "    print(\"Full match:\", match.group(0))  # Full match\n",
        "    print(\"Name:\", match.group(1))        # First group (\\w+)\n",
        "    print(\"Age:\", match.group(2))         # Second group (\\d+)\n"
      ],
      "metadata": {
        "colab": {
          "base_uri": "https://localhost:8080/"
        },
        "id": "RDv61ykaJQ62",
        "outputId": "d92c87f6-3bf6-4214-a70a-c11ebe68bc0b"
      },
      "execution_count": 21,
      "outputs": [
        {
          "output_type": "stream",
          "name": "stdout",
          "text": [
            "Full match: Name: John, Age: 30\n",
            "Name: John\n",
            "Age: 30\n"
          ]
        }
      ]
    },
    {
      "cell_type": "code",
      "source": [
        "import re\n",
        "\n",
        "text = \"apple,banana;grape orange\"\n",
        "result = re.split(r'[;,\\s]+', text)\n",
        "print(result)\n"
      ],
      "metadata": {
        "colab": {
          "base_uri": "https://localhost:8080/"
        },
        "id": "J2l4EwWrJtna",
        "outputId": "81f6254f-565a-469e-c303-0255ad1850b0"
      },
      "execution_count": null,
      "outputs": [
        {
          "output_type": "stream",
          "name": "stdout",
          "text": [
            "['apple', 'banana', 'grape', 'orange']\n"
          ]
        }
      ]
    },
    {
      "cell_type": "code",
      "source": [
        "text = \"one-two-three-four\"\n",
        "result = re.split(r'-', text, maxsplit=2)\n",
        "print(result)\n"
      ],
      "metadata": {
        "colab": {
          "base_uri": "https://localhost:8080/"
        },
        "id": "e9opf1F5Jxv7",
        "outputId": "a54b2dd8-7bc1-4102-8c51-056913debd97"
      },
      "execution_count": null,
      "outputs": [
        {
          "output_type": "stream",
          "name": "stdout",
          "text": [
            "['one', 'two', 'three-four']\n"
          ]
        }
      ]
    },
    {
      "cell_type": "code",
      "source": [
        "text = \"word1word2word3\"\n",
        "result = re.split(r'\\d+', text)\n",
        "print(result)\n"
      ],
      "metadata": {
        "colab": {
          "base_uri": "https://localhost:8080/"
        },
        "id": "o2Xzg5nFJ4ct",
        "outputId": "f0582861-638e-48e6-f3f3-f13478da66d5"
      },
      "execution_count": null,
      "outputs": [
        {
          "output_type": "stream",
          "name": "stdout",
          "text": [
            "['word', 'word', 'word', '']\n"
          ]
        }
      ]
    },
    {
      "cell_type": "code",
      "source": [
        "result = re.subn(r'\\d+', '#', '123 456 789')\n",
        "print(result)  # Output: ('# #', 2)\n"
      ],
      "metadata": {
        "colab": {
          "base_uri": "https://localhost:8080/"
        },
        "id": "Bt-zUVoRKN8u",
        "outputId": "baec25e0-7ddb-4638-c01f-f75d6d716f6a"
      },
      "execution_count": null,
      "outputs": [
        {
          "output_type": "stream",
          "name": "stdout",
          "text": [
            "('# # #', 3)\n"
          ]
        }
      ]
    },
    {
      "cell_type": "code",
      "source": [
        "pattern = re.compile(r'\\d+')\n",
        "print(pattern.findall('123 456'))  # Output: ['123', '456']\n"
      ],
      "metadata": {
        "colab": {
          "base_uri": "https://localhost:8080/"
        },
        "id": "QsZZpirNKY6L",
        "outputId": "eed43772-7ab8-4a29-85b3-fc223e58604c"
      },
      "execution_count": null,
      "outputs": [
        {
          "output_type": "stream",
          "name": "stdout",
          "text": [
            "['123', '456']\n"
          ]
        }
      ]
    },
    {
      "cell_type": "code",
      "source": [
        "import re\n",
        "\n",
        "text = \"Python123\"\n",
        "\n",
        "# match()\n",
        "print(re.match(r'Python', text))         # ✅ Matches: starts with Python\n",
        "print(re.match(r'\\d+', text))            # ❌ No match: doesn't start with digits\n",
        "\n",
        "# fullmatch()\n",
        "print(re.fullmatch(r'Python\\d+', text))  # ✅ Matches whole string\n",
        "print(re.fullmatch(r'Python', text))     # ❌ No match: doesn't match entire string\n",
        "\n",
        "# search()\n",
        "print(re.search(r'\\d+', text))           # ✅ Finds: digits anywhere in the string\n"
      ],
      "metadata": {
        "colab": {
          "base_uri": "https://localhost:8080/"
        },
        "id": "M4i7XEEjLCGs",
        "outputId": "8d5324f9-a2e9-4950-80b2-7acc17142a78"
      },
      "execution_count": null,
      "outputs": [
        {
          "output_type": "stream",
          "name": "stdout",
          "text": [
            "<re.Match object; span=(0, 6), match='Python'>\n",
            "None\n",
            "<re.Match object; span=(0, 9), match='Python123'>\n",
            "None\n",
            "<re.Match object; span=(6, 9), match='123'>\n"
          ]
        }
      ]
    },
    {
      "cell_type": "code",
      "source": [
        "import re\n",
        "\n",
        "text = \"Python 3.8 was released in 2019, and Python 3.9 in 2020.\"\n",
        "\n",
        "# Find all Python version mentions\n",
        "pattern = re.finditer(r'Python \\d\\.\\d', text)\n",
        "\n",
        "for match in pattern:\n",
        "    print(\"Found:\", match.group(), \"at position:\", match.span())\n"
      ],
      "metadata": {
        "colab": {
          "base_uri": "https://localhost:8080/"
        },
        "id": "yNs4a6agQd5l",
        "outputId": "77c4b347-d159-4be4-bf72-bf23a72e1170"
      },
      "execution_count": null,
      "outputs": [
        {
          "output_type": "stream",
          "name": "stdout",
          "text": [
            "Found: Python 3.8 at position: (0, 10)\n",
            "Found: Python 3.9 at position: (37, 47)\n"
          ]
        }
      ]
    },
    {
      "cell_type": "code",
      "source": [
        "import re\n",
        "\n",
        "text = \"Email: hello@example.com\"\n",
        "\n",
        "match = re.search(r'\\w+@\\w+\\.\\w+', text)\n",
        "\n",
        "if match:\n",
        "    print(\"Matched text :\", match.group())        # hello@example.com\n",
        "    print(\"Start index  :\", match.start())        # 7\n",
        "    print(\"End index    :\", match.end())          # 24\n",
        "    print(\"Span (start, end):\", match.span())     # (7, 24)\n"
      ],
      "metadata": {
        "colab": {
          "base_uri": "https://localhost:8080/"
        },
        "id": "X1D45etLQjQM",
        "outputId": "a8c73aa9-0482-419f-a839-092b47abfe07"
      },
      "execution_count": null,
      "outputs": [
        {
          "output_type": "stream",
          "name": "stdout",
          "text": [
            "Matched text : hello@example.com\n",
            "Start index  : 7\n",
            "End index    : 24\n",
            "Span (start, end): (7, 24)\n"
          ]
        }
      ]
    },
    {
      "cell_type": "code",
      "source": [
        "# re.IGNORECASE or re.I\n",
        "\n",
        "import re\n",
        "\n",
        "text = \"Hello World\"\n",
        "pattern = re.compile(r'hello', re.IGNORECASE)\n",
        "match = pattern.search(text)\n",
        "print(match.group())  # Output: Hello\n"
      ],
      "metadata": {
        "colab": {
          "base_uri": "https://localhost:8080/"
        },
        "id": "NmA5-0pyRPeO",
        "outputId": "43efb30c-3653-499a-f4ca-449465fb5774"
      },
      "execution_count": null,
      "outputs": [
        {
          "output_type": "stream",
          "name": "stdout",
          "text": [
            "Hello\n"
          ]
        }
      ]
    },
    {
      "cell_type": "code",
      "source": [
        "# re.DOTALL or re.S\n",
        "text = \"Hello\\nWorld\"\n",
        "pattern = re.compile(r'Hello.World', re.DOTALL)\n",
        "match = pattern.search(text)\n",
        "print(match.group())  # Output: Hello\\nWorld\n"
      ],
      "metadata": {
        "id": "wTbEEeZwRPhk",
        "colab": {
          "base_uri": "https://localhost:8080/"
        },
        "outputId": "39001f31-80dc-4047-ed63-5ee2e890b131"
      },
      "execution_count": null,
      "outputs": [
        {
          "output_type": "stream",
          "name": "stdout",
          "text": [
            "Hello\n",
            "World\n"
          ]
        }
      ]
    },
    {
      "cell_type": "code",
      "source": [
        "import re\n",
        "\n",
        "pattern = r'^[A-Za-z0-9._%+-]+@[A-Za-z0-9.-]+\\.[A-Za-z]{2,}$'\n",
        "text = \"user@example.com\"\n",
        "\n",
        "match = re.match(pattern, text)\n",
        "print(match.group() if match else \"No match\")\n"
      ],
      "metadata": {
        "id": "i3WengScM7L6"
      },
      "execution_count": null,
      "outputs": []
    },
    {
      "cell_type": "code",
      "source": [
        "import re\n",
        "\n",
        "pattern = re.compile(r'''\n",
        "    ^                           # Start of string\n",
        "    [A-Za-z0-9._%+-]+           # Username: One or more valid characters\n",
        "    @                           # @ symbol\n",
        "    [A-Za-z0-9.-]+              # Domain name: One or more valid characters\n",
        "    \\.                          # Literal dot\n",
        "    [A-Za-z]{2,}                # Top-level domain: At least 2 letters\n",
        "    $                           # End of string\n",
        "''', re.VERBOSE)\n",
        "\n",
        "text = \"user@example.com\"\n",
        "\n",
        "match = pattern.match(text)\n",
        "print(match.group() if match else \"No match\")\n"
      ],
      "metadata": {
        "id": "3uprqvpfM8hY"
      },
      "execution_count": null,
      "outputs": []
    },
    {
      "cell_type": "code",
      "source": [
        "# re.VERBOSE or re.X\n",
        "\n",
        "pattern = re.compile(r\"\"\"\n",
        "    \\d{3}      # Area code\n",
        "    -          # Separator\n",
        "    \\d{3}\n",
        "    -\n",
        "    \\d{4}\n",
        "\"\"\", re.VERBOSE)\n",
        "\n",
        "match = pattern.match(\"123-456-7890\")\n",
        "print(match.group())  # Output: 123-456-7890\n"
      ],
      "metadata": {
        "id": "1bAwmmeORPlE",
        "colab": {
          "base_uri": "https://localhost:8080/"
        },
        "outputId": "f77b5fc8-7ae9-4492-c81f-6143010f6511"
      },
      "execution_count": null,
      "outputs": [
        {
          "output_type": "stream",
          "name": "stdout",
          "text": [
            "123-456-7890\n"
          ]
        }
      ]
    },
    {
      "cell_type": "code",
      "source": [
        "# re.ASCII or re.A\n",
        "pattern = re.compile(r'\\w+', re.ASCII)\n",
        "print(pattern.findall(\"café café\"))  # Output: ['caf', 'caf']\n"
      ],
      "metadata": {
        "colab": {
          "base_uri": "https://localhost:8080/"
        },
        "id": "QXpfGI9bVoU0",
        "outputId": "3ca26ceb-fc12-4eb0-e472-19dcdd963f93"
      },
      "execution_count": null,
      "outputs": [
        {
          "output_type": "stream",
          "name": "stdout",
          "text": [
            "['caf', 'caf']\n"
          ]
        }
      ]
    },
    {
      "cell_type": "code",
      "source": [
        "pattern = re.compile(r'hello.world', re.IGNORECASE | re.DOTALL)\n"
      ],
      "metadata": {
        "id": "qs2-DQ-wVoYV"
      },
      "execution_count": null,
      "outputs": []
    },
    {
      "cell_type": "code",
      "source": [
        "# # Email / phone number validation (real-world use)\n",
        "\n",
        "# # Extracting hashtags, mentions from strings\n",
        "\n",
        "# # Cleaning text (removing special characters, multiple spaces)\n",
        "\n",
        "# # Checking passwords for patterns (like uppercase + digit)\n",
        "\n",
        "# # Simple log parsing\n",
        "\n",
        "# # Extract all email addresses from a paragraph\n",
        "# # Extract all hashtags from a tweet\n",
        "# # Extract all valid dates in DD/MM/YYYY format\n",
        "# # Clean a text by removing all special characters except alphabets and digits\n",
        "# # Check if a password contains at least one digit, one uppercase letter, and one special character\n",
        "# # Extract all phone numbers (10-digit) from a string\n",
        "# # Extract all URLs from a webpage snippet\n",
        "# # Count how many times a particular word appears (e.g. \"python\")\n",
        "# # Replace multiple spaces with a single space in a paragraph\n",
        "# # Parse a log file to get request types (GET, POST, etc.)\n",
        "\n",
        "\n",
        "\n",
        "# Extract all capitalized words from a sentence\n",
        "# Remove all HTML tags from a given string\n",
        "# Extract words starting with @ (usernames in tweets)\n",
        "# Validate an email address format\n",
        "# Validate a URL format (starting with http/https)\n",
        "# Find all strings enclosed in double quotes\n",
        "# Replace all numbers in a string with #\n",
        "# Extract domain names from email addresses\n",
        "# Find all time values in HH:MM format\n",
        "# Extract all file extensions (e.g., .jpg, .pdf) from filenames\n",
        "# Check if a string starts with a capital letter and ends with a period\n",
        "# Match all numbers that are exactly 4 digits long\n",
        "# Extract text between parentheses\n",
        "# Split a paragraph into sentences using . as separator\n",
        "# Match all alphanumeric IDs (like EMP1234)\n",
        "# Identify repeated words (like \"go go go\")\n",
        "# Extract hashtags and mentions separately from a tweet\n",
        "# Replace tabs with 4 spaces in a text\n",
        "# Find IP addresses in a mixed string\n",
        "# Extract country codes from international phone numbers like +91-1234567890\n",
        "\n",
        "# Validate if a string is a valid PAN number (e.g., ABCDE1234F)\n",
        "# Extract all mobile numbers starting with 7, 8, or 9 and exactly 10 digits\n",
        "# Match all dates in DD-MM-YYYY or DD/MM/YYYY format\n",
        "# Replace all special characters in a string with an underscore\n",
        "# Extract valid hexadecimal color codes like #A3C113\n",
        "# Find all floating point numbers (e.g., 12.34, 0.5)\n",
        "# Validate Aadhaar number (12 digits, with optional spaces)\n",
        "# Extract titles like Mr., Mrs., Dr., Prof. from a paragraph\n",
        "# Extract currency values like ₹1,200, $599.99\n",
        "# Detect all repeated digits (like 112233)\n",
        "# Find lines in a multiline string that start with a number\n",
        "# Validate vehicle registration numbers (e.g., TN10AB1234)\n",
        "# Extract all strings within square brackets [like this]\n",
        "# Mask all but the last 4 digits of a credit card number\n",
        "# Match strings that are valid hashtags (alphanumeric, starts with #)\n",
        "# Extract YouTube video IDs from URLs\n",
        "# Match all HTML entities (e.g., &amp;, &lt;)\n",
        "# Remove all emojis from a given text\n",
        "# Match valid GSTINs (Indian GST number)\n",
        "# Validate a password: 8+ chars, at least 1 uppercase, 1 lowercase, 1 digit, 1 special char"
      ],
      "metadata": {
        "id": "kaFJA9W2VocQ"
      },
      "execution_count": null,
      "outputs": []
    },
    {
      "cell_type": "code",
      "source": [],
      "metadata": {
        "id": "vDT4ZXsKVoio"
      },
      "execution_count": null,
      "outputs": []
    }
  ]
}
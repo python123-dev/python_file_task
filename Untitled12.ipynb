{
 "cells": [
  {
   "cell_type": "code",
   "execution_count": 1,
   "id": "466ee6f5",
   "metadata": {},
   "outputs": [
    {
     "name": "stdout",
     "output_type": "stream",
     "text": [
      "hello\n"
     ]
    }
   ],
   "source": [
    "print(\"hello\")"
   ]
  },
  {
   "cell_type": "code",
   "execution_count": 2,
   "id": "9ea30e5a",
   "metadata": {},
   "outputs": [
    {
     "name": "stdout",
     "output_type": "stream",
     "text": [
      "123\n"
     ]
    }
   ],
   "source": [
    "a=input()"
   ]
  },
  {
   "cell_type": "code",
   "execution_count": 3,
   "id": "8636cef9",
   "metadata": {},
   "outputs": [
    {
     "name": "stdout",
     "output_type": "stream",
     "text": [
      "(1, 2, 3, 5)\n"
     ]
    }
   ],
   "source": [
    "a=1,2,3,5 #pack\n",
    "print(a)"
   ]
  },
  {
   "cell_type": "code",
   "execution_count": 4,
   "id": "8891fc69",
   "metadata": {},
   "outputs": [
    {
     "name": "stdout",
     "output_type": "stream",
     "text": [
      "('abc', 10, 12.5)\n"
     ]
    }
   ],
   "source": [
    "data='abc',10,12.5\n",
    "print(data)"
   ]
  },
  {
   "cell_type": "code",
   "execution_count": 5,
   "id": "4c196929",
   "metadata": {},
   "outputs": [
    {
     "name": "stdout",
     "output_type": "stream",
     "text": [
      "abc\n",
      "10\n",
      "12.5\n"
     ]
    }
   ],
   "source": [
    "name,age,wei=data\n",
    "print(name)\n",
    "print(age)\n",
    "print(wei)"
   ]
  },
  {
   "cell_type": "code",
   "execution_count": 9,
   "id": "9b7e63ea",
   "metadata": {},
   "outputs": [
    {
     "name": "stdout",
     "output_type": "stream",
     "text": [
      "<class 'tuple'>\n"
     ]
    }
   ],
   "source": [
    "age=14\n",
    "print(type(data))"
   ]
  },
  {
   "cell_type": "code",
   "execution_count": 11,
   "id": "0b910ccc",
   "metadata": {},
   "outputs": [
    {
     "name": "stdout",
     "output_type": "stream",
     "text": [
      "enter a num: 123\n",
      "<class 'int'>\n"
     ]
    }
   ],
   "source": [
    "a=int(input('enter a num: '))\n",
    "print(type(a))"
   ]
  },
  {
   "cell_type": "code",
   "execution_count": 14,
   "id": "669d1807",
   "metadata": {},
   "outputs": [
    {
     "data": {
      "text/plain": [
       "str"
      ]
     },
     "execution_count": 14,
     "metadata": {},
     "output_type": "execute_result"
    }
   ],
   "source": [
    "s=str(a)\n",
    "type(s)"
   ]
  },
  {
   "cell_type": "code",
   "execution_count": 15,
   "id": "318abdaf",
   "metadata": {},
   "outputs": [
    {
     "data": {
      "text/plain": [
       "float"
      ]
     },
     "execution_count": 15,
     "metadata": {},
     "output_type": "execute_result"
    }
   ],
   "source": [
    "type(wei)"
   ]
  },
  {
   "cell_type": "code",
   "execution_count": 16,
   "id": "850df163",
   "metadata": {},
   "outputs": [],
   "source": [
    "f=int(wei)"
   ]
  },
  {
   "cell_type": "code",
   "execution_count": 17,
   "id": "b0e99ddc",
   "metadata": {},
   "outputs": [
    {
     "name": "stdout",
     "output_type": "stream",
     "text": [
      "12\n"
     ]
    }
   ],
   "source": [
    "print(f)"
   ]
  },
  {
   "cell_type": "code",
   "execution_count": 18,
   "id": "e34c82d2",
   "metadata": {},
   "outputs": [
    {
     "name": "stdout",
     "output_type": "stream",
     "text": [
      "('abc', 10, 12.5)\n"
     ]
    }
   ],
   "source": [
    "print(data)"
   ]
  },
  {
   "cell_type": "code",
   "execution_count": 19,
   "id": "c13c7f0b",
   "metadata": {},
   "outputs": [
    {
     "name": "stdout",
     "output_type": "stream",
     "text": [
      "1 2 3 4 5\n"
     ]
    }
   ],
   "source": [
    "print(1,2,3,4,5)"
   ]
  },
  {
   "cell_type": "code",
   "execution_count": 20,
   "id": "0f1d70c6",
   "metadata": {},
   "outputs": [
    {
     "name": "stdout",
     "output_type": "stream",
     "text": [
      "1/2/3/4/5\n"
     ]
    }
   ],
   "source": [
    "print(1,2,3,4,5,sep=\"/\")"
   ]
  },
  {
   "cell_type": "code",
   "execution_count": 23,
   "id": "77be1895",
   "metadata": {},
   "outputs": [
    {
     "name": "stdout",
     "output_type": "stream",
     "text": [
      "hello!\n",
      "World\n"
     ]
    }
   ],
   "source": [
    "print('hello',end=\"!\")\n",
    "print()\n",
    "print('World')"
   ]
  },
  {
   "cell_type": "code",
   "execution_count": 27,
   "id": "40accd20",
   "metadata": {},
   "outputs": [
    {
     "name": "stdout",
     "output_type": "stream",
     "text": [
      "5\n"
     ]
    }
   ],
   "source": [
    "#operators\n",
    "\n",
    "#arithmetic\n",
    "\n",
    "#+,-,*,/,%,//,**\n",
    "\n",
    "a=10\n",
    "b=2\n",
    "\n",
    "print(a//b)"
   ]
  },
  {
   "cell_type": "code",
   "execution_count": 30,
   "id": "24260527",
   "metadata": {},
   "outputs": [
    {
     "name": "stdout",
     "output_type": "stream",
     "text": [
      "1010101010\n"
     ]
    }
   ],
   "source": [
    "a=\"10\"\n",
    "print(a*5)"
   ]
  },
  {
   "cell_type": "code",
   "execution_count": 32,
   "id": "f2e45f0f",
   "metadata": {},
   "outputs": [
    {
     "name": "stdout",
     "output_type": "stream",
     "text": [
      "abc is studying 8th\n"
     ]
    }
   ],
   "source": [
    "name='abc'\n",
    "std=\"8th\"\n",
    "\n",
    "\n",
    "print(name,'is studying',std)"
   ]
  },
  {
   "cell_type": "code",
   "execution_count": 34,
   "id": "32a7f8ab",
   "metadata": {},
   "outputs": [
    {
     "name": "stdout",
     "output_type": "stream",
     "text": [
      "abc is studying 8th\n"
     ]
    }
   ],
   "source": [
    "print(f'{name} is studying {std}')"
   ]
  },
  {
   "cell_type": "code",
   "execution_count": 35,
   "id": "22f27ef9",
   "metadata": {},
   "outputs": [
    {
     "name": "stdout",
     "output_type": "stream",
     "text": [
      "abc's parent\n"
     ]
    }
   ],
   "source": [
    "print(\"abc's parent\")"
   ]
  },
  {
   "cell_type": "code",
   "execution_count": 36,
   "id": "7e7a42ff",
   "metadata": {},
   "outputs": [],
   "source": [
    "#formula\n",
    "#c-f\n",
    "#SI\n",
    "#Compound \n"
   ]
  },
  {
   "cell_type": "code",
   "execution_count": 37,
   "id": "916bccce",
   "metadata": {},
   "outputs": [],
   "source": [
    "#s\n",
    "a=10\n",
    "\n",
    "a+=5\n",
    "#a=a+5"
   ]
  },
  {
   "cell_type": "code",
   "execution_count": 38,
   "id": "3d1bc061",
   "metadata": {},
   "outputs": [
    {
     "data": {
      "text/plain": [
       "65"
      ]
     },
     "execution_count": 38,
     "metadata": {},
     "output_type": "execute_result"
    }
   ],
   "source": [
    "ord('A')"
   ]
  },
  {
   "cell_type": "code",
   "execution_count": 39,
   "id": "76f7c752",
   "metadata": {},
   "outputs": [
    {
     "data": {
      "text/plain": [
       "'0b1000001'"
      ]
     },
     "execution_count": 39,
     "metadata": {},
     "output_type": "execute_result"
    }
   ],
   "source": [
    "bin(65)"
   ]
  },
  {
   "cell_type": "code",
   "execution_count": 40,
   "id": "a9841204",
   "metadata": {},
   "outputs": [
    {
     "data": {
      "text/plain": [
       "'A'"
      ]
     },
     "execution_count": 40,
     "metadata": {},
     "output_type": "execute_result"
    }
   ],
   "source": [
    "chr(65)"
   ]
  },
  {
   "cell_type": "code",
   "execution_count": 41,
   "id": "a0f52843",
   "metadata": {},
   "outputs": [
    {
     "data": {
      "text/plain": [
       "'One Hundered and one100'"
      ]
     },
     "execution_count": 41,
     "metadata": {},
     "output_type": "execute_result"
    }
   ],
   "source": [
    "n=101\n",
    "s='One Hundered and one'\n",
    "\n",
    "s1=\"100\"\n",
    "\n",
    "s+s1"
   ]
  },
  {
   "cell_type": "code",
   "execution_count": 42,
   "id": "fd82402d",
   "metadata": {},
   "outputs": [
    {
     "data": {
      "text/plain": [
       "'eno dna derednuH enO'"
      ]
     },
     "execution_count": 42,
     "metadata": {},
     "output_type": "execute_result"
    }
   ],
   "source": [
    "s[::-1]"
   ]
  },
  {
   "cell_type": "code",
   "execution_count": 46,
   "id": "a7c7fb31",
   "metadata": {},
   "outputs": [
    {
     "data": {
      "text/plain": [
       "20"
      ]
     },
     "execution_count": 46,
     "metadata": {},
     "output_type": "execute_result"
    }
   ],
   "source": [
    "len(s)"
   ]
  },
  {
   "cell_type": "code",
   "execution_count": 52,
   "id": "e04a6b36",
   "metadata": {},
   "outputs": [
    {
     "data": {
      "text/plain": [
       "'One Hundered and one'"
      ]
     },
     "execution_count": 52,
     "metadata": {},
     "output_type": "execute_result"
    }
   ],
   "source": [
    "s[:len(s)]"
   ]
  },
  {
   "cell_type": "code",
   "execution_count": 55,
   "id": "d55511d3",
   "metadata": {},
   "outputs": [
    {
     "data": {
      "text/plain": [
       "False"
      ]
     },
     "execution_count": 55,
     "metadata": {},
     "output_type": "execute_result"
    }
   ],
   "source": [
    "'One' not in s"
   ]
  },
  {
   "cell_type": "code",
   "execution_count": 56,
   "id": "43532f53",
   "metadata": {},
   "outputs": [
    {
     "name": "stdout",
     "output_type": "stream",
     "text": [
      "0\n"
     ]
    }
   ],
   "source": [
    "a=8\n",
    "b=5\n",
    "print(a&b)"
   ]
  },
  {
   "cell_type": "code",
   "execution_count": 57,
   "id": "2d4b5c83",
   "metadata": {},
   "outputs": [
    {
     "name": "stdout",
     "output_type": "stream",
     "text": [
      "-13\n"
     ]
    }
   ],
   "source": [
    "a=12\n",
    "print(~a) # -(1+a)"
   ]
  },
  {
   "cell_type": "code",
   "execution_count": 60,
   "id": "42298fb9",
   "metadata": {},
   "outputs": [
    {
     "name": "stdout",
     "output_type": "stream",
     "text": [
      "<class 'complex'>\n"
     ]
    }
   ],
   "source": [
    "a=3+4j\n",
    "print(type(a))"
   ]
  },
  {
   "cell_type": "code",
   "execution_count": 61,
   "id": "1c3d177f",
   "metadata": {},
   "outputs": [
    {
     "data": {
      "text/plain": [
       "'123498765'"
      ]
     },
     "execution_count": 61,
     "metadata": {},
     "output_type": "execute_result"
    }
   ],
   "source": [
    "'123456789'\n",
    "'123498765'"
   ]
  },
  {
   "cell_type": "code",
   "execution_count": 65,
   "id": "a910b7fd",
   "metadata": {},
   "outputs": [
    {
     "name": "stdout",
     "output_type": "stream",
     "text": [
      "a less than b\n",
      "hello\n"
     ]
    }
   ],
   "source": [
    "# conditional st\n",
    "a=50\n",
    "b=10\n",
    "if a<b:\n",
    "    print(\"a is greater\")\n",
    "else:\n",
    "    print('a less than b')\n",
    "print('hello')\n",
    "    \n",
    "    "
   ]
  },
  {
   "cell_type": "code",
   "execution_count": 68,
   "id": "e1c49790",
   "metadata": {},
   "outputs": [
    {
     "name": "stdout",
     "output_type": "stream",
     "text": [
      "is zerp\n"
     ]
    }
   ],
   "source": [
    "#elif\n",
    "\n",
    "num=0\n",
    "\n",
    "if num > 0:\n",
    "    print(\"+\")\n",
    "    \n",
    "elif num==0:\n",
    "    print('is zero')\n",
    "else:\n",
    "    print('-')"
   ]
  },
  {
   "cell_type": "code",
   "execution_count": 69,
   "id": "117a8bcc",
   "metadata": {},
   "outputs": [],
   "source": [
    "if num <=0:\n",
    "    if num==0:\n",
    "        pass\n",
    "    else:\n",
    "        pass\n",
    "else:\n",
    "    pass"
   ]
  },
  {
   "cell_type": "code",
   "execution_count": 70,
   "id": "493a636c",
   "metadata": {},
   "outputs": [
    {
     "ename": "SyntaxError",
     "evalue": "invalid syntax (2403971169.py, line 1)",
     "output_type": "error",
     "traceback": [
      "\u001b[1;36m  File \u001b[1;32m\"C:\\Users\\gauth\\AppData\\Local\\Temp\\ipykernel_24240\\2403971169.py\"\u001b[1;36m, line \u001b[1;32m1\u001b[0m\n\u001b[1;33m    a=\u001b[0m\n\u001b[1;37m      ^\u001b[0m\n\u001b[1;31mSyntaxError\u001b[0m\u001b[1;31m:\u001b[0m invalid syntax\n"
     ]
    }
   ],
   "source": [
    "a=\n",
    "b=\n",
    "c="
   ]
  },
  {
   "cell_type": "code",
   "execution_count": 71,
   "id": "fdc8265d",
   "metadata": {},
   "outputs": [],
   "source": [
    "a='S'\n",
    "a=\"E\""
   ]
  },
  {
   "cell_type": "code",
   "execution_count": null,
   "id": "762393f0",
   "metadata": {},
   "outputs": [],
   "source": [
    "#loops\n",
    "\n",
    "#for _ in range(start,stop,step):\n"
   ]
  },
  {
   "cell_type": "code",
   "execution_count": 78,
   "id": "52f757fb",
   "metadata": {},
   "outputs": [
    {
     "name": "stdout",
     "output_type": "stream",
     "text": [
      "0 hello\n",
      "1 hello\n",
      "2 hello\n",
      "3 hello\n",
      "4 hello\n"
     ]
    }
   ],
   "source": [
    "for i in range(5):\n",
    "    print(i,'hello')"
   ]
  },
  {
   "cell_type": "code",
   "execution_count": 80,
   "id": "320d4ad0",
   "metadata": {},
   "outputs": [
    {
     "name": "stdout",
     "output_type": "stream",
     "text": [
      "0 hello\n",
      "1 hello\n",
      "2 hello\n",
      "3 hello\n",
      "4 hello\n",
      "end\n"
     ]
    }
   ],
   "source": [
    "for i in range(5):\n",
    "    print(i,'hello')\n",
    "else:\n",
    "    print('end')"
   ]
  },
  {
   "cell_type": "code",
   "execution_count": 81,
   "id": "39673363",
   "metadata": {},
   "outputs": [
    {
     "name": "stdout",
     "output_type": "stream",
     "text": [
      "h hello\n",
      "e hello\n",
      "l hello\n",
      "l hello\n",
      "o hello\n",
      "end\n"
     ]
    }
   ],
   "source": [
    "for i in 'hello':\n",
    "    print(i,'hello')\n",
    "else:\n",
    "    print('end')"
   ]
  },
  {
   "cell_type": "code",
   "execution_count": 1,
   "id": "04b66ad5",
   "metadata": {},
   "outputs": [
    {
     "data": {
      "text/plain": [
       "True"
      ]
     },
     "execution_count": 1,
     "metadata": {},
     "output_type": "execute_result"
    }
   ],
   "source": [
    "153==1*1*1+5*5*5+3*3*3"
   ]
  },
  {
   "cell_type": "code",
   "execution_count": null,
   "id": "d762539a",
   "metadata": {},
   "outputs": [],
   "source": [
    "#array\n",
    "#data Structures \n",
    "#list-[]\n",
    "#tuple-()\n",
    "#dict-{key:value}\n",
    "#set-{}"
   ]
  },
  {
   "cell_type": "code",
   "execution_count": 2,
   "id": "7fc1a476",
   "metadata": {},
   "outputs": [
    {
     "name": "stdout",
     "output_type": "stream",
     "text": [
      "[1, 3.14, 'str', True, []]\n"
     ]
    }
   ],
   "source": [
    "#list\n",
    "lis=[1,3.14,'str',True,[]]\n",
    "print(lis)"
   ]
  },
  {
   "cell_type": "code",
   "execution_count": 3,
   "id": "ee16571b",
   "metadata": {},
   "outputs": [
    {
     "data": {
      "text/plain": [
       "'str'"
      ]
     },
     "execution_count": 3,
     "metadata": {},
     "output_type": "execute_result"
    }
   ],
   "source": [
    "lis[2]"
   ]
  },
  {
   "cell_type": "code",
   "execution_count": 4,
   "id": "2d6df41f",
   "metadata": {},
   "outputs": [
    {
     "data": {
      "text/plain": [
       "[1, 3.14, 'abc', True, []]"
      ]
     },
     "execution_count": 4,
     "metadata": {},
     "output_type": "execute_result"
    }
   ],
   "source": [
    "lis[2]='abc'\n",
    "lis"
   ]
  },
  {
   "cell_type": "code",
   "execution_count": 11,
   "id": "f1adb3d9",
   "metadata": {},
   "outputs": [
    {
     "name": "stdout",
     "output_type": "stream",
     "text": [
      "[130, 140]\n",
      "140\n",
      "[100, 120, 130, 140, 130, 110]\n",
      "[110, 130, 140, 130, 120, 100]\n",
      "6\n",
      "2\n"
     ]
    }
   ],
   "source": [
    "#slice\n",
    "l=[100,120,130,140,130,110]\n",
    "\n",
    "print(l[2:4])\n",
    "print(l[-3])\n",
    "print(l[:])\n",
    "print(l[::-1])\n",
    "print(len(l))\n",
    "print(l.count(130))"
   ]
  },
  {
   "cell_type": "code",
   "execution_count": 19,
   "id": "c8d5e109",
   "metadata": {},
   "outputs": [
    {
     "name": "stdout",
     "output_type": "stream",
     "text": [
      "guindy\n",
      "6\n",
      "hen\n",
      "guindy\n"
     ]
    }
   ],
   "source": [
    "city=['chennai-guindy','mumbai','delhi']\n",
    "\n",
    "#\n",
    "# 0 chennai\n",
    "# 1 mumbai\n",
    "# 2 delhi\n",
    "\n",
    "\n",
    "\n",
    "print(city[0][8:])\n",
    "print(len(city[1]))\n",
    "print(city[0][1:4])\n",
    "\n",
    "area=city[0][8:]\n",
    "print(area)"
   ]
  },
  {
   "cell_type": "code",
   "execution_count": 21,
   "id": "86766957",
   "metadata": {},
   "outputs": [
    {
     "data": {
      "text/plain": [
       "[[1, 2], ['abc', 'xyz', [1000, 888]]]"
      ]
     },
     "execution_count": 21,
     "metadata": {},
     "output_type": "execute_result"
    }
   ],
   "source": [
    "li=[[1,2],['abc','xyz',[999,888]]]\n",
    "\n",
    "\n",
    "li[1][2][0]=1000\n",
    "li"
   ]
  },
  {
   "cell_type": "code",
   "execution_count": 27,
   "id": "59779926",
   "metadata": {},
   "outputs": [
    {
     "name": "stdout",
     "output_type": "stream",
     "text": [
      "False\n",
      "7\n"
     ]
    }
   ],
   "source": [
    "l=[100,120,130,140,130,110]\n",
    "\n",
    "l.append(777)\n",
    "l.insert(3,333)# index,value\n",
    "print(779 in l)\n",
    "\n",
    "num=l.index(777)\n",
    "print(num)"
   ]
  },
  {
   "cell_type": "code",
   "execution_count": 30,
   "id": "12ad69f7",
   "metadata": {},
   "outputs": [
    {
     "name": "stdout",
     "output_type": "stream",
     "text": [
      "[100, 120, 130, 140, 130, 110, 777]\n",
      "[100, 120, 140, 130, 110, 777]\n"
     ]
    }
   ],
   "source": [
    "#remove\n",
    "\n",
    "#l.remove(333) # value\n",
    "print(l)\n",
    "l.pop()\n",
    "print(l)"
   ]
  },
  {
   "cell_type": "code",
   "execution_count": 31,
   "id": "1531fbb3",
   "metadata": {},
   "outputs": [
    {
     "data": {
      "text/plain": [
       "[]"
      ]
     },
     "execution_count": 31,
     "metadata": {},
     "output_type": "execute_result"
    }
   ],
   "source": [
    "#del l\n",
    "l.clear()\n",
    "l"
   ]
  },
  {
   "cell_type": "code",
   "execution_count": 34,
   "id": "a78b8792",
   "metadata": {},
   "outputs": [
    {
     "data": {
      "text/plain": [
       "[100, 120, 130, 140, 130, 110, 111, 222]"
      ]
     },
     "execution_count": 34,
     "metadata": {},
     "output_type": "execute_result"
    }
   ],
   "source": [
    "l=[100,120,130,140,130,110]\n",
    "#l.append([111,222])\n",
    "l.extend([111,222])\n",
    "l"
   ]
  },
  {
   "cell_type": "code",
   "execution_count": 36,
   "id": "393b51c4",
   "metadata": {},
   "outputs": [
    {
     "name": "stdout",
     "output_type": "stream",
     "text": [
      "[100, 120, 130, 140, 130, 110, 111, 222, 550, 660]\n"
     ]
    }
   ],
   "source": [
    "l=l+[550,660]\n",
    "print(l)"
   ]
  },
  {
   "cell_type": "code",
   "execution_count": 37,
   "id": "34609984",
   "metadata": {},
   "outputs": [
    {
     "data": {
      "text/plain": [
       "[660, 222, 110, 140, 120]"
      ]
     },
     "execution_count": 37,
     "metadata": {},
     "output_type": "execute_result"
    }
   ],
   "source": [
    "l[::-2]"
   ]
  },
  {
   "cell_type": "code",
   "execution_count": 38,
   "id": "77a6d7ab",
   "metadata": {},
   "outputs": [
    {
     "data": {
      "text/plain": [
       "['re', 'rd', 're', 'rd', 're', 'rd']"
      ]
     },
     "execution_count": 38,
     "metadata": {},
     "output_type": "execute_result"
    }
   ],
   "source": [
    "s=['re','rd']*3\n",
    "s"
   ]
  },
  {
   "cell_type": "code",
   "execution_count": 39,
   "id": "19be07ac",
   "metadata": {},
   "outputs": [],
   "source": [
    "num=[1,2,3,4,5,6,7,8,9,10]\n",
    "num2=[1,2,3,4,5,10,9,8,7,6]"
   ]
  },
  {
   "cell_type": "code",
   "execution_count": 42,
   "id": "69c3d9b7",
   "metadata": {},
   "outputs": [
    {
     "data": {
      "text/plain": [
       "(1, 2, 3)"
      ]
     },
     "execution_count": 42,
     "metadata": {},
     "output_type": "execute_result"
    }
   ],
   "source": [
    "#Tuple-()\n",
    "\n",
    "t=(1,2,3)\n",
    "\n",
    "t\n"
   ]
  },
  {
   "cell_type": "code",
   "execution_count": 41,
   "id": "fdf23057",
   "metadata": {},
   "outputs": [
    {
     "data": {
      "text/plain": [
       "[1, 2, 3]"
      ]
     },
     "execution_count": 41,
     "metadata": {},
     "output_type": "execute_result"
    }
   ],
   "source": [
    "#tuple-list\n",
    "\n",
    "l=list(t)\n",
    "l"
   ]
  },
  {
   "cell_type": "code",
   "execution_count": 43,
   "id": "4517e5a4",
   "metadata": {},
   "outputs": [
    {
     "data": {
      "text/plain": [
       "(1, 2, 3)"
      ]
     },
     "execution_count": 43,
     "metadata": {},
     "output_type": "execute_result"
    }
   ],
   "source": [
    "t2=tuple(l)\n",
    "t2"
   ]
  },
  {
   "cell_type": "code",
   "execution_count": 46,
   "id": "4cbfd47a",
   "metadata": {},
   "outputs": [
    {
     "data": {
      "text/plain": [
       "(1, 2, 3, [2, 222, 5])"
      ]
     },
     "execution_count": 46,
     "metadata": {},
     "output_type": "execute_result"
    }
   ],
   "source": [
    "t2=(1,2,3,[2,3,5])\n",
    "\n",
    "t2[-1][1]=222\n",
    "t2"
   ]
  },
  {
   "cell_type": "code",
   "execution_count": 53,
   "id": "0614d0cc",
   "metadata": {},
   "outputs": [
    {
     "name": "stdout",
     "output_type": "stream",
     "text": [
      "[3, 4, 5, 6]\n",
      "[3, 4, 5, 6]\n"
     ]
    }
   ],
   "source": [
    "#\n",
    "a=[3,4]\n",
    "b=a\n",
    "b+=[5,6]\n",
    "print(a)\n",
    "print(b)"
   ]
  },
  {
   "cell_type": "code",
   "execution_count": 55,
   "id": "a1228456",
   "metadata": {},
   "outputs": [
    {
     "name": "stdout",
     "output_type": "stream",
     "text": [
      "[3, 4]\n",
      "[3, 4, 5, 6]\n"
     ]
    }
   ],
   "source": [
    "#copy- shallow copy\n",
    "a=[3,4]\n",
    "\n",
    "b=a.copy()\n",
    "\n",
    "b+=[5,6]\n",
    "print(a)\n",
    "print(b)"
   ]
  },
  {
   "cell_type": "code",
   "execution_count": 57,
   "id": "db1ed294",
   "metadata": {},
   "outputs": [
    {
     "name": "stdout",
     "output_type": "stream",
     "text": [
      "[3, 4, [999, 888, 1000]]\n",
      "[3, 4, [999, 888, 1000]]\n"
     ]
    }
   ],
   "source": [
    "a=[3,4,[999,888]]\n",
    "b=a.copy()\n",
    "\n",
    "b[2].append(1000)\n",
    "\n",
    "print(b)\n",
    "\n",
    "print(a)\n",
    "\n"
   ]
  },
  {
   "cell_type": "code",
   "execution_count": 58,
   "id": "e33d59bf",
   "metadata": {},
   "outputs": [
    {
     "name": "stdout",
     "output_type": "stream",
     "text": [
      "[3, 4, [999, 888, 1000]]\n",
      "[3, 4, [999, 888]]\n"
     ]
    }
   ],
   "source": [
    "import copy\n",
    "#deep copy\n",
    "\n",
    "a=[3,4,[999,888]]\n",
    "b=copy.deepcopy(a)\n",
    "\n",
    "b[2].append(1000)\n",
    "\n",
    "print(b)\n",
    "\n",
    "print(a)\n",
    "\n",
    "\n"
   ]
  },
  {
   "cell_type": "code",
   "execution_count": null,
   "id": "fe0c81fc",
   "metadata": {},
   "outputs": [],
   "source": [
    "#dict"
   ]
  },
  {
   "cell_type": "code",
   "execution_count": 60,
   "id": "9cdf21a8",
   "metadata": {},
   "outputs": [],
   "source": [
    "d={'name':\"abc\",'std':8,'height':5.5}\n",
    "#single key:value=dict item"
   ]
  },
  {
   "cell_type": "code",
   "execution_count": 61,
   "id": "ac4795b4",
   "metadata": {},
   "outputs": [
    {
     "data": {
      "text/plain": [
       "{'name': 'abc', 'std': 8, 'height': 5.5, 'key': 'value'}"
      ]
     },
     "execution_count": 61,
     "metadata": {},
     "output_type": "execute_result"
    }
   ],
   "source": [
    "d['key']='value'\n",
    "d"
   ]
  },
  {
   "cell_type": "code",
   "execution_count": 63,
   "id": "efb8227f",
   "metadata": {},
   "outputs": [
    {
     "name": "stdout",
     "output_type": "stream",
     "text": [
      "{'name': 'ABB', 'std': 'ABB', 'height': 5.5}\n"
     ]
    }
   ],
   "source": [
    "d={'name':'abc','std':'ABB','height':5.5,'name':'ABB'}\n",
    "print(d)"
   ]
  },
  {
   "cell_type": "code",
   "execution_count": 64,
   "id": "8d95c18f",
   "metadata": {},
   "outputs": [
    {
     "data": {
      "text/plain": [
       "'ABB'"
      ]
     },
     "execution_count": 64,
     "metadata": {},
     "output_type": "execute_result"
    }
   ],
   "source": [
    "d['name']"
   ]
  },
  {
   "cell_type": "code",
   "execution_count": 65,
   "id": "5b9f263d",
   "metadata": {},
   "outputs": [
    {
     "data": {
      "text/plain": [
       "'ABB'"
      ]
     },
     "execution_count": 65,
     "metadata": {},
     "output_type": "execute_result"
    }
   ],
   "source": [
    "d.get('name')"
   ]
  },
  {
   "cell_type": "code",
   "execution_count": 74,
   "id": "0f3e2d2b",
   "metadata": {},
   "outputs": [
    {
     "name": "stdout",
     "output_type": "stream",
     "text": [
      "{'name': 'abc', 'age': 10, 'std': '5th'}\n"
     ]
    }
   ],
   "source": [
    "k=['name','age','std']\n",
    "v=['abc',10,'5th']\n",
    "\n",
    "z=zip(k,v)\n",
    "print(dict(z))\n"
   ]
  },
  {
   "cell_type": "code",
   "execution_count": 76,
   "id": "f03cfc5b",
   "metadata": {},
   "outputs": [
    {
     "data": {
      "text/plain": [
       "(('name', 'abc'), ('age', 10), ('std', '5th'))"
      ]
     },
     "execution_count": 76,
     "metadata": {},
     "output_type": "execute_result"
    }
   ],
   "source": [
    "k=['name','age','std']\n",
    "v=['abc',10,'5th']\n",
    "\n",
    "z=tuple(zip(k,v))\n",
    "z"
   ]
  },
  {
   "cell_type": "code",
   "execution_count": 78,
   "id": "71ec3cce",
   "metadata": {},
   "outputs": [
    {
     "name": "stdout",
     "output_type": "stream",
     "text": [
      "{'name': 'ABB', 'std': 'ABB', 'height': 5.5}\n",
      "dict_keys(['name', 'std', 'height'])\n",
      "dict_values(['ABB', 'ABB', 5.5])\n",
      "dict_items([('name', 'ABB'), ('std', 'ABB'), ('height', 5.5)])\n"
     ]
    }
   ],
   "source": [
    "d={'name':'abc','std':'ABB','height':5.5,'name':'ABB'}\n",
    "print(d)\n",
    "print(d.keys())\n",
    "print(d.values())\n",
    "print(d.items())"
   ]
  },
  {
   "cell_type": "code",
   "execution_count": 79,
   "id": "04c33018",
   "metadata": {},
   "outputs": [],
   "source": [
    "l=['name','age','height']\n",
    "\n",
    "d={'name':4,'age':3,'height':6}\n",
    "\n",
    "\n",
    "\n",
    "p=''"
   ]
  },
  {
   "cell_type": "code",
   "execution_count": 80,
   "id": "3797752e",
   "metadata": {},
   "outputs": [],
   "source": [
    "people={1:{'name':4,'age':3,'height':6},\n",
    "        2:['name','age','std'],\n",
    "        3:('name','age','std')}"
   ]
  },
  {
   "cell_type": "code",
   "execution_count": 81,
   "id": "8edf83d1",
   "metadata": {},
   "outputs": [
    {
     "data": {
      "text/plain": [
       "3"
      ]
     },
     "execution_count": 81,
     "metadata": {},
     "output_type": "execute_result"
    }
   ],
   "source": [
    "people[1]['age']"
   ]
  },
  {
   "cell_type": "code",
   "execution_count": 82,
   "id": "48b11e9e",
   "metadata": {},
   "outputs": [
    {
     "data": {
      "text/plain": [
       "'std'"
      ]
     },
     "execution_count": 82,
     "metadata": {},
     "output_type": "execute_result"
    }
   ],
   "source": [
    "people[2][2]"
   ]
  },
  {
   "cell_type": "code",
   "execution_count": 83,
   "id": "e33044c9",
   "metadata": {},
   "outputs": [
    {
     "data": {
      "text/plain": [
       "{1: {'name': 4, 'age': 3, 'height': 6},\n",
       " 2: ['name', 'age', 'std'],\n",
       " 3: ('name', 'age', 'std'),\n",
       " 4: {'zero': 0}}"
      ]
     },
     "execution_count": 83,
     "metadata": {},
     "output_type": "execute_result"
    }
   ],
   "source": [
    "people[4]={'zero':0}\n",
    "people"
   ]
  },
  {
   "cell_type": "code",
   "execution_count": 84,
   "id": "d2501423",
   "metadata": {},
   "outputs": [],
   "source": [
    "d={'a':5,'b':15,'c':25,'d':8}\n",
    "d1={'b':15,'c':25}"
   ]
  },
  {
   "cell_type": "code",
   "execution_count": 86,
   "id": "e4d51219",
   "metadata": {},
   "outputs": [
    {
     "name": "stdout",
     "output_type": "stream",
     "text": [
      "5\n"
     ]
    }
   ],
   "source": [
    "n=int('5.5')\n",
    "print(n)"
   ]
  },
  {
   "cell_type": "code",
   "execution_count": 87,
   "id": "4154cf5e",
   "metadata": {},
   "outputs": [
    {
     "name": "stdout",
     "output_type": "stream",
     "text": [
      "Enter a float: \n"
     ]
    },
    {
     "ename": "ValueError",
     "evalue": "invalid literal for int() with base 10: ''",
     "output_type": "error",
     "traceback": [
      "\u001b[1;31m---------------------------------------------------------------------------\u001b[0m",
      "\u001b[1;31mValueError\u001b[0m                                Traceback (most recent call last)",
      "\u001b[1;32m~\\AppData\\Local\\Temp\\ipykernel_22212\\3557845926.py\u001b[0m in \u001b[0;36m<module>\u001b[1;34m\u001b[0m\n\u001b[1;32m----> 1\u001b[1;33m \u001b[0mn\u001b[0m\u001b[1;33m=\u001b[0m\u001b[0mint\u001b[0m\u001b[1;33m(\u001b[0m\u001b[0minput\u001b[0m\u001b[1;33m(\u001b[0m\u001b[1;34m'Enter a float: '\u001b[0m\u001b[1;33m)\u001b[0m\u001b[1;33m)\u001b[0m\u001b[1;33m\u001b[0m\u001b[1;33m\u001b[0m\u001b[0m\n\u001b[0m\u001b[0;32m      2\u001b[0m \u001b[0mprint\u001b[0m\u001b[1;33m(\u001b[0m\u001b[0mn\u001b[0m\u001b[1;33m)\u001b[0m\u001b[1;33m\u001b[0m\u001b[1;33m\u001b[0m\u001b[0m\n",
      "\u001b[1;31mValueError\u001b[0m: invalid literal for int() with base 10: ''"
     ]
    }
   ],
   "source": [
    "n=int(input('Enter a float: '))\n",
    "print(n)"
   ]
  },
  {
   "cell_type": "code",
   "execution_count": 88,
   "id": "72c0da95",
   "metadata": {},
   "outputs": [
    {
     "name": "stdout",
     "output_type": "stream",
     "text": [
      "{1, 3, 5, 6}\n"
     ]
    }
   ],
   "source": [
    "#set-{}\n",
    "\n",
    "l=[1,1,3,3,5,5,6]\n",
    "print(set(l))"
   ]
  },
  {
   "cell_type": "code",
   "execution_count": null,
   "id": "40d332a7",
   "metadata": {},
   "outputs": [],
   "source": [
    "issubset()\n",
    "issuperset()"
   ]
  },
  {
   "cell_type": "code",
   "execution_count": 93,
   "id": "6c1956f6",
   "metadata": {},
   "outputs": [
    {
     "name": "stdout",
     "output_type": "stream",
     "text": [
      "hll wrld\n"
     ]
    }
   ],
   "source": [
    "s='hello world'\n",
    "#s1='hll wrld'\n",
    "v=['a','i','e','o','u']\n",
    "c=[]\n",
    "for char in s:\n",
    "    if char not in v:\n",
    "        #print(char)\n",
    "        c.append(char)\n",
    "print(''.join(c))\n"
   ]
  },
  {
   "cell_type": "code",
   "execution_count": 1,
   "id": "f98d1600",
   "metadata": {},
   "outputs": [
    {
     "name": "stdout",
     "output_type": "stream",
     "text": [
      "hello\n",
      "hello\n",
      "hello\n",
      "hello\n",
      "hello\n"
     ]
    }
   ],
   "source": [
    "n=0  #\n",
    "while n<5: # dec\n",
    "    print(\"hello\")\n",
    "    n+=1 # update counter"
   ]
  },
  {
   "cell_type": "code",
   "execution_count": 3,
   "id": "ba572854",
   "metadata": {},
   "outputs": [
    {
     "name": "stdout",
     "output_type": "stream",
     "text": [
      "hello\n",
      "hello\n",
      "hello\n",
      "hello\n",
      "hello\n",
      "end\n"
     ]
    }
   ],
   "source": [
    "n=0  #\n",
    "while n<5: # dec\n",
    "    print(\"hello\")\n",
    "    n+=1 # update counter\n",
    "else:\n",
    "    print('end')"
   ]
  },
  {
   "cell_type": "code",
   "execution_count": 7,
   "id": "0e265fab",
   "metadata": {},
   "outputs": [
    {
     "name": "stdout",
     "output_type": "stream",
     "text": [
      "p\n",
      "y\n",
      "t\n"
     ]
    }
   ],
   "source": [
    "#break\n",
    "for i in 'python':\n",
    "    if i =='h':\n",
    "        break\n",
    "    print(i)\n",
    "    "
   ]
  },
  {
   "cell_type": "code",
   "execution_count": 8,
   "id": "8681da48",
   "metadata": {},
   "outputs": [
    {
     "name": "stdout",
     "output_type": "stream",
     "text": [
      "p\n",
      "y\n",
      "t\n",
      "o\n",
      "n\n"
     ]
    }
   ],
   "source": [
    "#continue\n",
    "for i in 'python':\n",
    "    if i =='h':\n",
    "        continue\n",
    "    print(i)"
   ]
  },
  {
   "cell_type": "code",
   "execution_count": 10,
   "id": "2a31f5fa",
   "metadata": {},
   "outputs": [],
   "source": [
    "#pass \n",
    "\n",
    "for i in 'python':\n",
    "    pass"
   ]
  },
  {
   "cell_type": "code",
   "execution_count": 11,
   "id": "9029ff7b",
   "metadata": {},
   "outputs": [],
   "source": [
    "class fun:\n",
    "    pass"
   ]
  },
  {
   "cell_type": "code",
   "execution_count": 13,
   "id": "13164aa8",
   "metadata": {},
   "outputs": [
    {
     "name": "stdout",
     "output_type": "stream",
     "text": [
      "p\n",
      "y\n",
      "t\n",
      "h\n",
      "o\n",
      "n\n"
     ]
    }
   ],
   "source": [
    "for i in 'python':\n",
    "    if i =='h':\n",
    "        pass\n",
    "    print(i)"
   ]
  },
  {
   "cell_type": "code",
   "execution_count": 17,
   "id": "7376b5ef",
   "metadata": {},
   "outputs": [
    {
     "name": "stdout",
     "output_type": "stream",
     "text": [
      "hello\n"
     ]
    }
   ],
   "source": [
    "def add():\n",
    "    print('hello')\n",
    "add()"
   ]
  },
  {
   "cell_type": "code",
   "execution_count": 18,
   "id": "9ddd5e4c",
   "metadata": {},
   "outputs": [
    {
     "name": "stdout",
     "output_type": "stream",
     "text": [
      "11\n"
     ]
    }
   ],
   "source": [
    "def add(a,b):\n",
    "    print(a+b)\n",
    "    \n",
    "add(5,6)"
   ]
  },
  {
   "cell_type": "code",
   "execution_count": null,
   "id": "edc75772",
   "metadata": {},
   "outputs": [],
   "source": [
    "#with parameter and without return type\n",
    "#without parameter and wiyhout return\n",
    "#with parameter and with return type\n",
    "##without parameter and with return type"
   ]
  },
  {
   "cell_type": "code",
   "execution_count": 19,
   "id": "ab64d365",
   "metadata": {},
   "outputs": [
    {
     "name": "stdout",
     "output_type": "stream",
     "text": [
      "16\n"
     ]
    }
   ],
   "source": [
    "def add():\n",
    "    a=10\n",
    "    b=6\n",
    "    print(a+b)\n",
    "    \n",
    "add()"
   ]
  },
  {
   "cell_type": "code",
   "execution_count": 20,
   "id": "9bee3c24",
   "metadata": {},
   "outputs": [
    {
     "name": "stdout",
     "output_type": "stream",
     "text": [
      "11\n"
     ]
    }
   ],
   "source": [
    "def add(a,b):\n",
    "    return a+b\n",
    "    \n",
    "s=add(5,6)\n",
    "print(s)"
   ]
  },
  {
   "cell_type": "code",
   "execution_count": 21,
   "id": "fbb5b81f",
   "metadata": {},
   "outputs": [
    {
     "name": "stdout",
     "output_type": "stream",
     "text": [
      "40\n"
     ]
    }
   ],
   "source": [
    "def add():\n",
    "    a=10\n",
    "    b=30\n",
    "    return a+b\n",
    "    \n",
    "s=add()\n",
    "print(s)"
   ]
  },
  {
   "cell_type": "code",
   "execution_count": 26,
   "id": "46e7a2ce",
   "metadata": {},
   "outputs": [
    {
     "name": "stdout",
     "output_type": "stream",
     "text": [
      "5\n"
     ]
    }
   ],
   "source": [
    "#Types of arguments\n",
    "\n",
    "# positional \n",
    "def fun(a,b):\n",
    "    print(a+b)\n",
    "    \n",
    "fun(2,3)"
   ]
  },
  {
   "cell_type": "code",
   "execution_count": 28,
   "id": "4f884359",
   "metadata": {},
   "outputs": [
    {
     "name": "stdout",
     "output_type": "stream",
     "text": [
      "abc\n"
     ]
    }
   ],
   "source": [
    "#default\n",
    "\n",
    "def data(name='hello'):\n",
    "    print(name)\n",
    "    \n",
    "data('abc')"
   ]
  },
  {
   "cell_type": "code",
   "execution_count": 30,
   "id": "851b2740",
   "metadata": {},
   "outputs": [
    {
     "name": "stdout",
     "output_type": "stream",
     "text": [
      "hello abc you are 12\n"
     ]
    }
   ],
   "source": [
    "#keyword args\n",
    "def data(name,age):\n",
    "    print(f'hello {name} you are {age}')\n",
    "    \n",
    "data(age=12,name='abc')"
   ]
  },
  {
   "cell_type": "code",
   "execution_count": 31,
   "id": "ca179c9c",
   "metadata": {},
   "outputs": [],
   "source": [
    "print(\"\",end='',sep='')"
   ]
  },
  {
   "cell_type": "code",
   "execution_count": 39,
   "id": "508b3085",
   "metadata": {},
   "outputs": [
    {
     "name": "stdout",
     "output_type": "stream",
     "text": [
      "q\n",
      "()\n"
     ]
    }
   ],
   "source": [
    "#variable length arguments\n",
    "def fun(name,*a):\n",
    "    print(name)\n",
    "    print(a)\n",
    "    \n",
    "fun('q')"
   ]
  },
  {
   "cell_type": "code",
   "execution_count": null,
   "id": "e9291829",
   "metadata": {},
   "outputs": [],
   "source": [
    "#variable length keyword arguments"
   ]
  },
  {
   "cell_type": "code",
   "execution_count": 43,
   "id": "a1edfc29",
   "metadata": {},
   "outputs": [
    {
     "name": "stdout",
     "output_type": "stream",
     "text": [
      "q\n",
      "{'na': 'abc', 'age': 2}\n"
     ]
    }
   ],
   "source": [
    "def fun(name,**a):\n",
    "    print(name)\n",
    "    print(a)\n",
    "    \n",
    "fun('q',na='abc',age=2)"
   ]
  },
  {
   "cell_type": "code",
   "execution_count": 44,
   "id": "2a8259c5",
   "metadata": {},
   "outputs": [
    {
     "data": {
      "text/plain": [
       "4"
      ]
     },
     "execution_count": 44,
     "metadata": {},
     "output_type": "execute_result"
    }
   ],
   "source": [
    "#docstring\n",
    "def addition(a,b):\n",
    "    \"\"\"this function takes two values and adds them\"\"\"\n",
    "    return a+b\n",
    "\n",
    "addition(1,3)"
   ]
  },
  {
   "cell_type": "code",
   "execution_count": 45,
   "id": "254d4b92",
   "metadata": {},
   "outputs": [
    {
     "name": "stdout",
     "output_type": "stream",
     "text": [
      "Help on function addition in module __main__:\n",
      "\n",
      "addition(a, b)\n",
      "    this function takes two values and adds them\n",
      "\n"
     ]
    }
   ],
   "source": [
    "help(addition)"
   ]
  },
  {
   "cell_type": "code",
   "execution_count": 47,
   "id": "d87448ee",
   "metadata": {},
   "outputs": [
    {
     "data": {
      "text/plain": [
       "'this function takes two values and adds them'"
      ]
     },
     "execution_count": 47,
     "metadata": {},
     "output_type": "execute_result"
    }
   ],
   "source": [
    "addition.__doc__"
   ]
  },
  {
   "cell_type": "code",
   "execution_count": 50,
   "id": "8f5ae569",
   "metadata": {},
   "outputs": [
    {
     "name": "stdout",
     "output_type": "stream",
     "text": [
      "Integer=10, String=20\n"
     ]
    }
   ],
   "source": [
    "#function annotation\n",
    "def data(a:int,b:str) -> str:\n",
    "    \"\"\"this function takes an int and string and returns a format string\"\"\"\n",
    "    return f'Integer={a}, String={b}'\n",
    "    \n",
    "print(data(10,20))"
   ]
  },
  {
   "cell_type": "code",
   "execution_count": 51,
   "id": "00f516e8",
   "metadata": {},
   "outputs": [
    {
     "data": {
      "text/plain": [
       "{'a': int, 'b': str, 'return': str}"
      ]
     },
     "execution_count": 51,
     "metadata": {},
     "output_type": "execute_result"
    }
   ],
   "source": [
    "data.__annotations__"
   ]
  },
  {
   "cell_type": "code",
   "execution_count": null,
   "id": "cdee8e9f",
   "metadata": {},
   "outputs": [],
   "source": [
    "#pascal triangle\n",
    "[1]\n",
    "[1, 1]\n",
    "[1, 2, 1]\n",
    "[1, 3, 3, 1]\n",
    "[1, 4, 6, 4, 1]\n",
    "[1, 5, 10, 10, 5, 1]\n",
    "\n",
    "array1 = [11, 10, 22, 20, 35, 67]\n",
    "array2 = [22, 30, 35, 11]\n",
    "\n",
    "out=[22,35,11] #without using set intersection"
   ]
  },
  {
   "cell_type": "code",
   "execution_count": 1,
   "id": "de4e00b2",
   "metadata": {},
   "outputs": [
    {
     "name": "stdout",
     "output_type": "stream",
     "text": [
      "20\n"
     ]
    }
   ],
   "source": [
    "#scope\n",
    "x=10\n",
    "x=20\n",
    "print(x)\n"
   ]
  },
  {
   "cell_type": "code",
   "execution_count": 3,
   "id": "a595a74d",
   "metadata": {},
   "outputs": [
    {
     "name": "stdout",
     "output_type": "stream",
     "text": [
      "50 inside func\n",
      "50 out func\n"
     ]
    }
   ],
   "source": [
    "x=20\n",
    "\n",
    "def num():\n",
    "    #x=10 #local\n",
    "    global x\n",
    "    x=x+30\n",
    "    print(x,\"inside func\")\n",
    "    \n",
    "    \n",
    "num()\n",
    "print(x,'out func')"
   ]
  },
  {
   "cell_type": "code",
   "execution_count": null,
   "id": "cbb2dc43",
   "metadata": {},
   "outputs": [],
   "source": [
    "#recursion"
   ]
  },
  {
   "cell_type": "code",
   "execution_count": null,
   "id": "ac4d053a",
   "metadata": {},
   "outputs": [],
   "source": [
    "\n",
    "def list_sum(num_List):\n",
    "    \n",
    "    if len(num_List) == 1:\n",
    "        \n",
    "        return num_List[0]\n",
    "    else:\n",
    "        \n",
    "        return num_List[0] + list_sum(num_List[1:])\n",
    "\n",
    "\n",
    "print(list_sum([2, 4, 5, 6, 7]))\n"
   ]
  },
  {
   "cell_type": "code",
   "execution_count": null,
   "id": "3c4980fc",
   "metadata": {},
   "outputs": [],
   "source": [
    "#count the digts of a number\n",
    "#reverse a string using recursion"
   ]
  },
  {
   "cell_type": "code",
   "execution_count": 2,
   "id": "71e02c9e",
   "metadata": {},
   "outputs": [
    {
     "name": "stdout",
     "output_type": "stream",
     "text": [
      "<function square at 0x000002B1EF12E040>\n"
     ]
    }
   ],
   "source": [
    "# first class function\n",
    "\n",
    "\n",
    "def square(num):\n",
    "  return num*num\n",
    "\n",
    "\n",
    "f=square\n",
    "\n",
    "\n",
    "print(f)"
   ]
  },
  {
   "cell_type": "code",
   "execution_count": 4,
   "id": "bd8e5e65",
   "metadata": {},
   "outputs": [
    {
     "data": {
      "text/plain": [
       "25"
      ]
     },
     "execution_count": 4,
     "metadata": {},
     "output_type": "execute_result"
    }
   ],
   "source": [
    "f(5)"
   ]
  },
  {
   "cell_type": "code",
   "execution_count": 6,
   "id": "fe1a8d8e",
   "metadata": {},
   "outputs": [
    {
     "name": "stdout",
     "output_type": "stream",
     "text": [
      "[1, 4, 9, 16, 25]\n"
     ]
    }
   ],
   "source": [
    "def my_map(func,arr):\n",
    "  result=[]\n",
    "  for i in arr:\n",
    "    result.append(func(i))\n",
    "  return result\n",
    "\n",
    "\n",
    "squares=my_map(square,[1,2,3,4,5])\n",
    "print(squares)"
   ]
  },
  {
   "cell_type": "code",
   "execution_count": 7,
   "id": "a6dafb70",
   "metadata": {},
   "outputs": [
    {
     "name": "stdout",
     "output_type": "stream",
     "text": [
      "Log: Hi\n"
     ]
    }
   ],
   "source": [
    "def logger(msg):\n",
    "  def log_message():\n",
    "    print('Log:',msg)\n",
    "  return log_message\n",
    "\n",
    "log_hi=logger('Hi')\n",
    "log_hi()"
   ]
  },
  {
   "cell_type": "code",
   "execution_count": 9,
   "id": "16338aca",
   "metadata": {},
   "outputs": [
    {
     "name": "stdout",
     "output_type": "stream",
     "text": [
      "Log: Hi from: abc\n",
      "Log: Welcome from: xyz\n",
      "Log: Hi from: ram\n"
     ]
    }
   ],
   "source": [
    "def logger(msg):\n",
    "  def log_message(name):\n",
    "    print('Log:',msg,'from:', name)\n",
    "  return log_message\n",
    "\n",
    "\n",
    "\n",
    "log_hi=logger('Hi')\n",
    "log_hi('abc')\n",
    "\n",
    "\n",
    "\n",
    "log_welcome=logger('Welcome')\n",
    "log_welcome('xyz')\n",
    "\n",
    "log_hi('ram')"
   ]
  },
  {
   "cell_type": "code",
   "execution_count": null,
   "id": "128ea20b",
   "metadata": {},
   "outputs": [],
   "source": [
    "#create a closure to add a fixed number\n",
    "\n",
    "add5=adder(5)\n",
    "add5(100)\n",
    "\n",
    "add10=adder(10)\n",
    "add10(100)"
   ]
  },
  {
   "cell_type": "code",
   "execution_count": 10,
   "id": "f196c05a",
   "metadata": {},
   "outputs": [
    {
     "data": {
      "text/plain": [
       "''"
      ]
     },
     "execution_count": 10,
     "metadata": {},
     "output_type": "execute_result"
    }
   ],
   "source": [
    "s='abc'\n",
    "s[:0]"
   ]
  },
  {
   "cell_type": "code",
   "execution_count": 11,
   "id": "38ba9b10",
   "metadata": {},
   "outputs": [
    {
     "data": {
      "text/plain": [
       "'bc'"
      ]
     },
     "execution_count": 11,
     "metadata": {},
     "output_type": "execute_result"
    }
   ],
   "source": [
    "s[1:]"
   ]
  },
  {
   "cell_type": "code",
   "execution_count": null,
   "id": "e1d5ebed",
   "metadata": {},
   "outputs": [],
   "source": [
    "#flatten a list [1,[2,[3,4]],5]-> [1,2,3,4,5]\n",
    "\n",
    "#substring\n",
    "\"\"\"\n",
    "s='1013'\n",
    "substring=\n",
    "'1,10,101,1013'\n",
    "'0,01,013'\n",
    "'1,13'\n",
    "'3'\n",
    "\n",
    "'''abcd\n",
    "\n",
    "a,ab,abc,abcd,\n",
    "b,bc,bcd,\n",
    "c,cd\n",
    "d'''\n",
    "\n",
    "\"\"\""
   ]
  },
  {
   "cell_type": "code",
   "execution_count": 12,
   "id": "ce967ca1",
   "metadata": {},
   "outputs": [
    {
     "name": "stdout",
     "output_type": "stream",
     "text": [
      "a\n",
      "ab\n",
      "abc\n",
      "abcd\n",
      "b\n",
      "bc\n",
      "bcd\n",
      "c\n",
      "cd\n",
      "d\n"
     ]
    }
   ],
   "source": [
    "def print_substrings(s, start=0, current=\"\"):\n",
    "    # Base case: if start index goes beyond the string length\n",
    "    if start == len(s):\n",
    "        return\n",
    "\n",
    "    if current == \"\":\n",
    "        current = s[start]\n",
    "\n",
    "    print(current)\n",
    "\n",
    "    if start + len(current) < len(s):\n",
    "        # Expand the current substring\n",
    "        print_substrings(s, start, current + s[start + len(current)])\n",
    "    else:\n",
    "        # Move to next starting character\n",
    "        print_substrings(s, start + 1)\n",
    "\n",
    "# Example usage:\n",
    "print_substrings(\"abcd\")\n"
   ]
  },
  {
   "cell_type": "code",
   "execution_count": null,
   "id": "3f510244",
   "metadata": {},
   "outputs": [],
   "source": [
    "#calculate the average of the given arguments using *args\n",
    "#calculate the max of the given arguments using *args"
   ]
  },
  {
   "cell_type": "code",
   "execution_count": 13,
   "id": "3daa5ad1",
   "metadata": {},
   "outputs": [],
   "source": [
    "#check the arguments using **kwargs\n",
    "#required(name=abc,email=a@b,dob=1/11/1111) #All fields are present\n",
    "#required(name=abc,dob=1/11/1111) #missing required feilds"
   ]
  },
  {
   "cell_type": "code",
   "execution_count": 14,
   "id": "423b10be",
   "metadata": {},
   "outputs": [],
   "source": [
    "#bill(100,tax=5,tip=10)"
   ]
  },
  {
   "cell_type": "code",
   "execution_count": 1,
   "id": "74277253",
   "metadata": {},
   "outputs": [],
   "source": [
    "#create a closure to generate odd numbers\n",
    "\n",
    "# odd=calculate()\n",
    "# print(odd())#3\n",
    "# print(odd())#5\n",
    "# print(odd())#7\n",
    "\n",
    "# odd2=calculate()\n",
    "# print(odd2())#3"
   ]
  },
  {
   "cell_type": "code",
   "execution_count": 4,
   "id": "4424e6c6",
   "metadata": {},
   "outputs": [
    {
     "name": "stdout",
     "output_type": "stream",
     "text": [
      "green\n"
     ]
    }
   ],
   "source": [
    "#scope inside a nested func\n",
    "\n",
    "def data():\n",
    "    color='green'\n",
    "    \n",
    "    def fly():\n",
    "        #print(color)\n",
    "        nonlocal color\n",
    "        color='red'\n",
    "        \n",
    "    fly()\n",
    "    \n",
    "data() "
   ]
  },
  {
   "cell_type": "code",
   "execution_count": null,
   "id": "d63431b7",
   "metadata": {},
   "outputs": [],
   "source": []
  },
  {
   "cell_type": "code",
   "execution_count": null,
   "id": "ac19079e",
   "metadata": {},
   "outputs": [],
   "source": []
  },
  {
   "cell_type": "code",
   "execution_count": null,
   "id": "e58a32b4",
   "metadata": {},
   "outputs": [],
   "source": []
  },
  {
   "cell_type": "code",
   "execution_count": null,
   "id": "41006b30",
   "metadata": {},
   "outputs": [],
   "source": []
  },
  {
   "cell_type": "code",
   "execution_count": null,
   "id": "18f336a2",
   "metadata": {},
   "outputs": [],
   "source": []
  },
  {
   "cell_type": "code",
   "execution_count": null,
   "id": "9528fd56",
   "metadata": {},
   "outputs": [],
   "source": []
  },
  {
   "cell_type": "code",
   "execution_count": null,
   "id": "6edae56e",
   "metadata": {},
   "outputs": [],
   "source": []
  },
  {
   "cell_type": "code",
   "execution_count": null,
   "id": "24c617a8",
   "metadata": {},
   "outputs": [],
   "source": []
  },
  {
   "cell_type": "code",
   "execution_count": null,
   "id": "f26747b6",
   "metadata": {},
   "outputs": [],
   "source": []
  },
  {
   "cell_type": "code",
   "execution_count": null,
   "id": "8b773724",
   "metadata": {},
   "outputs": [],
   "source": []
  },
  {
   "cell_type": "code",
   "execution_count": null,
   "id": "482a164a",
   "metadata": {},
   "outputs": [],
   "source": []
  },
  {
   "cell_type": "code",
   "execution_count": null,
   "id": "1dc3e0b5",
   "metadata": {},
   "outputs": [],
   "source": []
  },
  {
   "cell_type": "code",
   "execution_count": null,
   "id": "3fa3991e",
   "metadata": {},
   "outputs": [],
   "source": []
  },
  {
   "cell_type": "code",
   "execution_count": null,
   "id": "35e7c46c",
   "metadata": {},
   "outputs": [],
   "source": []
  },
  {
   "cell_type": "code",
   "execution_count": null,
   "id": "7993ff96",
   "metadata": {},
   "outputs": [],
   "source": []
  },
  {
   "cell_type": "code",
   "execution_count": 2,
   "id": "5d7ea3eb",
   "metadata": {},
   "outputs": [],
   "source": [
    "#Iterabels\n",
    "#list\n",
    "#String\n",
    "#Dictionary"
   ]
  },
  {
   "cell_type": "code",
   "execution_count": 2,
   "id": "7639b3df",
   "metadata": {},
   "outputs": [
    {
     "name": "stdout",
     "output_type": "stream",
     "text": [
      "1\n",
      "2\n",
      "3\n"
     ]
    }
   ],
   "source": [
    "for i in [1,2,3]:\n",
    "    print(i)"
   ]
  },
  {
   "cell_type": "code",
   "execution_count": 3,
   "id": "a1386c67",
   "metadata": {},
   "outputs": [
    {
     "data": {
      "text/plain": [
       "<list_iterator at 0x1c9265a2820>"
      ]
     },
     "execution_count": 3,
     "metadata": {},
     "output_type": "execute_result"
    }
   ],
   "source": [
    "#iterator\n",
    "#iter()\n",
    "iter([1,2,3])"
   ]
  },
  {
   "cell_type": "code",
   "execution_count": 13,
   "id": "989986d7",
   "metadata": {},
   "outputs": [],
   "source": [
    "#Iterables\n",
    "my_list='hello'\n",
    "#iterator\n",
    "my_it=iter(my_list)"
   ]
  },
  {
   "cell_type": "code",
   "execution_count": 14,
   "id": "94bd7770",
   "metadata": {},
   "outputs": [
    {
     "data": {
      "text/plain": [
       "'h'"
      ]
     },
     "execution_count": 14,
     "metadata": {},
     "output_type": "execute_result"
    }
   ],
   "source": [
    "#next()\n",
    "next(my_it)"
   ]
  },
  {
   "cell_type": "code",
   "execution_count": 15,
   "id": "ca83ae09",
   "metadata": {},
   "outputs": [
    {
     "name": "stdout",
     "output_type": "stream",
     "text": [
      "h e l l o\n"
     ]
    }
   ],
   "source": [
    "#unpack with (*)\n",
    "my_list='hello'\n",
    "\n",
    "my_it=iter(my_list)\n",
    "\n",
    "print(*my_it)"
   ]
  },
  {
   "cell_type": "code",
   "execution_count": 16,
   "id": "59f1fd25",
   "metadata": {},
   "outputs": [
    {
     "name": "stdout",
     "output_type": "stream",
     "text": [
      "\n"
     ]
    }
   ],
   "source": [
    "#cannot unpack multiple times\n",
    "print(*my_it)"
   ]
  },
  {
   "cell_type": "code",
   "execution_count": 17,
   "id": "1c08e07b",
   "metadata": {},
   "outputs": [
    {
     "data": {
      "text/plain": [
       "['h', 'e', 'l', 'l', 'o']"
      ]
     },
     "execution_count": 17,
     "metadata": {},
     "output_type": "execute_result"
    }
   ],
   "source": [
    "#unpack with list\n",
    "my_list='hello'\n",
    "\n",
    "my_it=iter(my_list)\n",
    "\n",
    "list(my_it)"
   ]
  },
  {
   "cell_type": "code",
   "execution_count": 6,
   "id": "dcaaa93e",
   "metadata": {},
   "outputs": [
    {
     "name": "stdout",
     "output_type": "stream",
     "text": [
      "0 a\n",
      "1 b\n",
      "2 c\n"
     ]
    }
   ],
   "source": [
    "#enumerate()\n",
    "\n",
    "ls=['a','b','c']\n",
    "\n",
    "for i , v in enumerate(ls):\n",
    "    print(i,v)"
   ]
  },
  {
   "cell_type": "code",
   "execution_count": 8,
   "id": "1c34ce2d",
   "metadata": {},
   "outputs": [
    {
     "name": "stdout",
     "output_type": "stream",
     "text": [
      "(0, 'a')\n",
      "(1, 'b')\n"
     ]
    }
   ],
   "source": [
    "a=enumerate(ls)\n",
    "#next(enumerate(ls))\n",
    "print(next(a))\n",
    "print(next(a))"
   ]
  },
  {
   "cell_type": "code",
   "execution_count": 24,
   "id": "48961b7c",
   "metadata": {},
   "outputs": [
    {
     "data": {
      "text/plain": [
       "[(0, 'a'), (1, 'b'), (2, 'c')]"
      ]
     },
     "execution_count": 24,
     "metadata": {},
     "output_type": "execute_result"
    }
   ],
   "source": [
    "list(enumerate(ls))"
   ]
  },
  {
   "cell_type": "code",
   "execution_count": 25,
   "id": "e3260b72",
   "metadata": {},
   "outputs": [
    {
     "data": {
      "text/plain": [
       "[(3, 'a'), (4, 'b'), (5, 'c')]"
      ]
     },
     "execution_count": 25,
     "metadata": {},
     "output_type": "execute_result"
    }
   ],
   "source": [
    "list(enumerate(ls,start=3))"
   ]
  },
  {
   "cell_type": "code",
   "execution_count": 32,
   "id": "15cb9a07",
   "metadata": {},
   "outputs": [
    {
     "data": {
      "text/plain": [
       "<generator object simple_gen at 0x000001C926A4A5F0>"
      ]
     },
     "execution_count": 32,
     "metadata": {},
     "output_type": "execute_result"
    }
   ],
   "source": [
    "#generators\n",
    "#generators are used to create iterators and they are memory efficient\n",
    "#yield\n",
    "def simple_gen():\n",
    "    yield 1\n",
    "    yield 2\n",
    "    yield 3\n",
    "    \n",
    "gen=simple_gen()\n",
    "gen"
   ]
  },
  {
   "cell_type": "code",
   "execution_count": 33,
   "id": "8c4b94c9",
   "metadata": {},
   "outputs": [
    {
     "data": {
      "text/plain": [
       "1"
      ]
     },
     "execution_count": 33,
     "metadata": {},
     "output_type": "execute_result"
    }
   ],
   "source": [
    "next(gen)"
   ]
  },
  {
   "cell_type": "code",
   "execution_count": 37,
   "id": "750c2ea5",
   "metadata": {},
   "outputs": [
    {
     "name": "stdout",
     "output_type": "stream",
     "text": [
      "0\n",
      "1\n",
      "2\n",
      "3\n",
      "4\n",
      "5\n"
     ]
    }
   ],
   "source": [
    "def infinite():\n",
    "    num=0\n",
    "    while True:\n",
    "        yield num\n",
    "        num+=1\n",
    "        \n",
    "gen=infinite()\n",
    "print(next(gen))\n",
    "print(next(gen))\n",
    "print(next(gen))\n",
    "print(next(gen))\n",
    "print(next(gen))\n",
    "print(next(gen))"
   ]
  },
  {
   "cell_type": "code",
   "execution_count": 39,
   "id": "31b560e8",
   "metadata": {},
   "outputs": [
    {
     "name": "stdout",
     "output_type": "stream",
     "text": [
      "0\n",
      "1\n"
     ]
    }
   ],
   "source": [
    "#generators without yield\n",
    "generator=(x for x in range(5))\n",
    "\n",
    "generator\n",
    "print(next(generator))\n",
    "print(next(generator))"
   ]
  },
  {
   "cell_type": "code",
   "execution_count": null,
   "id": "49d5360a",
   "metadata": {},
   "outputs": [],
   "source": [
    "# ls=[x for x in range(10**9)]\n",
    "# ls[0]"
   ]
  },
  {
   "cell_type": "code",
   "execution_count": 9,
   "id": "a6d51d21",
   "metadata": {},
   "outputs": [
    {
     "name": "stdout",
     "output_type": "stream",
     "text": [
      "0\n",
      "1\n"
     ]
    }
   ],
   "source": [
    "gen=(x for x in range(10**9))\n",
    "print(next(gen))\n",
    "print(next(gen))\n"
   ]
  },
  {
   "cell_type": "code",
   "execution_count": 12,
   "id": "e5f873b3",
   "metadata": {},
   "outputs": [
    {
     "name": "stdout",
     "output_type": "stream",
     "text": [
      "before hi\n",
      "Hello\n",
      "after hi\n",
      "Hello\n"
     ]
    }
   ],
   "source": [
    "#decorators\n",
    "\n",
    "\n",
    "\n",
    "def deco(func):\n",
    "    def wrapper():\n",
    "        print('before hi')\n",
    "        func()\n",
    "        print('after hi')\n",
    "        func()\n",
    "    return wrapper\n",
    "\n",
    "\n",
    "@deco\n",
    "def hi():\n",
    "    print('Hello')\n",
    "\n",
    "hi()"
   ]
  },
  {
   "cell_type": "code",
   "execution_count": null,
   "id": "e2b72eb0",
   "metadata": {},
   "outputs": [],
   "source": [
    "deco(hi)"
   ]
  },
  {
   "cell_type": "code",
   "execution_count": null,
   "id": "0e177cd5",
   "metadata": {},
   "outputs": [],
   "source": [
    "def count_calls(func):\n",
    "    def wrapper(*args, **kwargs):\n",
    "        wrapper.count += 1\n",
    "        return func(*args, **kwargs)\n",
    "    wrapper.count = 0\n",
    "    return wrapper\n",
    "\n",
    "@count_calls\n",
    "def example_function():\n",
    "    \"\"\"This is an example function.\"\"\"\n",
    "    print(\"Function executed\")\n",
    "\n",
    "example_function()\n",
    "example_function()\n",
    "example_function()\n",
    "\n",
    "print(f\"The function 'example_function' was called {example_function.count} times.\")"
   ]
  },
  {
   "cell_type": "code",
   "execution_count": 13,
   "id": "b59f5bd2",
   "metadata": {},
   "outputs": [
    {
     "name": "stdout",
     "output_type": "stream",
     "text": [
      "HELLO WORLD\n",
      "123\n"
     ]
    }
   ],
   "source": [
    "def uppercase_decorator(func):\n",
    "    def wrapper(*args, **kwargs):\n",
    "        result = func(*args, **kwargs)\n",
    "        if isinstance(result, str):\n",
    "            return result.upper()\n",
    "        return result\n",
    "    return wrapper\n",
    "\n",
    "@uppercase_decorator\n",
    "def get_string():\n",
    "    return \"hello world\"\n",
    "\n",
    "@uppercase_decorator\n",
    "def get_number():\n",
    "    return 123\n",
    "\n",
    "print(get_string())\n",
    "print(get_number())"
   ]
  },
  {
   "cell_type": "code",
   "execution_count": 1,
   "id": "cc99998d",
   "metadata": {},
   "outputs": [
    {
     "name": "stdout",
     "output_type": "stream",
     "text": [
      "25\n",
      "HELLO\n"
     ]
    },
    {
     "ename": "TypeError",
     "evalue": "Expected <class 'int'>, got <class 'str'>",
     "output_type": "error",
     "traceback": [
      "\u001b[1;31m---------------------------------------------------------------------------\u001b[0m",
      "\u001b[1;31mTypeError\u001b[0m                                 Traceback (most recent call last)",
      "\u001b[1;32m~\\AppData\\Local\\Temp\\ipykernel_1716\\2254026644.py\u001b[0m in \u001b[0;36m<module>\u001b[1;34m\u001b[0m\n\u001b[0;32m     22\u001b[0m \u001b[1;33m\u001b[0m\u001b[0m\n\u001b[0;32m     23\u001b[0m \u001b[1;31m# Invalid call - will raise TypeError\u001b[0m\u001b[1;33m\u001b[0m\u001b[1;33m\u001b[0m\u001b[0m\n\u001b[1;32m---> 24\u001b[1;33m \u001b[0mprint\u001b[0m\u001b[1;33m(\u001b[0m\u001b[0msquare\u001b[0m\u001b[1;33m(\u001b[0m\u001b[1;34m\"not a number\"\u001b[0m\u001b[1;33m)\u001b[0m\u001b[1;33m)\u001b[0m  \u001b[1;31m# Raises: TypeError\u001b[0m\u001b[1;33m\u001b[0m\u001b[1;33m\u001b[0m\u001b[0m\n\u001b[0m",
      "\u001b[1;32m~\\AppData\\Local\\Temp\\ipykernel_1716\\2254026644.py\u001b[0m in \u001b[0;36mwrapper\u001b[1;34m(arg)\u001b[0m\n\u001b[0;32m      3\u001b[0m         \u001b[1;32mdef\u001b[0m \u001b[0mwrapper\u001b[0m\u001b[1;33m(\u001b[0m\u001b[0marg\u001b[0m\u001b[1;33m)\u001b[0m\u001b[1;33m:\u001b[0m\u001b[1;33m\u001b[0m\u001b[1;33m\u001b[0m\u001b[0m\n\u001b[0;32m      4\u001b[0m             \u001b[1;32mif\u001b[0m \u001b[1;32mnot\u001b[0m \u001b[0misinstance\u001b[0m\u001b[1;33m(\u001b[0m\u001b[0marg\u001b[0m\u001b[1;33m,\u001b[0m \u001b[0mexpected_type\u001b[0m\u001b[1;33m)\u001b[0m\u001b[1;33m:\u001b[0m\u001b[1;33m\u001b[0m\u001b[1;33m\u001b[0m\u001b[0m\n\u001b[1;32m----> 5\u001b[1;33m                 \u001b[1;32mraise\u001b[0m \u001b[0mTypeError\u001b[0m\u001b[1;33m(\u001b[0m\u001b[1;34mf\"Expected {expected_type}, got {type(arg)}\"\u001b[0m\u001b[1;33m)\u001b[0m\u001b[1;33m\u001b[0m\u001b[1;33m\u001b[0m\u001b[0m\n\u001b[0m\u001b[0;32m      6\u001b[0m             \u001b[1;32mreturn\u001b[0m \u001b[0mfunc\u001b[0m\u001b[1;33m(\u001b[0m\u001b[0marg\u001b[0m\u001b[1;33m)\u001b[0m\u001b[1;33m\u001b[0m\u001b[1;33m\u001b[0m\u001b[0m\n\u001b[0;32m      7\u001b[0m         \u001b[1;32mreturn\u001b[0m \u001b[0mwrapper\u001b[0m\u001b[1;33m\u001b[0m\u001b[1;33m\u001b[0m\u001b[0m\n",
      "\u001b[1;31mTypeError\u001b[0m: Expected <class 'int'>, got <class 'str'>"
     ]
    }
   ],
   "source": [
    "def type_check_decorator(expected_type):\n",
    "    def decorator(func):\n",
    "        def wrapper(arg):\n",
    "            if not isinstance(arg, expected_type):\n",
    "                raise TypeError(f\"Expected {expected_type}, got {type(arg)}\")\n",
    "            return func(arg)\n",
    "        return wrapper\n",
    "    return decorator\n",
    "\n",
    "# Example usage\n",
    "@type_check_decorator(int)\n",
    "def square(n):\n",
    "    return n * n\n",
    "\n",
    "@type_check_decorator(str)\n",
    "def shout(text):\n",
    "    return text.upper()\n",
    "\n",
    "# Valid calls\n",
    "print(square(5))        # Output: 25\n",
    "print(shout(\"hello\"))   # Output: HELLO\n",
    "\n",
    "# Invalid call - will raise TypeError\n",
    "print(square(\"not a number\"))  # Raises: TypeError\n"
   ]
  },
  {
   "cell_type": "code",
   "execution_count": 2,
   "id": "1186dd4a",
   "metadata": {},
   "outputs": [
    {
     "data": {
      "text/plain": [
       "8"
      ]
     },
     "execution_count": 2,
     "metadata": {},
     "output_type": "execute_result"
    }
   ],
   "source": [
    "#lambda /Anonymos function/ single line function/ function with no name\n",
    "\n",
    "\n",
    "a= lambda a,b:a*b\n",
    "\n",
    "a(2,4)"
   ]
  },
  {
   "cell_type": "code",
   "execution_count": 3,
   "id": "0b498d57",
   "metadata": {},
   "outputs": [
    {
     "data": {
      "text/plain": [
       "True"
      ]
     },
     "execution_count": 3,
     "metadata": {},
     "output_type": "execute_result"
    }
   ],
   "source": [
    "b= lambda x: x %2==0\n",
    "\n",
    "b(24)"
   ]
  },
  {
   "cell_type": "code",
   "execution_count": null,
   "id": "f8c621d7",
   "metadata": {},
   "outputs": [],
   "source": [
    "l=['abc','ab','a','aaaa']\n",
    "l=['a','ab','abc','aaaa']"
   ]
  },
  {
   "cell_type": "code",
   "execution_count": null,
   "id": "346eee06",
   "metadata": {},
   "outputs": [],
   "source": [
    "#\n",
    "l=[]\n",
    "for i in range(10):\n",
    "    if i %2==0:\n",
    "        l.append(i)"
   ]
  },
  {
   "cell_type": "code",
   "execution_count": 2,
   "id": "ff585e09",
   "metadata": {},
   "outputs": [
    {
     "data": {
      "text/plain": [
       "[0, 2, 4]"
      ]
     },
     "execution_count": 2,
     "metadata": {},
     "output_type": "execute_result"
    }
   ],
   "source": [
    "l=[i for i in range(5) if i%2==0]\n",
    "l"
   ]
  },
  {
   "cell_type": "code",
   "execution_count": null,
   "id": "97782e32",
   "metadata": {},
   "outputs": [],
   "source": [
    "result = [number for number in range(1,100) if True in [True for x in range(2,10) if number % x == 0]]\n",
    "print(result)"
   ]
  },
  {
   "cell_type": "code",
   "execution_count": 3,
   "id": "e4a157d1",
   "metadata": {},
   "outputs": [
    {
     "data": {
      "text/plain": [
       "{0: 0, 1: 1, 2: 4, 3: 9, 4: 16, 5: 25, 6: 36, 7: 49, 8: 64, 9: 81}"
      ]
     },
     "execution_count": 3,
     "metadata": {},
     "output_type": "execute_result"
    }
   ],
   "source": [
    "#dict\n",
    "\n",
    "d={i:i**2 for i in range(10)}\n",
    "d"
   ]
  },
  {
   "cell_type": "code",
   "execution_count": 5,
   "id": "8f4a5d7f",
   "metadata": {},
   "outputs": [],
   "source": [
    "#map(),filter(),reduce()\n",
    "#map(func,iter)\n",
    "\n",
    "l=[2,3,4,5]\n",
    "a=[]\n",
    "for i in l:\n",
    "    area=3.14*i**2\n",
    "    a.append(area)\n",
    "\n"
   ]
  },
  {
   "cell_type": "code",
   "execution_count": 7,
   "id": "dc5c6836",
   "metadata": {},
   "outputs": [
    {
     "data": {
      "text/plain": [
       "[12.56, 28.26, 50.24, 78.5]"
      ]
     },
     "execution_count": 7,
     "metadata": {},
     "output_type": "execute_result"
    }
   ],
   "source": [
    "def area(a):\n",
    "    return 3.14*a**2\n",
    "\n",
    "list(map(area,l))"
   ]
  },
  {
   "cell_type": "code",
   "execution_count": 8,
   "id": "9b58092b",
   "metadata": {},
   "outputs": [
    {
     "data": {
      "text/plain": [
       "[12.56, 28.26, 50.24, 78.5]"
      ]
     },
     "execution_count": 8,
     "metadata": {},
     "output_type": "execute_result"
    }
   ],
   "source": [
    "list(map(lambda a:3.14*a**2,l))"
   ]
  },
  {
   "cell_type": "code",
   "execution_count": 9,
   "id": "495bf569",
   "metadata": {},
   "outputs": [
    {
     "data": {
      "text/plain": [
       "[2, 4, 6, 8]"
      ]
     },
     "execution_count": 9,
     "metadata": {},
     "output_type": "execute_result"
    }
   ],
   "source": [
    "#filter(func,data)\n",
    "l=[2,3,4,5,6,7,8]\n",
    "\n",
    "list(filter(lambda a: a%2==0,l))\n"
   ]
  },
  {
   "cell_type": "code",
   "execution_count": 11,
   "id": "384b91af",
   "metadata": {},
   "outputs": [],
   "source": [
    "#math module"
   ]
  },
  {
   "cell_type": "code",
   "execution_count": null,
   "id": "ed21a471",
   "metadata": {},
   "outputs": [],
   "source": [
    "#random.choice()\n",
    "#random.choices()\n",
    "#random.sample()\n",
    "#random.seed()\n",
    "#random.uniform()"
   ]
  },
  {
   "cell_type": "code",
   "execution_count": null,
   "id": "c467c3cc",
   "metadata": {},
   "outputs": [],
   "source": [
    "#os\n",
    "#get current working directory()\n",
    "#change the directory()\n",
    "#Rename a directory"
   ]
  },
  {
   "cell_type": "code",
   "execution_count": 1,
   "id": "4fddc153",
   "metadata": {},
   "outputs": [
    {
     "ename": "ZeroDivisionError",
     "evalue": "division by zero",
     "output_type": "error",
     "traceback": [
      "\u001b[1;31m---------------------------------------------------------------------------\u001b[0m",
      "\u001b[1;31mZeroDivisionError\u001b[0m                         Traceback (most recent call last)",
      "\u001b[1;32m~\\AppData\\Local\\Temp\\ipykernel_4332\\137888128.py\u001b[0m in \u001b[0;36m<module>\u001b[1;34m\u001b[0m\n\u001b[1;32m----> 1\u001b[1;33m \u001b[0mprint\u001b[0m\u001b[1;33m(\u001b[0m\u001b[1;36m10\u001b[0m\u001b[1;33m/\u001b[0m\u001b[1;36m0\u001b[0m\u001b[1;33m)\u001b[0m\u001b[1;33m\u001b[0m\u001b[1;33m\u001b[0m\u001b[0m\n\u001b[0m\u001b[0;32m      2\u001b[0m \u001b[0mprint\u001b[0m\u001b[1;33m(\u001b[0m\u001b[1;34m'hello'\u001b[0m\u001b[1;33m)\u001b[0m\u001b[1;33m\u001b[0m\u001b[1;33m\u001b[0m\u001b[0m\n",
      "\u001b[1;31mZeroDivisionError\u001b[0m: division by zero"
     ]
    }
   ],
   "source": [
    "print(10/0)\n",
    "print('hello')"
   ]
  },
  {
   "cell_type": "code",
   "execution_count": null,
   "id": "09f20486",
   "metadata": {},
   "outputs": [],
   "source": [
    "try:\n",
    "    print(10/0)\n",
    "except ZeroDivision"
   ]
  },
  {
   "cell_type": "code",
   "execution_count": null,
   "id": "ef985628",
   "metadata": {},
   "outputs": [],
   "source": [
    "import json\n",
    "import os\n",
    "\n",
    "def load_config(file_path):\n",
    "    try:\n",
    "        # Check if file exists\n",
    "        if not os.path.isfile(file_path):\n",
    "            raise FileNotFoundError(f\"File not found: {file_path}\")\n",
    "\n",
    "        # Load JSON data\n",
    "        with open(file_path, 'r') as file:\n",
    "            config = json.load(file)\n",
    "\n",
    "        # Validate essential keys\n",
    "        required_keys = ['host', 'port', 'username']\n",
    "        for key in required_keys:\n",
    "            if key not in config:\n",
    "                raise ValueError(f\"Missing required key: {key}\")\n",
    "\n",
    "        # Validate types\n",
    "        if not isinstance(config['port'], int):\n",
    "            raise TypeError(\"Port must be an integer\")\n",
    "\n",
    "        return config\n",
    "\n",
    "    except FileNotFoundError as fnf:\n",
    "        print(\"File error:\", fnf)\n",
    "    except json.JSONDecodeError as jde:\n",
    "        print(\"Invalid JSON format:\", jde)\n",
    "    except (ValueError, TypeError) as ve:\n",
    "        print(\"Validation error:\", ve)\n",
    "    except Exception as e:\n",
    "        print(\"Unexpected error:\", e)\n",
    "\n",
    "    return None\n",
    "\n",
    "# --- Example usage ---\n",
    "config = load_config(\"config.json\")\n",
    "if config:\n",
    "    print(\"Valid config loaded:\", config)\n",
    "else:\n",
    "    print(\"Failed to load valid config.\")\n"
   ]
  }
 ],
 "metadata": {
  "kernelspec": {
   "display_name": "Python 3 (ipykernel)",
   "language": "python",
   "name": "python3"
  },
  "language_info": {
   "codemirror_mode": {
    "name": "ipython",
    "version": 3
   },
   "file_extension": ".py",
   "mimetype": "text/x-python",
   "name": "python",
   "nbconvert_exporter": "python",
   "pygments_lexer": "ipython3",
   "version": "3.9.13"
  }
 },
 "nbformat": 4,
 "nbformat_minor": 5
}

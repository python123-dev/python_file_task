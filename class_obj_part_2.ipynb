{
  "nbformat": 4,
  "nbformat_minor": 0,
  "metadata": {
    "colab": {
      "provenance": []
    },
    "kernelspec": {
      "name": "python3",
      "display_name": "Python 3"
    },
    "language_info": {
      "name": "python"
    }
  },
  "cells": [
    {
      "cell_type": "code",
      "execution_count": null,
      "metadata": {
        "colab": {
          "base_uri": "https://localhost:8080/"
        },
        "id": "U2dwfPJcVFpQ",
        "outputId": "a28c5b23-dff1-4b3a-a640-2c5d9f1d8979"
      },
      "outputs": [
        {
          "output_type": "stream",
          "name": "stdout",
          "text": [
            "<__main__.Employee object at 0x7a38fed77410>\n",
            "<__main__.Employee object at 0x7a38fed76c90>\n"
          ]
        }
      ],
      "source": [
        "class Employee:          #class creation/declaration\n",
        "  pass\n",
        "\n",
        "emp_1 = Employee()       #instance/object declaration\n",
        "emp_2 = Employee()\n",
        "print(emp_1)\n",
        "print(emp_2)"
      ]
    },
    {
      "cell_type": "code",
      "source": [
        "class Employee:          #class creation/declaration\n",
        "  pass\n",
        "\n",
        "emp_1 = Employee()       #instance/object declaration\n",
        "emp_2 = Employee()\n",
        "\n",
        "\n",
        "emp_1.first = 'Corey'    #declaring variables/attributes to class\n",
        "emp_1.last = 'Schafer'\n",
        "emp_1.email='CoreySchafer@company.com'\n",
        "emp_1.pay=50000\n",
        "\n",
        "emp_2.first = 'Test'\n",
        "emp_2.last = 'User'\n",
        "emp_2.email='TestUser@company.com'\n",
        "emp_2.pay=60000\n",
        "\n",
        "print(emp_1.email)\n",
        "print(emp_2.email)"
      ],
      "metadata": {
        "colab": {
          "base_uri": "https://localhost:8080/"
        },
        "id": "bxOBuE5DWnic",
        "outputId": "00cb9795-ff83-4e2a-9a75-1d120be47120"
      },
      "execution_count": null,
      "outputs": [
        {
          "output_type": "stream",
          "name": "stdout",
          "text": [
            "CoreySchafer@company.com\n",
            "TestUser@company.com\n"
          ]
        }
      ]
    },
    {
      "cell_type": "code",
      "source": [
        "class Employee:  #class creation/declaration\n",
        "\n",
        "  def __init__(self, first, last, pay):         #declaring a init or constructor\n",
        "    self.first = first\n",
        "    self.last = last\n",
        "    self.pay = pay\n",
        "    self.email = first + '.' + last + '@company.com'\n",
        "\n",
        "emp_1 = Employee('Coery',\"Schafer\",50000)       #instance/object declaration\n",
        "emp_2 = Employee('Test','User',60000)\n",
        "\n",
        "\n",
        "print(emp_1.email)\n",
        "print(emp_2.email)"
      ],
      "metadata": {
        "colab": {
          "base_uri": "https://localhost:8080/"
        },
        "id": "I9uZ3-A3YOYr",
        "outputId": "3927874f-6568-48a4-90cf-49a75eeccac8"
      },
      "execution_count": null,
      "outputs": [
        {
          "output_type": "stream",
          "name": "stdout",
          "text": [
            "CoreySchafer@company.com\n",
            "TestUser@company.com\n"
          ]
        }
      ]
    },
    {
      "cell_type": "code",
      "source": [
        "class Employee:  #class creation/declaration\n",
        "\n",
        "  def __init__(self, first, last, pay):         #declaring a init or constructor\n",
        "\n",
        "    self.first = first                          #instance variables\n",
        "    self.last = last\n",
        "    self.pay = pay\n",
        "    self.email = first + '.' + last + '@company.com'\n",
        "\n",
        "  def fullname(self):\n",
        "    return '{} {}'.format(self.first, self.last)\n",
        "\n",
        "\n",
        "emp_1 = Employee('Coery',\"Schafer\",50000)       #instance/object declaration\n",
        "emp_2 = Employee('Test','User',60000)\n",
        "\n",
        "\n",
        "print(emp_1.email)\n",
        "print(emp_2.email)\n",
        "\n",
        "print(emp_1.fullname())\n",
        "print(emp_2.fullname())"
      ],
      "metadata": {
        "colab": {
          "base_uri": "https://localhost:8080/"
        },
        "id": "_HCYuiJbZb52",
        "outputId": "7b0c07f9-643d-4906-c68b-ba600b6ba9aa"
      },
      "execution_count": null,
      "outputs": [
        {
          "output_type": "stream",
          "name": "stdout",
          "text": [
            "Coery.Schafer@company.com\n",
            "Test.User@company.com\n",
            "Coery Schafer\n",
            "Test User\n"
          ]
        }
      ]
    },
    {
      "cell_type": "code",
      "source": [
        "emp_1.fullname()\n",
        "Employee.fullname(emp_1)"
      ],
      "metadata": {
        "colab": {
          "base_uri": "https://localhost:8080/",
          "height": 35
        },
        "id": "E0OSyMn6Z5AW",
        "outputId": "d4ebdcef-ef58-4298-a88b-285e7b98da53"
      },
      "execution_count": null,
      "outputs": [
        {
          "output_type": "execute_result",
          "data": {
            "text/plain": [
              "'Coery Schafer'"
            ],
            "application/vnd.google.colaboratory.intrinsic+json": {
              "type": "string"
            }
          },
          "metadata": {},
          "execution_count": 6
        }
      ]
    },
    {
      "cell_type": "code",
      "source": [
        "class Employee:\n",
        "  raise_amount=1.04       #class variable\n",
        "\n",
        "  def __init__(self, first, last, pay):\n",
        "    self.first = first\n",
        "    self.last = last\n",
        "    self.pay = pay\n",
        "    self.email = first + '.' + last + '@company.com'\n",
        "\n",
        "  def fullname(self):\n",
        "    return '{} {}'.format(self.first, self.last)\n",
        "\n",
        "  def apply_raise(self):\n",
        "    #self.pay = int(self.pay * 1.04)\n",
        "    self.pay=int(self.pay*self.raise_amount) # Employee.raise_amount\n",
        "\n",
        "emp_1 = Employee('Coery',\"Schafer\",50000)\n",
        "emp_2 = Employee('Test','User',60000)\n",
        "\n",
        "# print(emp_1.pay)\n",
        "# Employee.raise_amount=1.05    # changing the class variable value\n",
        "# emp_1.apply_raise()\n",
        "# print(emp_1.pay)\n",
        "\n",
        "# print(emp_1.__dict__)\n",
        "# print(Employee.__dict__)\n",
        "\n",
        "emp_1.raise_amount=150\n",
        "print(emp_1.pay)\n",
        "emp_1.apply_raise()\n",
        "print(emp_1.pay)\n",
        "\n",
        "\n",
        "print(emp_2.pay)\n",
        "emp_2.apply_raise()\n",
        "print(emp_2.pay)"
      ],
      "metadata": {
        "colab": {
          "base_uri": "https://localhost:8080/"
        },
        "id": "DczbAcPybIsI",
        "outputId": "f7b5491e-612f-4d71-b16d-97663f0f8faa"
      },
      "execution_count": 4,
      "outputs": [
        {
          "output_type": "stream",
          "name": "stdout",
          "text": [
            "50000\n",
            "7500000\n",
            "60000\n",
            "62400\n"
          ]
        }
      ]
    },
    {
      "cell_type": "code",
      "source": [
        "# regular methods class methods and static methods\n",
        "\n",
        "class Employee:\n",
        "  raise_amount=1.04       #class variable\n",
        "\n",
        "  def __init__(self, first, last, pay):\n",
        "    self.first = first\n",
        "    self.last = last\n",
        "    self.pay = pay\n",
        "    self.email = first + '.' + last + '@company.com'\n",
        "\n",
        "  def fullname(self):       #regular method\n",
        "    return '{} {}'.format(self.first, self.last)\n",
        "\n",
        "  def apply_raise(self):\n",
        "    #self.pay = int(self.pay * 1.04)\n",
        "    self.pay=int(self.pay*self.raise_amount) # Employee.raise_amount\n",
        "\n",
        "  @classmethod\n",
        "  def set_raise_amt(cls,amount):\n",
        "    cls.raise_amount=amount\n",
        "\n",
        "emp_1 = Employee('Coery',\"Schafer\",50000)\n",
        "emp_2 = Employee('Test','User',60000)\n",
        "\n",
        "#emp_1.set_raise_amt(1.05)    # a class method will work with a object\n",
        "Employee.set_raise_amt(1.05)\n",
        "\n",
        "print(Employee.raise_amount)\n",
        "print(emp_1.raise_amount)\n",
        "print(emp_2.raise_amount)\n"
      ],
      "metadata": {
        "colab": {
          "base_uri": "https://localhost:8080/"
        },
        "id": "RuxUiQ_9bIw8",
        "outputId": "d33d51a6-8544-40e2-ed75-e474628cfd66"
      },
      "execution_count": null,
      "outputs": [
        {
          "output_type": "stream",
          "name": "stdout",
          "text": [
            "1.05\n",
            "1.05\n",
            "1.05\n"
          ]
        }
      ]
    },
    {
      "cell_type": "code",
      "source": [
        "emp_str_1='John-Doe-40000'\n",
        "emp_str_2='Will-Smith-50000'\n",
        "emp_str_3='John-Adam-60000'\n",
        "\n",
        "first,last,pay=emp_str_1.split('-')\n",
        "emp_3=Employee(first,last,pay)\n",
        "\n",
        "print(emp_3.email)\n",
        "print(emp_3.pay)"
      ],
      "metadata": {
        "colab": {
          "base_uri": "https://localhost:8080/"
        },
        "id": "DRMPcnyZjDYi",
        "outputId": "ee887875-6cc0-4800-b723-c974798b5414"
      },
      "execution_count": null,
      "outputs": [
        {
          "output_type": "stream",
          "name": "stdout",
          "text": [
            "John.Doe@company.com\n",
            "40000\n"
          ]
        }
      ]
    },
    {
      "cell_type": "code",
      "source": [
        "# regular methods class methods and static methods\n",
        "\n",
        "class Employee:\n",
        "  raise_amount=1.04       #class variable\n",
        "\n",
        "  def __init__(self, first, last, pay):\n",
        "    self.first = first\n",
        "    self.last = last\n",
        "    self.pay = pay\n",
        "    self.email = first + '.' + last + '@company.com'\n",
        "\n",
        "  def fullname(self):       #regular method\n",
        "    return '{} {}'.format(self.first, self.last)\n",
        "\n",
        "  def apply_raise(self):\n",
        "    #self.pay = int(self.pay * 1.04)\n",
        "    self.pay=int(self.pay*self.raise_amount) # Employee.raise_amount\n",
        "\n",
        "  @classmethod\n",
        "  def set_raise_amt(cls,amount):\n",
        "    cls.raise_amount=amount\n",
        "\n",
        "  @classmethod\n",
        "  def from_string(cls,emp_str):\n",
        "    first,last,pay=emp_str.split('-')\n",
        "    return cls(first,last,pay)\n",
        "\n",
        "emp_1 = Employee('Coery',\"Schafer\",50000)\n",
        "emp_2 = Employee('Test','User',60000)\n",
        "\n",
        "#emp_1.set_raise_amt(1.05)    # a class method will work with a object\n",
        "Employee.set_raise_amt(1.05)\n",
        "\n",
        "print(Employee.raise_amount)\n",
        "print(emp_1.raise_amount)\n",
        "print(emp_2.raise_amount)\n",
        "\n",
        "new_emp_1=Employee.from_string(emp_str_1)\n",
        "print(new_emp_1.email)\n",
        "print(new_emp_1.pay)\n"
      ],
      "metadata": {
        "colab": {
          "base_uri": "https://localhost:8080/"
        },
        "id": "TJE9X6vXktpR",
        "outputId": "56f0a94b-26e1-448c-d865-271573c710b7"
      },
      "execution_count": null,
      "outputs": [
        {
          "output_type": "stream",
          "name": "stdout",
          "text": [
            "1.05\n",
            "1.05\n",
            "1.05\n",
            "John.Doe@company.com\n",
            "40000\n"
          ]
        }
      ]
    },
    {
      "cell_type": "code",
      "source": [
        "# regular methods class methods and static methods\n",
        "\n",
        "class Employee:\n",
        "  raise_amount=1.04       #class variable\n",
        "\n",
        "  def __init__(self, first, last, pay):\n",
        "    self.first = first\n",
        "    self.last = last\n",
        "    self.pay = pay\n",
        "    self.email = first + '.' + last + '@company.com'\n",
        "\n",
        "  def fullname(self):       #regular method\n",
        "    return '{} {}'.format(self.first, self.last)\n",
        "\n",
        "  def apply_raise(self):\n",
        "    #self.pay = int(self.pay * 1.04)\n",
        "    self.pay=int(self.pay*self.raise_amount) # Employee.raise_amount\n",
        "\n",
        "  @classmethod\n",
        "  def set_raise_amt(cls,amount):\n",
        "    cls.raise_amount=amount\n",
        "\n",
        "  @classmethod\n",
        "  def from_string(cls,emp_str):\n",
        "    first,last,pay=emp_str.split('-')\n",
        "    return cls(first,last,pay)\n",
        "\n",
        "  @staticmethod\n",
        "  def is_workday(day):\n",
        "    if day.weekday()==5 or day.weekday()==6:\n",
        "      return False\n",
        "    return True\n",
        "\n",
        "emp_1 = Employee('Coery',\"Schafer\",50000)\n",
        "emp_2 = Employee('Test','User',60000)\n",
        "\n",
        "import datetime\n",
        "my_date=datetime.date(2016,5,10)\n",
        "print(Employee.is_workday(my_date))\n"
      ],
      "metadata": {
        "colab": {
          "base_uri": "https://localhost:8080/"
        },
        "id": "nnv0RoG7mDOp",
        "outputId": "94e98452-9764-4c1b-b4ed-021b60235a44"
      },
      "execution_count": null,
      "outputs": [
        {
          "output_type": "stream",
          "name": "stdout",
          "text": [
            "True\n"
          ]
        }
      ]
    },
    {
      "cell_type": "code",
      "source": [
        "def html_tag()"
      ],
      "metadata": {
        "id": "ExeUfR2Cm9A4"
      },
      "execution_count": null,
      "outputs": []
    }
  ]
}
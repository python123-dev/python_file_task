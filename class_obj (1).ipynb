{
  "nbformat": 4,
  "nbformat_minor": 0,
  "metadata": {
    "colab": {
      "provenance": []
    },
    "kernelspec": {
      "name": "python3",
      "display_name": "Python 3"
    }
  },
  "cells": [
    {
      "cell_type": "code",
      "metadata": {
        "id": "3Sv9h6DTDf_h",
        "colab": {
          "base_uri": "https://localhost:8080/"
        },
        "outputId": "d43742e5-1b6e-4208-bce3-7b02fb6ce8e2"
      },
      "source": [
        " class demo:\n",
        "  print(\"demo class\")"
      ],
      "execution_count": null,
      "outputs": [
        {
          "output_type": "stream",
          "name": "stdout",
          "text": [
            "demo class\n"
          ]
        }
      ]
    },
    {
      "cell_type": "markdown",
      "metadata": {
        "id": "HD1JOWcVylcA"
      },
      "source": []
    },
    {
      "cell_type": "code",
      "metadata": {
        "id": "v3lHbFbyD7Oo",
        "colab": {
          "base_uri": "https://localhost:8080/"
        },
        "outputId": "55c94e44-a6cd-4e5f-9186-c1d7ac883ed5"
      },
      "source": [
        "class demo:\n",
        "\n",
        "\n",
        "  print(\"demo class\")\n",
        "  a=10\n",
        "  print(a)\n"
      ],
      "execution_count": null,
      "outputs": [
        {
          "output_type": "stream",
          "name": "stdout",
          "text": [
            "demo class\n",
            "10\n"
          ]
        }
      ]
    },
    {
      "cell_type": "code",
      "metadata": {
        "id": "Z0oG_5G6EKLs",
        "colab": {
          "base_uri": "https://localhost:8080/"
        },
        "outputId": "f3eb29df-26cc-4f8b-ceaa-ebc6544947c2"
      },
      "source": [
        "#creating an instance or object\n",
        "class demo:\n",
        "  print(\"demo class\")\n",
        "  a=int(input(\"a: \"))\n",
        "  b=int(input(\"b: \"))\n",
        "\n",
        "  #-------------------------------------\n",
        "\n",
        "\n",
        "obj=demo()\n",
        "print(obj.b)\n",
        "\n",
        "obj1=demo()\n",
        "print(obj1.a)\n"
      ],
      "execution_count": null,
      "outputs": [
        {
          "output_type": "stream",
          "name": "stdout",
          "text": [
            "demo class\n",
            "a: 12\n",
            "b: 24\n",
            "24\n",
            "12\n"
          ]
        }
      ]
    },
    {
      "cell_type": "code",
      "metadata": {
        "id": "YMo8gXKdEvww",
        "colab": {
          "base_uri": "https://localhost:8080/"
        },
        "outputId": "364580f5-1db5-4d24-acef-ec500e1021c2"
      },
      "source": [
        "#self keyword is used to pass values to functions declared inside a class.\n",
        "# with out self keywoard it will throw an error.\n",
        "class demo:\n",
        "  def example(self,a,b):\n",
        "    c = a+b\n",
        "    print(c)\n",
        "\n",
        "\n",
        "obj=demo()\n",
        "obj.example(10,20)"
      ],
      "execution_count": null,
      "outputs": [
        {
          "output_type": "stream",
          "name": "stdout",
          "text": [
            "30\n"
          ]
        }
      ]
    },
    {
      "cell_type": "code",
      "metadata": {
        "id": "G_X5GTJsG7mJ",
        "colab": {
          "base_uri": "https://localhost:8080/"
        },
        "outputId": "4d89528d-d6a3-4bf4-957f-3d58f9d11664"
      },
      "source": [
        "class demo:\n",
        "  d=50\n",
        "\n",
        "  def example(self,a,b):\n",
        "\n",
        "    c = a+b+self.d\n",
        "    print(c)\n",
        "\n",
        "obj=demo()\n",
        "obj.example(10,20)"
      ],
      "execution_count": null,
      "outputs": [
        {
          "output_type": "stream",
          "name": "stdout",
          "text": [
            "80\n"
          ]
        }
      ]
    },
    {
      "cell_type": "code",
      "metadata": {
        "id": "nVQOndTAHf8H",
        "colab": {
          "base_uri": "https://localhost:8080/"
        },
        "outputId": "987856c5-bdeb-413b-858a-a68aed64678b"
      },
      "source": [
        "class demo:\n",
        "  d=50\n",
        "\n",
        "  def example(self,a,b):\n",
        "\n",
        "    c = a+b+self.d\n",
        "    return c\n",
        "\n",
        "obj=demo()\n",
        "abc=obj.example(10,20)\n",
        "print(abc)"
      ],
      "execution_count": null,
      "outputs": [
        {
          "output_type": "stream",
          "name": "stdout",
          "text": [
            "80\n"
          ]
        }
      ]
    },
    {
      "cell_type": "code",
      "metadata": {
        "id": "W5UM1VsKJYQI",
        "colab": {
          "base_uri": "https://localhost:8080/",
          "height": 204
        },
        "outputId": "af56b59f-20c2-4b12-e340-1420db4a9cb2"
      },
      "source": [
        "# playing with self keyword.\n",
        "class person:\n",
        "  def display():\n",
        "     print(\"hi\")\n",
        "\n",
        "p=person()\n",
        "#person().display()\n",
        "p.display()"
      ],
      "execution_count": null,
      "outputs": [
        {
          "output_type": "error",
          "ename": "TypeError",
          "evalue": "ignored",
          "traceback": [
            "\u001b[0;31m---------------------------------------------------------------------------\u001b[0m",
            "\u001b[0;31mTypeError\u001b[0m                                 Traceback (most recent call last)",
            "\u001b[0;32m<ipython-input-4-66be535d92f8>\u001b[0m in \u001b[0;36m<module>\u001b[0;34m\u001b[0m\n\u001b[1;32m      6\u001b[0m \u001b[0mp\u001b[0m\u001b[0;34m=\u001b[0m\u001b[0mperson\u001b[0m\u001b[0;34m(\u001b[0m\u001b[0;34m)\u001b[0m\u001b[0;34m\u001b[0m\u001b[0;34m\u001b[0m\u001b[0m\n\u001b[1;32m      7\u001b[0m \u001b[0;31m#person().display()\u001b[0m\u001b[0;34m\u001b[0m\u001b[0;34m\u001b[0m\u001b[0m\n\u001b[0;32m----> 8\u001b[0;31m \u001b[0mp\u001b[0m\u001b[0;34m.\u001b[0m\u001b[0mdisplay\u001b[0m\u001b[0;34m(\u001b[0m\u001b[0;34m)\u001b[0m\u001b[0;34m\u001b[0m\u001b[0;34m\u001b[0m\u001b[0m\n\u001b[0m",
            "\u001b[0;31mTypeError\u001b[0m: display() takes 0 positional arguments but 1 was given"
          ]
        }
      ]
    },
    {
      "cell_type": "markdown",
      "metadata": {
        "id": "vh2y_hhLvidp"
      },
      "source": [
        "python constructor\n",
        "\n",
        "\n",
        "In Python, the method the __init__() simulates the constructor of the class. This method is called when the class is instantiated. It accepts the self-keyword as a first argument which allows accessing the attributes or method of the class.\n",
        "\n",
        "We can pass any number of arguments at the time of creating the class object, depending upon the __init__() definition. It is mostly used to initialize the class attributes. Every class must have a constructor, even if it simply relies on the default constructor."
      ]
    },
    {
      "cell_type": "code",
      "metadata": {
        "id": "0I0WKn_nJgY-",
        "colab": {
          "base_uri": "https://localhost:8080/"
        },
        "outputId": "535427b3-ae01-49a8-d38f-69fb3ce1faea"
      },
      "source": [
        "class cal:\n",
        "# self is  known as instance variable   \"here a ,b are local variable\"\n",
        "# __init__ is also known as constructor/initialization method.\n",
        "  def __init__(self,a=20,b=40):\n",
        "    self.m=a\n",
        "    self.n=b\n",
        "\n",
        "  def add(self):\n",
        "    print(self.m+self.n)\n",
        "\n",
        "s=cal(70,30)  #obj\n",
        "s.add()"
      ],
      "execution_count": null,
      "outputs": [
        {
          "output_type": "stream",
          "name": "stdout",
          "text": [
            "60\n"
          ]
        }
      ]
    },
    {
      "cell_type": "code",
      "source": [
        "class demo:\n",
        "  def __init__(self):\n",
        "    print(\"im a constructor\")\n",
        "\n",
        "d=demo()"
      ],
      "metadata": {
        "id": "YtLNKscUETj3",
        "colab": {
          "base_uri": "https://localhost:8080/"
        },
        "outputId": "3beabea7-74e5-45c7-b7b9-3fad6b567675"
      },
      "execution_count": null,
      "outputs": [
        {
          "output_type": "stream",
          "name": "stdout",
          "text": [
            "im a constructor\n"
          ]
        }
      ]
    },
    {
      "cell_type": "code",
      "metadata": {
        "id": "wywYo7kRMxxp",
        "colab": {
          "base_uri": "https://localhost:8080/"
        },
        "outputId": "6e4287fa-3726-4614-f2c5-f7ffdf380c7f"
      },
      "source": [
        "class person:\n",
        "  def __init__(self,name=\"python\"):\n",
        "    self.name=name\n",
        "# self.name is an instance variable(corresponds to the object when it is created),name is a local varable\n",
        "  def display(self):\n",
        "    print(\"hello\",self.name)\n",
        "\n",
        "p=person('abc')\n",
        "p.display()"
      ],
      "execution_count": null,
      "outputs": [
        {
          "output_type": "stream",
          "name": "stdout",
          "text": [
            "hello abc\n"
          ]
        }
      ]
    },
    {
      "cell_type": "markdown",
      "metadata": {
        "id": "Px7zRP_MwTql"
      },
      "source": [
        "Python Non-Parameterized Constructor\n",
        "\n",
        "The non-parameterized constructor uses when we do not want to manipulate the value or the constructor that has only self as an argument. Consider the following example."
      ]
    },
    {
      "cell_type": "code",
      "metadata": {
        "id": "_qvN2-nFwN6x",
        "colab": {
          "base_uri": "https://localhost:8080/"
        },
        "outputId": "7f4f9df1-2171-4197-85bf-24a78c650503"
      },
      "source": [
        "class Student:\n",
        "    # Constructor - non parameterized\n",
        "    def __init__(self):\n",
        "        print(\"This is non parametrized constructor\")\n",
        "    def show(self,name):\n",
        "        print(\"Hello\",name)\n",
        "student = Student()\n",
        "student.show('ram')"
      ],
      "execution_count": null,
      "outputs": [
        {
          "output_type": "stream",
          "name": "stdout",
          "text": [
            "This is non parametrized constructor\n",
            "Hello ram\n"
          ]
        }
      ]
    },
    {
      "cell_type": "markdown",
      "metadata": {
        "id": "tecJAdLDwcp_"
      },
      "source": [
        "Python Parameterized Constructor\n",
        "\n",
        "The parameterized constructor has multiple parameters along with the self."
      ]
    },
    {
      "cell_type": "code",
      "metadata": {
        "id": "bfusRvZMwkwx",
        "colab": {
          "base_uri": "https://localhost:8080/"
        },
        "outputId": "cd274ed9-ea19-4c03-cf5c-c4ed02e5e492"
      },
      "source": [
        "class Student:\n",
        "    # Constructor - parameterized\n",
        "    def __init__(self, name='boy'):\n",
        "        print(\"This is parametrized constructor\")\n",
        "        self.name = name\n",
        "    def show(self):\n",
        "        print(\"Hello\",self.name)\n",
        "student = Student('ram')\n",
        "student.show()"
      ],
      "execution_count": null,
      "outputs": [
        {
          "output_type": "stream",
          "name": "stdout",
          "text": [
            "This is parametrized constructor\n",
            "Hello ram\n"
          ]
        }
      ]
    },
    {
      "cell_type": "code",
      "metadata": {
        "id": "7nwG5Qm2w1x2",
        "colab": {
          "base_uri": "https://localhost:8080/"
        },
        "outputId": "93801873-b80c-4fbc-873e-d64d057e4295"
      },
      "source": [
        "class car:\n",
        "    def __init__(self,modelname=\"Maruti\", year=2018):\n",
        "        self.m = modelname\n",
        "        self.y = year\n",
        "    def display(self):\n",
        "        print(self.m,self.y,sep=\",\")\n",
        "\n",
        "c1 = car()\n",
        "c1.display()"
      ],
      "execution_count": null,
      "outputs": [
        {
          "output_type": "stream",
          "name": "stdout",
          "text": [
            "Maruti,2018\n"
          ]
        }
      ]
    },
    {
      "cell_type": "code",
      "source": [
        "# A Sample class with init method\n",
        "class Person:\n",
        "\n",
        "\t# init method or constructor\n",
        "\tdef __init__(self, name='abc'):\n",
        "\t\tself.name = name\n",
        "\n",
        "\t# Sample Method\n",
        "\tdef say_hi(self):\n",
        "\t\tprint('Hello, my name is', self.name)\n",
        "\n",
        "p = Person('nikil')\n",
        "p.say_hi()\n"
      ],
      "metadata": {
        "colab": {
          "base_uri": "https://localhost:8080/"
        },
        "id": "Ozzl4WexJaq5",
        "outputId": "25252150-101b-4469-81b9-be20a50fe4f2"
      },
      "execution_count": null,
      "outputs": [
        {
          "output_type": "stream",
          "name": "stdout",
          "text": [
            "Hello, my name is nikil\n"
          ]
        }
      ]
    },
    {
      "cell_type": "code",
      "source": [
        "class Rectangle:\n",
        "    def __init__(self, length, width):\n",
        "        self.length = length\n",
        "        self.width = width\n",
        "\n",
        "    def __str__(self):\n",
        "        return f\"Rectangle({self.length}, {self.width})\"\n",
        "\n",
        "    def __eq__(self, other):\n",
        "        return self.length == other.length and self.width == other.width\n",
        "\n",
        "    def area(self):\n",
        "        return self.length * self.width\n",
        "\n",
        "r1 = Rectangle(5, 10)\n",
        "r2 = Rectangle(10, 5)\n",
        "\n",
        "print(r1)  # Output: Rectangle(5, 10)\n",
        "print(r1 == r2)  # Output: False\n",
        "print(r1.area())  # Output: 50\n"
      ],
      "metadata": {
        "colab": {
          "base_uri": "https://localhost:8080/"
        },
        "id": "g2Tj4G87LfBO",
        "outputId": "c1e042b7-26ca-4418-aaa7-ad4ad1a9ba74"
      },
      "execution_count": null,
      "outputs": [
        {
          "output_type": "stream",
          "name": "stdout",
          "text": [
            "Rectangle(5, 10)\n",
            "False\n",
            "50\n"
          ]
        }
      ]
    },
    {
      "cell_type": "code",
      "source": [
        "class MyClass:\n",
        "    def __init__(self):\n",
        "        self.__myvar = 42\n",
        "\n",
        "obj = MyClass()\n",
        "\n",
        "# This will raise an AttributeError, because __myvar is \"hidden\"\n",
        "# print(obj.__myvar)\n",
        "\n",
        "# This will print the mangled name of __myvar\n",
        "print(MyClass.__dict__)\n",
        "\n",
        "# This will access the hidden variable using its mangled name\n",
        "print(obj._MyClass__myvar)  # Output: 42\n"
      ],
      "metadata": {
        "colab": {
          "base_uri": "https://localhost:8080/"
        },
        "id": "MkAhR1ujNby5",
        "outputId": "745f83d0-9962-4341-ec0d-8ca6c152ff04"
      },
      "execution_count": null,
      "outputs": [
        {
          "output_type": "stream",
          "name": "stdout",
          "text": [
            "{'__module__': '__main__', '__init__': <function MyClass.__init__ at 0x7f45644e8b80>, '__dict__': <attribute '__dict__' of 'MyClass' objects>, '__weakref__': <attribute '__weakref__' of 'MyClass' objects>, '__doc__': None}\n",
            "42\n"
          ]
        }
      ]
    },
    {
      "cell_type": "code",
      "source": [
        "class MyClass:\n",
        "    def __init__(self):\n",
        "        self.public_attr = 'public'\n",
        "        self._protected_attr = 'protected'\n",
        "        self.__private_attr = 'private'\n",
        "\n",
        "    def get_private_attr(self):\n",
        "        return self.__private_attr\n",
        "\n",
        "    def set_private_attr(self, value):\n",
        "        self.__private_attr = value\n",
        "\n",
        "obj = MyClass()\n",
        "\n",
        "# Public attribute, can be accessed from anywhere\n",
        "print(obj.public_attr)  # Output: 'public'\n",
        "\n",
        "# Protected attribute, can be accessed from within the class and its subclasses\n",
        "print(obj._protected_attr)  # Output: 'protected'\n",
        "\n",
        "# Private attribute, can only be accessed from within the class\n",
        "# This will raise an AttributeError, because __private_attr is \"hidden\"\n",
        "# print(obj.__private_attr)\n",
        "\n",
        "# Private attribute accessed using a getter method\n",
        "print(obj.get_private_attr())  # Output: 'private'\n",
        "\n",
        "# Private attribute modified using a setter method\n",
        "obj.set_private_attr('new value')\n",
        "print(obj.get_private_attr())  # Output: 'new value'\n"
      ],
      "metadata": {
        "id": "70X-OMD2Ob7m",
        "outputId": "0162cd04-a1f6-4696-dc99-8f7f52a285dc",
        "colab": {
          "base_uri": "https://localhost:8080/"
        }
      },
      "execution_count": null,
      "outputs": [
        {
          "output_type": "stream",
          "name": "stdout",
          "text": [
            "public\n",
            "protected\n",
            "private\n",
            "new value\n"
          ]
        }
      ]
    },
    {
      "cell_type": "code",
      "source": [
        "#__str__ command\n",
        "class Person:\n",
        "    def __init__(self, first_name, last_name, age):\n",
        "        self.first_name = first_name\n",
        "        self.last_name = last_name\n",
        "        self.age = age\n",
        "\n",
        "    def __str__(self):\n",
        "        return f'Person({self.first_name},{self.last_name},{self.age})'\n",
        "\n",
        "person = Person('John', 'Doe', 25)\n",
        "print(person)"
      ],
      "metadata": {
        "colab": {
          "base_uri": "https://localhost:8080/"
        },
        "id": "YDMorKxbWDVP",
        "outputId": "ce4d8948-17c9-4b28-8384-115e1e9fcfaa"
      },
      "execution_count": null,
      "outputs": [
        {
          "output_type": "stream",
          "name": "stdout",
          "text": [
            "Person(John,Doe,25)\n"
          ]
        }
      ]
    },
    {
      "cell_type": "code",
      "source": [
        "# Definig a class student, which contain\n",
        "# name and Roll number and marks of the student\n",
        "\n",
        "class Student():\n",
        "    def __init__(self, name, roll, marks):\n",
        "        self.name = name\n",
        "        self.roll = roll\n",
        "        self.marks = marks\n",
        "\n",
        "    def getmarks(self):\n",
        "        return self.marks\n",
        "\n",
        "    def getroll(self):\n",
        "        return self.roll\n",
        "\n",
        "    def __str__(self):\n",
        "        return self.name + ' : ' + str(self.getroll()) +'  ::'+  str(self.getmarks())\n",
        "\n",
        "# Defining a function for building a Record\n",
        "# which generates list of all the students\n",
        "def Markss(rec, name, roll, marks):\n",
        "    rec.append(Student(name, roll, marks))\n",
        "    return rec\n",
        "\n",
        "# Main Code\n",
        "Record = []\n",
        "x = 'y'\n",
        "while x == 'y':\n",
        "    name = input('Enter the name of the student: ')\n",
        "    height = input('Enter the roll number: ')\n",
        "    roll = input('Marks: ')\n",
        "    Record = Markss(Record, name, roll, height)\n",
        "    x = input('another student? y/n: ')\n",
        "\n",
        "# Printing the list of student\n",
        "n = 1\n",
        "for el in Record:\n",
        "    print(n,'. ', el)\n",
        "    n = n + 1\n"
      ],
      "metadata": {
        "colab": {
          "base_uri": "https://localhost:8080/"
        },
        "id": "etcqvQYnWcvT",
        "outputId": "92fdfb78-4a7a-4126-aedf-f28657966c9a"
      },
      "execution_count": null,
      "outputs": [
        {
          "output_type": "stream",
          "name": "stdout",
          "text": [
            "Enter the name of the student: abc\n",
            "Enter the roll number: 100\n",
            "Marks: 50\n",
            "another student? y/n: y\n",
            "Enter the name of the student: acc\n",
            "Enter the roll number: 101\n",
            "Marks: 60\n",
            "another student? y/n: n\n",
            "1 .  abc : 50  ::100\n",
            "2 .  acc : 60  ::101\n"
          ]
        }
      ]
    },
    {
      "cell_type": "code",
      "source": [
        "print(list(Record))"
      ],
      "metadata": {
        "colab": {
          "base_uri": "https://localhost:8080/"
        },
        "id": "0DPjezNV1MBX",
        "outputId": "a9217102-6ee3-4dbe-fe9a-20135f88869c"
      },
      "execution_count": null,
      "outputs": [
        {
          "output_type": "stream",
          "name": "stdout",
          "text": [
            "[<__main__.Student object at 0x7fc3f147a910>]\n"
          ]
        }
      ]
    },
    {
      "cell_type": "code",
      "metadata": {
        "id": "BhRvJTIps601"
      },
      "source": [
        "any()\n",
        "all()"
      ],
      "execution_count": null,
      "outputs": []
    },
    {
      "cell_type": "code",
      "source": [
        "def n(a,b,c):\n",
        "  print(a,b,c)\n",
        "\n",
        "name='abc'\n",
        "age=12\n",
        "cla=5\n",
        "\n",
        "n(name,age,cla)"
      ],
      "metadata": {
        "colab": {
          "base_uri": "https://localhost:8080/"
        },
        "id": "1rzaRRv7xR28",
        "outputId": "847be997-04c8-432c-942b-6f7969b63070"
      },
      "execution_count": null,
      "outputs": [
        {
          "output_type": "stream",
          "name": "stdout",
          "text": [
            "abc 12 5\n"
          ]
        }
      ]
    },
    {
      "cell_type": "code",
      "metadata": {
        "id": "VonEIKEZKFV6",
        "colab": {
          "base_uri": "https://localhost:8080/"
        },
        "outputId": "eb88387f-2733-4da1-ce98-4d9d3d333191"
      },
      "source": [
        "class demo():\n",
        "  a=10\n",
        "  b=20\n",
        "\n",
        "obj=demo()\n",
        "#dir(demo)\n",
        "x=isinstance(obj,demo)\n",
        "print(x)\n",
        "#print(x)\n",
        "#help(print)"
      ],
      "execution_count": null,
      "outputs": [
        {
          "output_type": "stream",
          "name": "stdout",
          "text": [
            "True\n"
          ]
        }
      ]
    },
    {
      "cell_type": "code",
      "metadata": {
        "id": "U-wcIg-hKW5C",
        "colab": {
          "base_uri": "https://localhost:8080/"
        },
        "outputId": "2729a9b7-6169-40dd-832c-0b1059b1fa93"
      },
      "source": [
        "#get attr\n",
        "class demo():\n",
        "  a=10\n",
        "  b=20\n",
        "\n",
        "obj=demo()\n",
        "getattr(demo,'a')\n",
        "print(obj.a)"
      ],
      "execution_count": null,
      "outputs": [
        {
          "output_type": "stream",
          "name": "stdout",
          "text": [
            "10\n"
          ]
        }
      ]
    },
    {
      "cell_type": "code",
      "metadata": {
        "id": "FLqlEHc8Kgo7",
        "colab": {
          "base_uri": "https://localhost:8080/"
        },
        "outputId": "f87f5e3a-17fd-47a2-d534-1dfe01f56e4e"
      },
      "source": [
        "#set attr\n",
        "class demo():\n",
        "  a=10\n",
        "  b=20\n",
        "\n",
        "obj=demo()\n",
        "setattr(obj,'c',30)\n",
        "getattr(obj,'c')\n",
        "dir(obj)"
      ],
      "execution_count": null,
      "outputs": [
        {
          "output_type": "execute_result",
          "data": {
            "text/plain": [
              "['__class__',\n",
              " '__delattr__',\n",
              " '__dict__',\n",
              " '__dir__',\n",
              " '__doc__',\n",
              " '__eq__',\n",
              " '__format__',\n",
              " '__ge__',\n",
              " '__getattribute__',\n",
              " '__gt__',\n",
              " '__hash__',\n",
              " '__init__',\n",
              " '__init_subclass__',\n",
              " '__le__',\n",
              " '__lt__',\n",
              " '__module__',\n",
              " '__ne__',\n",
              " '__new__',\n",
              " '__reduce__',\n",
              " '__reduce_ex__',\n",
              " '__repr__',\n",
              " '__setattr__',\n",
              " '__sizeof__',\n",
              " '__str__',\n",
              " '__subclasshook__',\n",
              " '__weakref__',\n",
              " 'a',\n",
              " 'b',\n",
              " 'c']"
            ]
          },
          "metadata": {},
          "execution_count": 2
        }
      ]
    },
    {
      "cell_type": "code",
      "metadata": {
        "id": "WRm_COmrK4Bw",
        "colab": {
          "base_uri": "https://localhost:8080/",
          "height": 176
        },
        "outputId": "6f8768e2-3435-4682-82de-91061bf06ed9"
      },
      "source": [
        "# delattr\n",
        "class demo():\n",
        "  a=10\n",
        "  b=20\n",
        "  c=30\n",
        "obj=demo()\n",
        "delattr(demo,\"c\")\n",
        "dir(obj)\n",
        "getattr(demo,'c')"
      ],
      "execution_count": null,
      "outputs": [
        {
          "output_type": "error",
          "ename": "AttributeError",
          "evalue": "type object 'demo' has no attribute 'c'",
          "traceback": [
            "\u001b[0;31m---------------------------------------------------------------------------\u001b[0m",
            "\u001b[0;31mAttributeError\u001b[0m                            Traceback (most recent call last)",
            "\u001b[0;32m<ipython-input-5-7f4dc0290fc7>\u001b[0m in \u001b[0;36m<cell line: 9>\u001b[0;34m()\u001b[0m\n\u001b[1;32m      7\u001b[0m \u001b[0mdelattr\u001b[0m\u001b[0;34m(\u001b[0m\u001b[0mdemo\u001b[0m\u001b[0;34m,\u001b[0m\u001b[0;34m\"c\"\u001b[0m\u001b[0;34m)\u001b[0m\u001b[0;34m\u001b[0m\u001b[0;34m\u001b[0m\u001b[0m\n\u001b[1;32m      8\u001b[0m \u001b[0mdir\u001b[0m\u001b[0;34m(\u001b[0m\u001b[0mobj\u001b[0m\u001b[0;34m)\u001b[0m\u001b[0;34m\u001b[0m\u001b[0;34m\u001b[0m\u001b[0m\n\u001b[0;32m----> 9\u001b[0;31m \u001b[0mgetattr\u001b[0m\u001b[0;34m(\u001b[0m\u001b[0mdemo\u001b[0m\u001b[0;34m,\u001b[0m\u001b[0;34m'c'\u001b[0m\u001b[0;34m)\u001b[0m\u001b[0;34m\u001b[0m\u001b[0;34m\u001b[0m\u001b[0m\n\u001b[0m",
            "\u001b[0;31mAttributeError\u001b[0m: type object 'demo' has no attribute 'c'"
          ]
        }
      ]
    },
    {
      "cell_type": "code",
      "source": [
        "a=[100,120]\n",
        "type(a)"
      ],
      "metadata": {
        "colab": {
          "base_uri": "https://localhost:8080/"
        },
        "id": "PPTegGQWIds6",
        "outputId": "3fb0a7c2-bb0a-45a4-ef52-2e57007840f8"
      },
      "execution_count": null,
      "outputs": [
        {
          "output_type": "execute_result",
          "data": {
            "text/plain": [
              "list"
            ]
          },
          "metadata": {},
          "execution_count": 9
        }
      ]
    },
    {
      "cell_type": "code",
      "metadata": {
        "id": "SEvASCzFxG1W"
      },
      "source": [
        "class Student():\n",
        "    def __init__(self, name):\n",
        "        self.name = name\n",
        "        self.tests = []\n",
        "\n",
        "    def __repr__(self):\n",
        "        return 'Student ({})'.format(self.name)\n",
        "\n",
        "    def __str__(self):\n",
        "        return 'Student with name of {}'.format(\n",
        "            self.name)\n",
        "\n",
        "    def __len__(self):\n",
        "        return len(self.tests)\n",
        "\n",
        "    def __getitem__(self, pos):\n",
        "        return self.tests[pos]\n",
        "\n",
        "    def __getattr__(self, item):\n",
        "        return \"Attr not found: \" + item.upper()\n",
        "\n",
        "    def __reversed__(self):\n",
        "        return self[::-1]\n",
        "\n",
        "    # Regular method to add test scores\n",
        "    def add_test(self, test_score):\n",
        "        self.tests.append(test_score)"
      ],
      "execution_count": null,
      "outputs": []
    },
    {
      "cell_type": "code",
      "source": [
        "bob = Student(\"Bob\")\n",
        "bob.add_test(50)\n",
        "bob.add_test(80)\n",
        "bob.add_test(90)\n",
        "bob.add_test(96)\n",
        "\n",
        "\n",
        "print (\"Bob repr string:\", repr(bob))\n",
        "print(\"Bob pretty string:\", bob)\n",
        "print (\"Length:\", len(bob))\n",
        "print (\"__getitem__:\", bob.__getitem__(2))\n",
        "print (\"__reversed__:\", bob.__reversed__())\n",
        "print (\"Test param:\", bob.name)"
      ],
      "metadata": {
        "colab": {
          "base_uri": "https://localhost:8080/"
        },
        "id": "UVZuGWc2yH56",
        "outputId": "a92282d6-e950-4d13-e065-ab52359854a3"
      },
      "execution_count": null,
      "outputs": [
        {
          "output_type": "stream",
          "name": "stdout",
          "text": [
            "Bob repr string: Student (Bob)\n",
            "Bob pretty string: Student with name of Bob\n",
            "Length: 4\n",
            "__getitem__: 90\n",
            "__reversed__: [96, 90, 80, 50]\n",
            "Test param: Bob\n"
          ]
        }
      ]
    },
    {
      "cell_type": "code",
      "metadata": {
        "id": "TQJiYn_EJEAc",
        "colab": {
          "base_uri": "https://localhost:8080/"
        },
        "outputId": "9d775f6a-5358-486a-c4e7-af2a3c170b72"
      },
      "source": [
        "a = [1, 4, 9, 16, 25, 36, 49, 64, 81, 100]\n",
        "b = [number for number in a if number % 2 == 0]\n",
        "\n",
        "print(b)"
      ],
      "execution_count": null,
      "outputs": [
        {
          "output_type": "stream",
          "text": [
            "[4, 16, 36, 64, 100]\n"
          ],
          "name": "stdout"
        }
      ]
    },
    {
      "cell_type": "code",
      "metadata": {
        "id": "AROmcPvXiTZP",
        "colab": {
          "base_uri": "https://localhost:8080/"
        },
        "outputId": "8eedf918-9894-4936-d5f2-a86a47dbfdfb"
      },
      "source": [
        "class Human:\n",
        "    def __init__(self, n='farmer', o='agri'):\n",
        "        self.name = n\n",
        "        self.occupation = o\n",
        "\n",
        "    def do_work(self):\n",
        "        if self.occupation == \"tennis player\":\n",
        "            print(self.name, \"plays tennis\")\n",
        "        elif self.occupation == \"actor\":\n",
        "            print(self.name, \"shoots film\")\n",
        "        elif self.occupation ==\"agri\":\n",
        "            print(self.name,\"does agri\")\n",
        "    def speaks(self):\n",
        "        print(self.name, \"says how are you?\")\n",
        "\n",
        "tom = Human()\n",
        "tom.do_work()\n",
        "tom.speaks()\n",
        "\n",
        "maria = Human(\"maria sharapova\",\"tennis player\")\n",
        "maria.do_work()\n",
        "maria.speaks()\n",
        "\n",
        "john=Human('John','actor')\n",
        "john.do_work()\n",
        "john.speaks()"
      ],
      "execution_count": null,
      "outputs": [
        {
          "output_type": "stream",
          "name": "stdout",
          "text": [
            "farmer does agri\n",
            "farmer says how are you?\n",
            "maria sharapova plays tennis\n",
            "maria sharapova says how are you?\n",
            "John shoots film\n",
            "John says how are you?\n"
          ]
        }
      ]
    },
    {
      "cell_type": "code",
      "metadata": {
        "colab": {
          "base_uri": "https://localhost:8080/"
        },
        "id": "koJ__ZFPMA5M",
        "outputId": "56436e87-7ba2-4af8-b13f-70ba528a9084"
      },
      "source": [
        "# program to illustrate access modifiers of a class\n",
        "\n",
        "# super class\n",
        "class Super:\n",
        "\n",
        "\t# public data member\n",
        "\tvar1 = None\n",
        "\n",
        "\t# protected data member\n",
        "\t_var2 = None\n",
        "\n",
        "\t# private data member\n",
        "\t__var3 = None\n",
        "\n",
        "\t# constructor\n",
        "\tdef __init__(self, var1, var2, var3):\n",
        "\t\tself.var1 = var1\n",
        "\t\tself._var2 = var2\n",
        "\t\tself.__var3 = var3\n",
        "\n",
        "\t# public member function\n",
        "\tdef displayPublicMembers(self):\n",
        "\n",
        "\t\t# accessing public data members\n",
        "\t\tprint(\"Public Data Member: \", self.var1)\n",
        "\n",
        "\t# protected member function\n",
        "\tdef _displayProtectedMembers(self):\n",
        "\n",
        "\t\t# accessing protected data members\n",
        "\t\tprint(\"Protected Data Member: \", self._var2)\n",
        "\n",
        "\t# private member function\n",
        "\tdef __displayPrivateMembers(self):\n",
        "\n",
        "\t\t# accessing private data members\n",
        "\t\tprint(\"Private Data Member: \", self.__var3)\n",
        "\n",
        "\t# public member function\n",
        "\tdef accessPrivateMembers(self):\n",
        "\n",
        "\t\t# accessing private memeber function\n",
        "\t\tself.__displayPrivateMembers()\n",
        "\n",
        "# derived class\n",
        "class Sub(Super):\n",
        "\n",
        "\t# constructor\n",
        "\tdef __init__(self, var1, var2, var3):\n",
        "\t\t\t\tSuper.__init__(self, var1, var2, var3)\n",
        "\n",
        "\t# public member function\n",
        "\tdef accessProtectedMemebers(self):\n",
        "\n",
        "\t\t\t\t# accessing protected member functions of super class\n",
        "\t\t\t\tself._displayProtectedMembers()\n",
        "\n",
        "# creating objects of the derived class\n",
        "obj = Sub(\"Welcome\", \"to\", \"Python\")\n",
        "\n",
        "# calling public member functions of the class\n",
        "obj.displayPublicMembers()\n",
        "obj.accessProtectedMemebers()\n",
        "obj.accessPrivateMembers()\n",
        "\n",
        "# Object can access protected member\n",
        "print(\"Object is accessing protected member:\", obj._var2)\n",
        "\n",
        "# object can not Directly access private member, so it will generate Attribute error\n",
        "#print(obj.__var3)\n"
      ],
      "execution_count": null,
      "outputs": [
        {
          "output_type": "stream",
          "text": [
            "Public Data Member:  Welcome\n",
            "Protected Data Member:  to\n",
            "Private Data Member:  Python\n",
            "Object is accessing protected member: to\n"
          ],
          "name": "stdout"
        }
      ]
    },
    {
      "cell_type": "code",
      "metadata": {
        "id": "2uZ2P50UuM9Y",
        "colab": {
          "base_uri": "https://localhost:8080/"
        },
        "outputId": "f6c1bef4-5fb4-49be-fcba-82596189b20e"
      },
      "source": [
        "a=[1,2]\n",
        "b=a\n",
        "print(b)\n",
        "b+=[3,4]\n",
        "print(a)"
      ],
      "execution_count": null,
      "outputs": [
        {
          "output_type": "stream",
          "text": [
            "[1, 2]\n",
            "[1, 2, [3, 4]]\n"
          ],
          "name": "stdout"
        }
      ]
    },
    {
      "cell_type": "code",
      "metadata": {
        "colab": {
          "base_uri": "https://localhost:8080/"
        },
        "id": "MeBUgqBFsF55",
        "outputId": "00c5fdc1-e029-494c-d6c0-a341e42457d1"
      },
      "source": [
        "a=1\n",
        "b=a\n",
        "b+=1\n",
        "print(b)"
      ],
      "execution_count": null,
      "outputs": [
        {
          "output_type": "stream",
          "text": [
            "2\n"
          ],
          "name": "stdout"
        }
      ]
    }
  ]
}
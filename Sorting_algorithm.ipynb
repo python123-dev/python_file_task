{
  "nbformat": 4,
  "nbformat_minor": 0,
  "metadata": {
    "colab": {
      "provenance": []
    },
    "kernelspec": {
      "name": "python3",
      "display_name": "Python 3"
    },
    "language_info": {
      "name": "python"
    }
  },
  "cells": [
    {
      "cell_type": "code",
      "source": [
        "# Insert value into BST (tree is a nested list)\n",
        "def insert(tree, value):\n",
        "    if not tree:\n",
        "        tree += [value, [], []]  # Create new node\n",
        "    elif value < tree[0]:\n",
        "        insert(tree[1], value)  # Go to left subtree\n",
        "    else:\n",
        "        insert(tree[2], value)  # Go to right subtree\n",
        "\n",
        "# Inorder traversal to print sorted values\n",
        "def inorder(tree):\n",
        "    if tree:\n",
        "        inorder(tree[1])\n",
        "        print(tree[0], end=' ')\n",
        "        inorder(tree[2])\n",
        "\n",
        "# Example usage\n",
        "bst = []  # Empty BST\n",
        "# values = [50, 30, 70, 20, 40, 60, 80]\n",
        "values=[47,21,76,52,82,18,27]\n",
        "for v in values:\n",
        "    insert(bst, v)\n",
        "\n",
        "print(\"Inorder Traversal of BST:\")\n",
        "inorder(bst)\n",
        "print(bst)\n"
      ],
      "metadata": {
        "colab": {
          "base_uri": "https://localhost:8080/"
        },
        "id": "SQ45xOJSaBJr",
        "outputId": "05ceb23c-d13f-477f-c59c-1ecdde0f3cb1"
      },
      "execution_count": 4,
      "outputs": [
        {
          "output_type": "stream",
          "name": "stdout",
          "text": [
            "Inorder Traversal of BST:\n",
            "18 21 27 47 52 76 82 [47, [21, [18, [], []], [27, [], []]], [76, [52, [], []], [82, [], []]]]\n"
          ]
        }
      ]
    },
    {
      "cell_type": "markdown",
      "source": [
        "        50\n",
        "\n",
        "       /  \\\n",
        "     30    70\n",
        "\n",
        "    / \\    / \\\n",
        "\n",
        "   20 40  60  80\n"
      ],
      "metadata": {
        "id": "1fgH_C8PagTG"
      }
    },
    {
      "cell_type": "code",
      "execution_count": null,
      "metadata": {
        "colab": {
          "base_uri": "https://localhost:8080/"
        },
        "id": "6uSkVVvxeLnI",
        "outputId": "471f831e-8b0d-4f77-9fb2-b3fc4b47c747"
      },
      "outputs": [
        {
          "output_type": "execute_result",
          "data": {
            "text/plain": [
              "[-5, -3, -3, 1, 2, 2, 2, 3, 7]"
            ]
          },
          "metadata": {},
          "execution_count": 1
        }
      ],
      "source": [
        "#bubble sort\n",
        "\n",
        "l=[-5,3,2,1,-3,-3,7,2,2] #bubble\n",
        "\n",
        "sorted=False\n",
        "while not sorted:\n",
        "    sorted=True\n",
        "    for i in range(len(l)-1):\n",
        "        if l[i]>l[i+1]:\n",
        "            l[i],l[i+1]=l[i+1],l[i]\n",
        "            sorted=False\n",
        "\n",
        "l"
      ]
    },
    {
      "cell_type": "code",
      "source": [
        "#insertion sort\n",
        "\n",
        "l=[23,-5,3,2,1,-3,-3,7,2,2]\n",
        "\n",
        "def insertion_sort(arr):\n",
        "  n=len(arr)\n",
        "  for i in range(1,n):\n",
        "    for j in range(i,0,-1):\n",
        "      if arr[j-1] >arr[j]:\n",
        "        arr[j-1],arr[j]=arr[j],arr[j-1]\n",
        "      else:\n",
        "        break\n",
        "\n",
        "\n",
        "insertion_sort(l)\n",
        "l"
      ],
      "metadata": {
        "colab": {
          "base_uri": "https://localhost:8080/"
        },
        "id": "BAadp40AfCpK",
        "outputId": "74c44f09-cfba-4d33-83ac-3895539faf25"
      },
      "execution_count": null,
      "outputs": [
        {
          "output_type": "execute_result",
          "data": {
            "text/plain": [
              "[-5, -3, -3, 1, 2, 2, 2, 3, 7, 23]"
            ]
          },
          "metadata": {},
          "execution_count": 3
        }
      ]
    },
    {
      "cell_type": "code",
      "source": [
        "#selection sort\n",
        "\n",
        "l=[23,-5,3,2,1,-3,-3,7,2,2]\n",
        "\n",
        "def selection_sort(arr):\n",
        "  n=len(arr)\n",
        "  for i in range(n):\n",
        "    min_index=i\n",
        "    for j in range(i+1,n):\n",
        "      if arr[j]<arr[min_index]:\n",
        "        min_index=j\n",
        "    arr[i],arr[min_index]=arr[min_index],arr[i]\n",
        "\n",
        "selection_sort(l)\n",
        "l"
      ],
      "metadata": {
        "colab": {
          "base_uri": "https://localhost:8080/"
        },
        "id": "P1S2kyypia7P",
        "outputId": "c8025e78-aa33-4d65-872a-59dff06369d9"
      },
      "execution_count": null,
      "outputs": [
        {
          "output_type": "execute_result",
          "data": {
            "text/plain": [
              "[-5, -3, -3, 1, 2, 2, 2, 3, 7, 23]"
            ]
          },
          "metadata": {},
          "execution_count": 4
        }
      ]
    },
    {
      "cell_type": "code",
      "source": [
        "#quick_sort\n",
        "\n",
        "l=[23,-5,3,2,1,-3,-3,7,2,2]\n",
        "\n",
        "def quicksort(arr):\n",
        "  if len(arr)<=1:\n",
        "    return arr\n",
        "  pivot=arr[0]\n",
        "  left=[x for x in arr[1:] if x<=pivot]\n",
        "  right=[x for x in arr[1:] if x>pivot]\n",
        "  #return quicksort(left)+[pivot]+quicksort(right)\n",
        "  l=quicksort(left)\n",
        "  r=quicksort(right)\n",
        "\n",
        "  return l+[pivot]+r\n",
        "\n",
        "sort_arr=quicksort(l)\n",
        "\n",
        "sort_arr"
      ],
      "metadata": {
        "colab": {
          "base_uri": "https://localhost:8080/"
        },
        "id": "-_FOj1WviehH",
        "outputId": "1d26fb3c-03fa-4f9d-c5a7-1da56f730f10"
      },
      "execution_count": null,
      "outputs": [
        {
          "output_type": "execute_result",
          "data": {
            "text/plain": [
              "[-5, -3, -3, 1, 2, 2, 2, 3, 7, 23]"
            ]
          },
          "metadata": {},
          "execution_count": 9
        }
      ]
    },
    {
      "cell_type": "code",
      "source": [
        "#Counting Sort\n",
        "\n",
        "l=[5,3,2,1,3,3,7,2,2]\n",
        "\n",
        "def counting_sort(arr):\n",
        "  max_val=max(arr)\n",
        "  count=[0]*(max_val+1)\n",
        "  for num in arr:\n",
        "    count[num]+=1\n",
        "    print(count)\n",
        "  i=0\n",
        "  for c in range(max_val+1):\n",
        "    while count[c]>0:\n",
        "      arr[i]=c\n",
        "      i+=1\n",
        "      count[c]-=1\n",
        "\n",
        "counting_sort(l)\n",
        "l\n"
      ],
      "metadata": {
        "colab": {
          "base_uri": "https://localhost:8080/"
        },
        "id": "ezlrBumvlfqy",
        "outputId": "1098626d-c605-48f4-f938-72ba8b81c1f6"
      },
      "execution_count": null,
      "outputs": [
        {
          "output_type": "stream",
          "name": "stdout",
          "text": [
            "[0, 0, 0, 0, 0, 1, 0, 0]\n",
            "[0, 0, 0, 1, 0, 1, 0, 0]\n",
            "[0, 0, 1, 1, 0, 1, 0, 0]\n",
            "[0, 1, 1, 1, 0, 1, 0, 0]\n",
            "[0, 1, 1, 2, 0, 1, 0, 0]\n",
            "[0, 1, 1, 3, 0, 1, 0, 0]\n",
            "[0, 1, 1, 3, 0, 1, 0, 1]\n",
            "[0, 1, 2, 3, 0, 1, 0, 1]\n",
            "[0, 1, 3, 3, 0, 1, 0, 1]\n"
          ]
        },
        {
          "output_type": "execute_result",
          "data": {
            "text/plain": [
              "[1, 2, 2, 2, 3, 3, 3, 5, 7]"
            ]
          },
          "metadata": {},
          "execution_count": 10
        }
      ]
    },
    {
      "cell_type": "code",
      "source": [
        "def merge_sort(arr):\n",
        "    if len(arr) <= 1:\n",
        "        return arr  # Base case: Already sorted\n",
        "\n",
        "    # Step 1: Split the array into two halves\n",
        "    mid = len(arr) // 2\n",
        "    left_half = merge_sort(arr[:mid])\n",
        "    right_half = merge_sort(arr[mid:])\n",
        "\n",
        "    # Step 2: Merge the sorted halves\n",
        "    return merge(left_half, right_half)\n",
        "\n",
        "def merge(left, right):\n",
        "    sorted_list = []\n",
        "    i = j = 0  # Pointers for left and right lists\n",
        "\n",
        "    # Step 3: Compare elements and merge in sorted order\n",
        "    while i < len(left) and j < len(right):\n",
        "        if left[i] < right[j]:\n",
        "            sorted_list.append(left[i])\n",
        "            i += 1\n",
        "        else:\n",
        "            sorted_list.append(right[j])\n",
        "            j += 1\n",
        "\n",
        "    # Step 4: Add any remaining elements\n",
        "    sorted_list.extend(left[i:])\n",
        "    sorted_list.extend(right[j:])\n",
        "\n",
        "    return sorted_list\n",
        "\n",
        "# 🔹 Test it out\n",
        "arr = [38, 27, 43, 3, 9, 82, 10]\n",
        "print(\"Sorted Array:\", merge_sort(arr))\n"
      ],
      "metadata": {
        "id": "tz9mLuswrx5m",
        "outputId": "c9b1f516-2877-4288-a661-0ec5354abc3f",
        "colab": {
          "base_uri": "https://localhost:8080/"
        }
      },
      "execution_count": null,
      "outputs": [
        {
          "output_type": "stream",
          "name": "stdout",
          "text": [
            "Sorted Array: [3, 9, 10, 27, 38, 43, 82]\n"
          ]
        }
      ]
    },
    {
      "cell_type": "code",
      "source": [
        "def binary_search(sequence, item):\n",
        "    begin_index = 0\n",
        "    end_index = len(sequence) - 1\n",
        "\n",
        "    while begin_index <= end_index:\n",
        "        midpoint = begin_index + (end_index - begin_index) // 2\n",
        "        midpoint_value = sequence[midpoint]\n",
        "        if midpoint_value == item:\n",
        "            return midpoint\n",
        "\n",
        "        elif item < midpoint_value:\n",
        "            end_index = midpoint - 1\n",
        "\n",
        "        else:\n",
        "            begin_index = midpoint + 1\n",
        "\n",
        "    return None\n",
        "\n",
        "sequence_a = [2,4,5,6,7,8,9,10,12,13,14]\n",
        "item_a = 4\n",
        "\n",
        "\n",
        "print(binary_search(sequence_a, item_a))"
      ],
      "metadata": {
        "id": "UjsAWbNUOj3s"
      },
      "execution_count": null,
      "outputs": []
    },
    {
      "cell_type": "code",
      "source": [
        "# Binary Search in python\n",
        "\n",
        "\n",
        "def binarySearch(array, x, low, high):\n",
        "\n",
        "    # Repeat until the pointers low and high meet each other\n",
        "    while low <= high:\n",
        "\n",
        "        mid = low + (high - low)//2\n",
        "\n",
        "        if x == array[mid]:\n",
        "            return mid\n",
        "\n",
        "        elif x > array[mid]:\n",
        "            low = mid + 1\n",
        "\n",
        "        else:\n",
        "            high = mid - 1\n",
        "\n",
        "    return -1\n",
        "\n",
        "\n",
        "array = [3, 4, 5, 6, 7, 8, 9]\n",
        "x = 4\n",
        "\n",
        "result = binarySearch(array, x, 0, len(array)-1)\n",
        "\n",
        "if result != -1:\n",
        "    print(\"Element is present at index \" + str(result))\n",
        "else:\n",
        "    print(\"Not found\")"
      ],
      "metadata": {
        "id": "Rv3OE22lOoie"
      },
      "execution_count": null,
      "outputs": []
    }
  ]
}